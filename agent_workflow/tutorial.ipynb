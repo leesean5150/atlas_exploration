{
 "cells": [
  {
   "cell_type": "markdown",
   "metadata": {},
   "source": [
    "## LangGraph: Multi-Agent Workflows tutorial"
   ]
  },
  {
   "cell_type": "markdown",
   "metadata": {},
   "source": [
    "### Multi-agent supervisor\n",
    "\n",
    "Using an LLM to orchestrate the different agents.\n",
    "\n",
    "![multi agent collaboration flowchart](images/multi-agent-collaboration.png)\n"
   ]
  },
  {
   "cell_type": "markdown",
   "metadata": {},
   "source": [
    "### Create Tools\n",
    "In this case, an agent to do web research with a search engine, and another to create plots. These two agents will make use of the tools below"
   ]
  },
  {
   "cell_type": "code",
   "execution_count": 1,
   "metadata": {},
   "outputs": [],
   "source": [
    "from typing import Annotated\n",
    "\n",
    "from langchain_community.tools.tavily_search import TavilySearchResults\n",
    "from langchain_experimental.tools import PythonREPLTool\n",
    "\n",
    "tavily_tool = TavilySearchResults(max_results=5)\n",
    "\n",
    "# this tool can be unsafe because code is executed locally\n",
    "python_repl_tool = PythonREPLTool()"
   ]
  },
  {
   "cell_type": "markdown",
   "metadata": {},
   "source": [
    "### Helper Utilities\n",
    "A helper function to create nodes in the graph. It converts the agent response to a human message, which is important when adding it to the global state of the graph."
   ]
  },
  {
   "cell_type": "code",
   "execution_count": 2,
   "metadata": {},
   "outputs": [],
   "source": [
    "from langchain_core.messages import HumanMessage\n",
    "\n",
    "def agent_node(state, agent, name):\n",
    "    result = agent.invoke(state)\n",
    "    return {\n",
    "        \"messages\": [HumanMessage(content=result[\"messages\"][-1].content, name=name)]\n",
    "    }"
   ]
  },
  {
   "cell_type": "markdown",
   "metadata": {},
   "source": [
    "### Create Supervisor Agent\n",
    "\n",
    "Use function calling to choose the next worker node or to finish processing"
   ]
  },
  {
   "cell_type": "code",
   "execution_count": 3,
   "metadata": {},
   "outputs": [],
   "source": [
    "from langchain_core.prompts import ChatPromptTemplate, MessagesPlaceholder\n",
    "from langchain_openai import ChatOpenAI\n",
    "from pydantic import BaseModel\n",
    "from typing import Literal, List, Tuple\n",
    "\n",
    "members = [\"Researcher\", \"Coder\"]\n",
    "system_prompt = (\n",
    "    \"You are a supervisor tasked with managing a conversation between the\"\n",
    "    \"following workers: {members}. Given the following user request,\"\n",
    "    \"respond with the worker to act next. Each worker will perform a\"\n",
    "    \"task and respond with their results and status. When finished ,\"\n",
    "    \"respond with FINISH\"\n",
    ") \n",
    "\n",
    "options = [\"FINISH\"] + members\n",
    "\n",
    "# if using python version >= 3.11\n",
    "# class routeResponse(BaseModel):\n",
    "#     next: Literal[*options]\n",
    "\n",
    "class routeResponse(BaseModel):\n",
    "    next: Literal[\"FINISH\", \"Researcher\", \"Coder\"]\n",
    "\n",
    "prompt = ChatPromptTemplate.from_messages(\n",
    "    [\n",
    "        (\"system\", system_prompt),\n",
    "        MessagesPlaceholder(variable_name=\"messages\"),\n",
    "        (\n",
    "            \"system\",\n",
    "            \"Given the conversation above, who should act next?\"\n",
    "            \"Or should we FINISH? Select on of: {options}\",\n",
    "        ),\n",
    "    ]\n",
    ").partial(options=str(options), members=\", \".join(members))\n",
    "\n",
    "llm = ChatOpenAI(model=\"gpt-3.5-turbo\")\n",
    "\n",
    "def supervisor_agent(state):\n",
    "    supervisor_chain = prompt | llm.with_structured_output(routeResponse)\n",
    "    return supervisor_chain.invoke(state)"
   ]
  },
  {
   "cell_type": "markdown",
   "metadata": {},
   "source": [
    "### Graph Construction"
   ]
  },
  {
   "cell_type": "code",
   "execution_count": 4,
   "metadata": {},
   "outputs": [
    {
     "data": {
      "text/plain": [
       "<langgraph.graph.state.StateGraph at 0x7f3e27e1fc70>"
      ]
     },
     "execution_count": 4,
     "metadata": {},
     "output_type": "execute_result"
    }
   ],
   "source": [
    "import functools\n",
    "import operator\n",
    "from typing import Sequence\n",
    "from typing_extensions import TypedDict\n",
    "\n",
    "from langchain_core.messages import BaseMessage\n",
    "\n",
    "from langgraph.graph import END, StateGraph, START\n",
    "from langgraph.prebuilt import create_react_agent\n",
    "\n",
    "#  The AgentState is the input to each node in the graph\n",
    "class AgentState(TypedDict):\n",
    "    # This annotation tells the graph that new messages will always be added to the current states\n",
    "    messages: Annotated[Sequence[BaseMessage], operator.add]\n",
    "    # The 'next' field indicated where to route to next\n",
    "    next: str\n",
    "\n",
    "research_agent = create_react_agent(llm, tools=[tavily_tool])\n",
    "research_node = functools.partial(agent_node, agent=research_agent, name=\"Researcher\")\n",
    "\n",
    "# NOTE: THIS PERFORMS ARBITRARY CODE EXECUTION. PROCEED WITH CAUTION\n",
    "code_agent = create_react_agent(llm, tools=[python_repl_tool])\n",
    "code_node = functools.partial(agent_node, agent=code_agent, name=\"Coder\")\n",
    "\n",
    "workflow = StateGraph(AgentState)\n",
    "workflow.add_node(\"Researcher\", research_node)\n",
    "workflow.add_node(\"Coder\", code_node)\n",
    "workflow.add_node(\"Supervisor\", supervisor_agent)"
   ]
  },
  {
   "cell_type": "markdown",
   "metadata": {},
   "source": [
    "Next, we connect the edges"
   ]
  },
  {
   "cell_type": "code",
   "execution_count": 5,
   "metadata": {},
   "outputs": [
    {
     "data": {
      "image/jpeg": "[encoded data removed]",
      "text/plain": [
       "<IPython.core.display.Image object>"
      ]
     },
     "metadata": {},
     "output_type": "display_data"
    }
   ],
   "source": [
    "from IPython.display import Image, display\n",
    "\n",
    "for member in members:\n",
    "    # We always want our workers to report back to the supervisor when done\n",
    "    workflow.add_edge(member, \"Supervisor\")\n",
    "# assume the supervisor populates the \"next\" field in the graph state which routes either to the next node or finishes\n",
    "conditional_map = {k: k for k in members}\n",
    "conditional_map[\"FINISH\"] = END\n",
    "\n",
    "# setup the conditions for travelling to each agent by checking the \"next\" field that is populated by the supervisor agent\n",
    "workflow.add_conditional_edges(\"Supervisor\", lambda x: x[\"next\"], conditional_map)\n",
    "\n",
    "# add the entrypoint to thee workflow\n",
    "workflow.add_edge(START, \"Supervisor\")\n",
    "\n",
    "graph = workflow.compile()\n",
    "\n",
    "try:\n",
    "    display(Image(graph.get_graph().draw_mermaid_png()))\n",
    "except Exception as e:\n",
    "    print(e)"
   ]
  },
  {
   "cell_type": "markdown",
   "metadata": {},
   "source": [
    "### Testing Code Agent"
   ]
  },
  {
   "cell_type": "code",
   "execution_count": 6,
   "metadata": {},
   "outputs": [
    {
     "data": {
      "text/html": [
       "<pre style=\"white-space:pre;overflow-x:auto;line-height:normal;font-family:Menlo,'DejaVu Sans Mono',consolas,'Courier New',monospace\"><span style=\"font-weight: bold\">{</span><span style=\"color: #008000; text-decoration-color: #008000\">'Supervisor'</span>: <span style=\"font-weight: bold\">{</span><span style=\"color: #008000; text-decoration-color: #008000\">'next'</span>: <span style=\"color: #008000; text-decoration-color: #008000\">'Coder'</span><span style=\"font-weight: bold\">}}</span>\n",
       "</pre>\n"
      ],
      "text/plain": [
       "\u001b[1m{\u001b[0m\u001b[32m'Supervisor'\u001b[0m: \u001b[1m{\u001b[0m\u001b[32m'next'\u001b[0m: \u001b[32m'Coder'\u001b[0m\u001b[1m}\u001b[0m\u001b[1m}\u001b[0m\n"
      ]
     },
     "metadata": {},
     "output_type": "display_data"
    },
    {
     "data": {
      "text/html": [
       "<pre style=\"white-space:pre;overflow-x:auto;line-height:normal;font-family:Menlo,'DejaVu Sans Mono',consolas,'Courier New',monospace\">----\n",
       "</pre>\n"
      ],
      "text/plain": [
       "----\n"
      ]
     },
     "metadata": {},
     "output_type": "display_data"
    },
    {
     "name": "stderr",
     "output_type": "stream",
     "text": [
      "Python REPL can execute arbitrary code. Use with caution.\n"
     ]
    },
    {
     "data": {
      "text/html": [
       "<pre style=\"white-space:pre;overflow-x:auto;line-height:normal;font-family:Menlo,'DejaVu Sans Mono',consolas,'Courier New',monospace\"><span style=\"font-weight: bold\">{</span>\n",
       "    <span style=\"color: #008000; text-decoration-color: #008000\">'Coder'</span>: <span style=\"font-weight: bold\">{</span>\n",
       "        <span style=\"color: #008000; text-decoration-color: #008000\">'messages'</span>: <span style=\"font-weight: bold\">[</span>\n",
       "            <span style=\"color: #800080; text-decoration-color: #800080; font-weight: bold\">HumanMessage</span><span style=\"font-weight: bold\">(</span>\n",
       "                <span style=\"color: #808000; text-decoration-color: #808000\">content</span>=<span style=\"color: #008000; text-decoration-color: #008000\">'The code \"Hello, World!\" has been printed to the terminal.'</span>,\n",
       "                <span style=\"color: #808000; text-decoration-color: #808000\">additional_kwargs</span>=<span style=\"font-weight: bold\">{}</span>,\n",
       "                <span style=\"color: #808000; text-decoration-color: #808000\">response_metadata</span>=<span style=\"font-weight: bold\">{}</span>,\n",
       "                <span style=\"color: #808000; text-decoration-color: #808000\">name</span>=<span style=\"color: #008000; text-decoration-color: #008000\">'Coder'</span>\n",
       "            <span style=\"font-weight: bold\">)</span>\n",
       "        <span style=\"font-weight: bold\">]</span>\n",
       "    <span style=\"font-weight: bold\">}</span>\n",
       "<span style=\"font-weight: bold\">}</span>\n",
       "</pre>\n"
      ],
      "text/plain": [
       "\u001b[1m{\u001b[0m\n",
       "    \u001b[32m'Coder'\u001b[0m: \u001b[1m{\u001b[0m\n",
       "        \u001b[32m'messages'\u001b[0m: \u001b[1m[\u001b[0m\n",
       "            \u001b[1;35mHumanMessage\u001b[0m\u001b[1m(\u001b[0m\n",
       "                \u001b[33mcontent\u001b[0m=\u001b[32m'The code \"Hello, World!\" has been printed to the terminal.'\u001b[0m,\n",
       "                \u001b[33madditional_kwargs\u001b[0m=\u001b[1m{\u001b[0m\u001b[1m}\u001b[0m,\n",
       "                \u001b[33mresponse_metadata\u001b[0m=\u001b[1m{\u001b[0m\u001b[1m}\u001b[0m,\n",
       "                \u001b[33mname\u001b[0m=\u001b[32m'Coder'\u001b[0m\n",
       "            \u001b[1m)\u001b[0m\n",
       "        \u001b[1m]\u001b[0m\n",
       "    \u001b[1m}\u001b[0m\n",
       "\u001b[1m}\u001b[0m\n"
      ]
     },
     "metadata": {},
     "output_type": "display_data"
    },
    {
     "data": {
      "text/html": [
       "<pre style=\"white-space:pre;overflow-x:auto;line-height:normal;font-family:Menlo,'DejaVu Sans Mono',consolas,'Courier New',monospace\">----\n",
       "</pre>\n"
      ],
      "text/plain": [
       "----\n"
      ]
     },
     "metadata": {},
     "output_type": "display_data"
    },
    {
     "data": {
      "text/html": [
       "<pre style=\"white-space:pre;overflow-x:auto;line-height:normal;font-family:Menlo,'DejaVu Sans Mono',consolas,'Courier New',monospace\"><span style=\"font-weight: bold\">{</span><span style=\"color: #008000; text-decoration-color: #008000\">'Supervisor'</span>: <span style=\"font-weight: bold\">{</span><span style=\"color: #008000; text-decoration-color: #008000\">'next'</span>: <span style=\"color: #008000; text-decoration-color: #008000\">'FINISH'</span><span style=\"font-weight: bold\">}}</span>\n",
       "</pre>\n"
      ],
      "text/plain": [
       "\u001b[1m{\u001b[0m\u001b[32m'Supervisor'\u001b[0m: \u001b[1m{\u001b[0m\u001b[32m'next'\u001b[0m: \u001b[32m'FINISH'\u001b[0m\u001b[1m}\u001b[0m\u001b[1m}\u001b[0m\n"
      ]
     },
     "metadata": {},
     "output_type": "display_data"
    },
    {
     "data": {
      "text/html": [
       "<pre style=\"white-space:pre;overflow-x:auto;line-height:normal;font-family:Menlo,'DejaVu Sans Mono',consolas,'Courier New',monospace\">----\n",
       "</pre>\n"
      ],
      "text/plain": [
       "----\n"
      ]
     },
     "metadata": {},
     "output_type": "display_data"
    }
   ],
   "source": [
    "from rich import print as rprint\n",
    "\n",
    "for s in graph.stream(\n",
    "    {\n",
    "        \"messages\": [\n",
    "            HumanMessage(content=\"Code hello world and print it to the terminal\")\n",
    "        ]\n",
    "    }\n",
    "):\n",
    "    if \"__end__\" not in s:\n",
    "        rprint(s)\n",
    "        rprint(\"----\")"
   ]
  },
  {
   "cell_type": "markdown",
   "metadata": {},
   "source": [
    "### Testing Research Agent "
   ]
  },
  {
   "cell_type": "code",
   "execution_count": 7,
   "metadata": {},
   "outputs": [
    {
     "data": {
      "text/html": [
       "<pre style=\"white-space:pre;overflow-x:auto;line-height:normal;font-family:Menlo,'DejaVu Sans Mono',consolas,'Courier New',monospace\"><span style=\"font-weight: bold\">{</span><span style=\"color: #008000; text-decoration-color: #008000\">'Supervisor'</span>: <span style=\"font-weight: bold\">{</span><span style=\"color: #008000; text-decoration-color: #008000\">'next'</span>: <span style=\"color: #008000; text-decoration-color: #008000\">'Researcher'</span><span style=\"font-weight: bold\">}}</span>\n",
       "</pre>\n"
      ],
      "text/plain": [
       "\u001b[1m{\u001b[0m\u001b[32m'Supervisor'\u001b[0m: \u001b[1m{\u001b[0m\u001b[32m'next'\u001b[0m: \u001b[32m'Researcher'\u001b[0m\u001b[1m}\u001b[0m\u001b[1m}\u001b[0m\n"
      ]
     },
     "metadata": {},
     "output_type": "display_data"
    },
    {
     "data": {
      "text/html": [
       "<pre style=\"white-space:pre;overflow-x:auto;line-height:normal;font-family:Menlo,'DejaVu Sans Mono',consolas,'Courier New',monospace\">----\n",
       "</pre>\n"
      ],
      "text/plain": [
       "----\n"
      ]
     },
     "metadata": {},
     "output_type": "display_data"
    },
    {
     "data": {
      "text/html": [
       "<pre style=\"white-space:pre;overflow-x:auto;line-height:normal;font-family:Menlo,'DejaVu Sans Mono',consolas,'Courier New',monospace\"><span style=\"font-weight: bold\">{</span>\n",
       "    <span style=\"color: #008000; text-decoration-color: #008000\">'Researcher'</span>: <span style=\"font-weight: bold\">{</span>\n",
       "        <span style=\"color: #008000; text-decoration-color: #008000\">'messages'</span>: <span style=\"font-weight: bold\">[</span>\n",
       "            <span style=\"color: #800080; text-decoration-color: #800080; font-weight: bold\">HumanMessage</span><span style=\"font-weight: bold\">(</span>\n",
       "                <span style=\"color: #808000; text-decoration-color: #808000\">content</span>=<span style=\"color: #008000; text-decoration-color: #008000\">\"### Research Report on Pikas\\n\\n#### Population Trajectory of American Pikas:\\nA study </span>\n",
       "<span style=\"color: #008000; text-decoration-color: #008000\">conducted at Bodie State Historic Park, California, tracked the population trajectory of American pikas from 1972 </span>\n",
       "<span style=\"color: #008000; text-decoration-color: #008000\">to 2022. This research provides insights into how American pikas are responding to climate change, offering a </span>\n",
       "<span style=\"color: #008000; text-decoration-color: #008000\">comprehensive portrayal of the species' population trends over time.\\n\\n#### Habitat Resilience of American </span>\n",
       "<span style=\"color: #008000; text-decoration-color: #008000\">Pikas:\\nResearchers found that American pikas in mountain habitats remained resilient to climate changes. The study</span>\n",
       "<span style=\"color: #008000; text-decoration-color: #008000\">measured diurnal and seasonal temperatures of pikas' rocky talus habitats in the Great Basin of the U.S. The </span>\n",
       "<span style=\"color: #008000; text-decoration-color: #008000\">findings highlighted the ability of pikas to adapt to their environments and maintain stable habitats despite </span>\n",
       "<span style=\"color: #008000; text-decoration-color: #008000\">external temperature variations.\\n\\n#### Climate Impact on Pika Distribution:\\nStudies have shown that climate </span>\n",
       "<span style=\"color: #008000; text-decoration-color: #008000\">change is affecting the distribution of American pikas across the Western U.S. Some locations are experiencing pika</span>\n",
       "<span style=\"color: #008000; text-decoration-color: #008000\">losses due to changes in temperature and precipitation patterns. The research emphasizes the variability in pika </span>\n",
       "<span style=\"color: #008000; text-decoration-color: #008000\">populations and the nuanced influence of climate on their habitats.\\n\\n#### Conservation Concerns for Pikas:\\nAs </span>\n",
       "<span style=\"color: #008000; text-decoration-color: #008000\">snowpack declines and habitats become more isolated, researchers predict a significant drop in the occupancy of </span>\n",
       "<span style=\"color: #008000; text-decoration-color: #008000\">pika habitats. Conservation efforts are crucial to protect the remaining pika populations, especially in areas like</span>\n",
       "<span style=\"color: #008000; text-decoration-color: #008000\">Craters of the Moon National Monument and Preserve, where environmental factors pose challenges to the species' </span>\n",
       "<span style=\"color: #008000; text-decoration-color: #008000\">survival.\\n\\nFor more detailed information and research findings on American pikas, you can refer to the following </span>\n",
       "<span style=\"color: #008000; text-decoration-color: #008000\">sources:\\n1. [Fifty-year population trajectory in a marginal American Pika </span>\n",
       "<span style=\"color: #008000; text-decoration-color: #008000\">population](https://research.fs.usda.gov/treesearch/68198)\\n2. [American Pika: Model of Resilience to Climate </span>\n",
       "<span style=\"color: #008000; text-decoration-color: #008000\">Vulnerability](https://research.fs.usda.gov/psw/news/highlights/american-pika-icon-climate-vulnerability-model-resi</span>\n",
       "<span style=\"color: #008000; text-decoration-color: #008000\">lience)\\n3. [Pikas: Status, Resilience, and </span>\n",
       "<span style=\"color: #008000; text-decoration-color: #008000\">Conservation](https://academic.oup.com/jmammal/article/101/6/1466/5917619)\\n4. [Pikas Disappearing in Parts of the </span>\n",
       "<span style=\"color: #008000; text-decoration-color: #008000\">West due to Climate </span>\n",
       "<span style=\"color: #008000; text-decoration-color: #008000\">Change](https://www.usgs.gov/news/national-news-release/pikas-disappearing-parts-west-due-climate-change)\\n5. </span>\n",
       "<span style=\"color: #008000; text-decoration-color: #008000\">[Pikas in Peril: Conservation Challenges and Predictions](https://www.nps.gov/orgs/1778/pikas-in-peril.htm)\\n\\nThis</span>\n",
       "<span style=\"color: #008000; text-decoration-color: #008000\">research report highlights the importance of understanding and conserving American pikas in the face of climate </span>\n",
       "<span style=\"color: #008000; text-decoration-color: #008000\">change and environmental challenges.\"</span>,\n",
       "                <span style=\"color: #808000; text-decoration-color: #808000\">additional_kwargs</span>=<span style=\"font-weight: bold\">{}</span>,\n",
       "                <span style=\"color: #808000; text-decoration-color: #808000\">response_metadata</span>=<span style=\"font-weight: bold\">{}</span>,\n",
       "                <span style=\"color: #808000; text-decoration-color: #808000\">name</span>=<span style=\"color: #008000; text-decoration-color: #008000\">'Researcher'</span>\n",
       "            <span style=\"font-weight: bold\">)</span>\n",
       "        <span style=\"font-weight: bold\">]</span>\n",
       "    <span style=\"font-weight: bold\">}</span>\n",
       "<span style=\"font-weight: bold\">}</span>\n",
       "</pre>\n"
      ],
      "text/plain": [
       "\u001b[1m{\u001b[0m\n",
       "    \u001b[32m'Researcher'\u001b[0m: \u001b[1m{\u001b[0m\n",
       "        \u001b[32m'messages'\u001b[0m: \u001b[1m[\u001b[0m\n",
       "            \u001b[1;35mHumanMessage\u001b[0m\u001b[1m(\u001b[0m\n",
       "                \u001b[33mcontent\u001b[0m=\u001b[32m\"### Research Report on Pikas\\n\\n#### Population Trajectory of American Pikas:\\nA study \u001b[0m\n",
       "\u001b[32mconducted at Bodie State Historic Park, California, tracked the population trajectory of American pikas from 1972 \u001b[0m\n",
       "\u001b[32mto 2022. This research provides insights into how American pikas are responding to climate change, offering a \u001b[0m\n",
       "\u001b[32mcomprehensive portrayal of the species' population trends over time.\\n\\n#### Habitat Resilience of American \u001b[0m\n",
       "\u001b[32mPikas:\\nResearchers found that American pikas in mountain habitats remained resilient to climate changes. The study\u001b[0m\n",
       "\u001b[32mmeasured diurnal and seasonal temperatures of pikas' rocky talus habitats in the Great Basin of the U.S. The \u001b[0m\n",
       "\u001b[32mfindings highlighted the ability of pikas to adapt to their environments and maintain stable habitats despite \u001b[0m\n",
       "\u001b[32mexternal temperature variations.\\n\\n#### Climate Impact on Pika Distribution:\\nStudies have shown that climate \u001b[0m\n",
       "\u001b[32mchange is affecting the distribution of American pikas across the Western U.S. Some locations are experiencing pika\u001b[0m\n",
       "\u001b[32mlosses due to changes in temperature and precipitation patterns. The research emphasizes the variability in pika \u001b[0m\n",
       "\u001b[32mpopulations and the nuanced influence of climate on their habitats.\\n\\n#### Conservation Concerns for Pikas:\\nAs \u001b[0m\n",
       "\u001b[32msnowpack declines and habitats become more isolated, researchers predict a significant drop in the occupancy of \u001b[0m\n",
       "\u001b[32mpika habitats. Conservation efforts are crucial to protect the remaining pika populations, especially in areas like\u001b[0m\n",
       "\u001b[32mCraters of the Moon National Monument and Preserve, where environmental factors pose challenges to the species' \u001b[0m\n",
       "\u001b[32msurvival.\\n\\nFor more detailed information and research findings on American pikas, you can refer to the following \u001b[0m\n",
       "\u001b[32msources:\\n1. \u001b[0m\u001b[32m[\u001b[0m\u001b[32mFifty-year population trajectory in a marginal American Pika \u001b[0m\n",
       "\u001b[32mpopulation\u001b[0m\u001b[32m]\u001b[0m\u001b[32m(\u001b[0m\u001b[32mhttps://research.fs.usda.gov/treesearch/68198\u001b[0m\u001b[32m)\u001b[0m\u001b[32m\\n2. \u001b[0m\u001b[32m[\u001b[0m\u001b[32mAmerican Pika: Model of Resilience to Climate \u001b[0m\n",
       "\u001b[32mVulnerability\u001b[0m\u001b[32m]\u001b[0m\u001b[32m(\u001b[0m\u001b[32mhttps://research.fs.usda.gov/psw/news/highlights/american-pika-icon-climate-vulnerability-model-resi\u001b[0m\n",
       "\u001b[32mlience\u001b[0m\u001b[32m)\u001b[0m\u001b[32m\\n3. \u001b[0m\u001b[32m[\u001b[0m\u001b[32mPikas: Status, Resilience, and \u001b[0m\n",
       "\u001b[32mConservation\u001b[0m\u001b[32m]\u001b[0m\u001b[32m(\u001b[0m\u001b[32mhttps://academic.oup.com/jmammal/article/101/6/1466/5917619\u001b[0m\u001b[32m)\u001b[0m\u001b[32m\\n4. \u001b[0m\u001b[32m[\u001b[0m\u001b[32mPikas Disappearing in Parts of the \u001b[0m\n",
       "\u001b[32mWest due to Climate \u001b[0m\n",
       "\u001b[32mChange\u001b[0m\u001b[32m]\u001b[0m\u001b[32m(\u001b[0m\u001b[32mhttps://www.usgs.gov/news/national-news-release/pikas-disappearing-parts-west-due-climate-change\u001b[0m\u001b[32m)\u001b[0m\u001b[32m\\n5. \u001b[0m\n",
       "\u001b[32m[\u001b[0m\u001b[32mPikas in Peril: Conservation Challenges and Predictions\u001b[0m\u001b[32m]\u001b[0m\u001b[32m(\u001b[0m\u001b[32mhttps://www.nps.gov/orgs/1778/pikas-in-peril.htm\u001b[0m\u001b[32m)\u001b[0m\u001b[32m\\n\\nThis\u001b[0m\n",
       "\u001b[32mresearch report highlights the importance of understanding and conserving American pikas in the face of climate \u001b[0m\n",
       "\u001b[32mchange and environmental challenges.\"\u001b[0m,\n",
       "                \u001b[33madditional_kwargs\u001b[0m=\u001b[1m{\u001b[0m\u001b[1m}\u001b[0m,\n",
       "                \u001b[33mresponse_metadata\u001b[0m=\u001b[1m{\u001b[0m\u001b[1m}\u001b[0m,\n",
       "                \u001b[33mname\u001b[0m=\u001b[32m'Researcher'\u001b[0m\n",
       "            \u001b[1m)\u001b[0m\n",
       "        \u001b[1m]\u001b[0m\n",
       "    \u001b[1m}\u001b[0m\n",
       "\u001b[1m}\u001b[0m\n"
      ]
     },
     "metadata": {},
     "output_type": "display_data"
    },
    {
     "data": {
      "text/html": [
       "<pre style=\"white-space:pre;overflow-x:auto;line-height:normal;font-family:Menlo,'DejaVu Sans Mono',consolas,'Courier New',monospace\">----\n",
       "</pre>\n"
      ],
      "text/plain": [
       "----\n"
      ]
     },
     "metadata": {},
     "output_type": "display_data"
    },
    {
     "data": {
      "text/html": [
       "<pre style=\"white-space:pre;overflow-x:auto;line-height:normal;font-family:Menlo,'DejaVu Sans Mono',consolas,'Courier New',monospace\"><span style=\"font-weight: bold\">{</span><span style=\"color: #008000; text-decoration-color: #008000\">'Supervisor'</span>: <span style=\"font-weight: bold\">{</span><span style=\"color: #008000; text-decoration-color: #008000\">'next'</span>: <span style=\"color: #008000; text-decoration-color: #008000\">'Coder'</span><span style=\"font-weight: bold\">}}</span>\n",
       "</pre>\n"
      ],
      "text/plain": [
       "\u001b[1m{\u001b[0m\u001b[32m'Supervisor'\u001b[0m: \u001b[1m{\u001b[0m\u001b[32m'next'\u001b[0m: \u001b[32m'Coder'\u001b[0m\u001b[1m}\u001b[0m\u001b[1m}\u001b[0m\n"
      ]
     },
     "metadata": {},
     "output_type": "display_data"
    },
    {
     "data": {
      "text/html": [
       "<pre style=\"white-space:pre;overflow-x:auto;line-height:normal;font-family:Menlo,'DejaVu Sans Mono',consolas,'Courier New',monospace\">----\n",
       "</pre>\n"
      ],
      "text/plain": [
       "----\n"
      ]
     },
     "metadata": {},
     "output_type": "display_data"
    },
    {
     "data": {
      "text/html": [
       "<pre style=\"white-space:pre;overflow-x:auto;line-height:normal;font-family:Menlo,'DejaVu Sans Mono',consolas,'Courier New',monospace\"><span style=\"font-weight: bold\">{</span>\n",
       "    <span style=\"color: #008000; text-decoration-color: #008000\">'Coder'</span>: <span style=\"font-weight: bold\">{</span>\n",
       "        <span style=\"color: #008000; text-decoration-color: #008000\">'messages'</span>: <span style=\"font-weight: bold\">[</span>\n",
       "            <span style=\"color: #800080; text-decoration-color: #800080; font-weight: bold\">HumanMessage</span><span style=\"font-weight: bold\">(</span>\n",
       "                <span style=\"color: #808000; text-decoration-color: #808000\">content</span>=<span style=\"color: #008000; text-decoration-color: #008000\">'The research report on pikas has been successfully printed out to the terminal. If you </span>\n",
       "<span style=\"color: #008000; text-decoration-color: #008000\">need any further assistance or modifications, feel free to let me know!'</span>,\n",
       "                <span style=\"color: #808000; text-decoration-color: #808000\">additional_kwargs</span>=<span style=\"font-weight: bold\">{}</span>,\n",
       "                <span style=\"color: #808000; text-decoration-color: #808000\">response_metadata</span>=<span style=\"font-weight: bold\">{}</span>,\n",
       "                <span style=\"color: #808000; text-decoration-color: #808000\">name</span>=<span style=\"color: #008000; text-decoration-color: #008000\">'Coder'</span>\n",
       "            <span style=\"font-weight: bold\">)</span>\n",
       "        <span style=\"font-weight: bold\">]</span>\n",
       "    <span style=\"font-weight: bold\">}</span>\n",
       "<span style=\"font-weight: bold\">}</span>\n",
       "</pre>\n"
      ],
      "text/plain": [
       "\u001b[1m{\u001b[0m\n",
       "    \u001b[32m'Coder'\u001b[0m: \u001b[1m{\u001b[0m\n",
       "        \u001b[32m'messages'\u001b[0m: \u001b[1m[\u001b[0m\n",
       "            \u001b[1;35mHumanMessage\u001b[0m\u001b[1m(\u001b[0m\n",
       "                \u001b[33mcontent\u001b[0m=\u001b[32m'The research report on pikas has been successfully printed out to the terminal. If you \u001b[0m\n",
       "\u001b[32mneed any further assistance or modifications, feel free to let me know!'\u001b[0m,\n",
       "                \u001b[33madditional_kwargs\u001b[0m=\u001b[1m{\u001b[0m\u001b[1m}\u001b[0m,\n",
       "                \u001b[33mresponse_metadata\u001b[0m=\u001b[1m{\u001b[0m\u001b[1m}\u001b[0m,\n",
       "                \u001b[33mname\u001b[0m=\u001b[32m'Coder'\u001b[0m\n",
       "            \u001b[1m)\u001b[0m\n",
       "        \u001b[1m]\u001b[0m\n",
       "    \u001b[1m}\u001b[0m\n",
       "\u001b[1m}\u001b[0m\n"
      ]
     },
     "metadata": {},
     "output_type": "display_data"
    },
    {
     "data": {
      "text/html": [
       "<pre style=\"white-space:pre;overflow-x:auto;line-height:normal;font-family:Menlo,'DejaVu Sans Mono',consolas,'Courier New',monospace\">----\n",
       "</pre>\n"
      ],
      "text/plain": [
       "----\n"
      ]
     },
     "metadata": {},
     "output_type": "display_data"
    },
    {
     "data": {
      "text/html": [
       "<pre style=\"white-space:pre;overflow-x:auto;line-height:normal;font-family:Menlo,'DejaVu Sans Mono',consolas,'Courier New',monospace\"><span style=\"font-weight: bold\">{</span><span style=\"color: #008000; text-decoration-color: #008000\">'Supervisor'</span>: <span style=\"font-weight: bold\">{</span><span style=\"color: #008000; text-decoration-color: #008000\">'next'</span>: <span style=\"color: #008000; text-decoration-color: #008000\">'FINISH'</span><span style=\"font-weight: bold\">}}</span>\n",
       "</pre>\n"
      ],
      "text/plain": [
       "\u001b[1m{\u001b[0m\u001b[32m'Supervisor'\u001b[0m: \u001b[1m{\u001b[0m\u001b[32m'next'\u001b[0m: \u001b[32m'FINISH'\u001b[0m\u001b[1m}\u001b[0m\u001b[1m}\u001b[0m\n"
      ]
     },
     "metadata": {},
     "output_type": "display_data"
    },
    {
     "data": {
      "text/html": [
       "<pre style=\"white-space:pre;overflow-x:auto;line-height:normal;font-family:Menlo,'DejaVu Sans Mono',consolas,'Courier New',monospace\">----\n",
       "</pre>\n"
      ],
      "text/plain": [
       "----\n"
      ]
     },
     "metadata": {},
     "output_type": "display_data"
    }
   ],
   "source": [
    "for s in graph.stream(\n",
    "    {\"messages\": [HumanMessage(content=\"Write a brief research report on pikas and then print it out to the terminal\")]},\n",
    "    {\"recursion_limit\": 100},\n",
    "):\n",
    "    if \"__end__\" not in s:\n",
    "        rprint(s)\n",
    "        rprint(\"----\")"
   ]
  }
 ],
 "metadata": {
  "kernelspec": {
   "display_name": "Python 3",
   "language": "python",
   "name": "python3"
  },
  "language_info": {
   "codemirror_mode": {
    "name": "ipython",
    "version": 3
   },
   "file_extension": ".py",
   "mimetype": "text/x-python",
   "name": "python",
   "nbconvert_exporter": "python",
   "pygments_lexer": "ipython3",
   "version": "3.10.12"
  }
 },
 "nbformat": 4,
 "nbformat_minor": 2
}
