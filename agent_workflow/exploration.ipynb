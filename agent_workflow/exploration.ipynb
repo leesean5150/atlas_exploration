{
 "cells": [
  {
   "cell_type": "markdown",
   "metadata": {},
   "source": [
    "## Agent Workflow Exploration"
   ]
  },
  {
   "cell_type": "markdown",
   "metadata": {},
   "source": [
    "## Import statements and dependencies"
   ]
  },
  {
   "cell_type": "code",
   "execution_count": 79,
   "metadata": {},
   "outputs": [],
   "source": [
    "from tavily import TavilyClient\n",
    "import os\n",
    "from rich import print as rprint\n",
    "from langchain_community.tools.tavily_search import TavilySearchResults\n",
    "from langchain_openai import ChatOpenAI, OpenAIEmbeddings\n",
    "from math_tools import get_math_tool\n",
    "from pymongo import MongoClient\n",
    "from langchain_mongodb import MongoDBAtlasVectorSearch"
   ]
  },
  {
   "cell_type": "markdown",
   "metadata": {},
   "source": [
    "## Tool Logic"
   ]
  },
  {
   "cell_type": "markdown",
   "metadata": {},
   "source": [
    "### Tool 1 - Tavily web search"
   ]
  },
  {
   "cell_type": "code",
   "execution_count": 5,
   "metadata": {},
   "outputs": [
    {
     "data": {
      "text/html": [
       "<pre style=\"white-space:pre;overflow-x:auto;line-height:normal;font-family:Menlo,'DejaVu Sans Mono',consolas,'Courier New',monospace\"><span style=\"font-weight: bold\">{</span>\n",
       "    <span style=\"color: #008000; text-decoration-color: #008000\">'query'</span>: <span style=\"color: #008000; text-decoration-color: #008000\">'Who is Leo Messi?'</span>,\n",
       "    <span style=\"color: #008000; text-decoration-color: #008000\">'follow_up_questions'</span>: <span style=\"color: #800080; text-decoration-color: #800080; font-style: italic\">None</span>,\n",
       "    <span style=\"color: #008000; text-decoration-color: #008000\">'answer'</span>: <span style=\"color: #800080; text-decoration-color: #800080; font-style: italic\">None</span>,\n",
       "    <span style=\"color: #008000; text-decoration-color: #008000\">'images'</span>: <span style=\"font-weight: bold\">[]</span>,\n",
       "    <span style=\"color: #008000; text-decoration-color: #008000\">'results'</span>: <span style=\"font-weight: bold\">[</span>\n",
       "        <span style=\"font-weight: bold\">{</span>\n",
       "            <span style=\"color: #008000; text-decoration-color: #008000\">'title'</span>: <span style=\"color: #008000; text-decoration-color: #008000\">'Career of Lionel Messi - Wikipedia'</span>,\n",
       "            <span style=\"color: #008000; text-decoration-color: #008000\">'url'</span>: <span style=\"color: #008000; text-decoration-color: #008000\">'https://en.wikipedia.org/wiki/Career_of_Lionel_Messi'</span>,\n",
       "            <span style=\"color: #008000; text-decoration-color: #008000\">'content'</span>: <span style=\"color: #008000; text-decoration-color: #008000\">\"Lionel Messi is an Argentine professional footballer who plays as a forward for and </span>\n",
       "<span style=\"color: #008000; text-decoration-color: #008000\">captains both Major League Soccer club Inter Miami and the Argentina national team.His individual achievements </span>\n",
       "<span style=\"color: #008000; text-decoration-color: #008000\">include eight Ballon d'Or awards, the most for any footballer. Having won 45 team trophies, [note 1] he is the most</span>\n",
       "<span style=\"color: #008000; text-decoration-color: #008000\">decorated player in the history of professional football. [11]\"</span>,\n",
       "            <span style=\"color: #008000; text-decoration-color: #008000\">'score'</span>: <span style=\"color: #008080; text-decoration-color: #008080; font-weight: bold\">0.9970765</span>,\n",
       "            <span style=\"color: #008000; text-decoration-color: #008000\">'raw_content'</span>: <span style=\"color: #800080; text-decoration-color: #800080; font-style: italic\">None</span>\n",
       "        <span style=\"font-weight: bold\">}</span>,\n",
       "        <span style=\"font-weight: bold\">{</span>\n",
       "            <span style=\"color: #008000; text-decoration-color: #008000\">'title'</span>: <span style=\"color: #008000; text-decoration-color: #008000\">'Lionel Messi | Biography, Competitions, Wins and Medals'</span>,\n",
       "            <span style=\"color: #008000; text-decoration-color: #008000\">'url'</span>: <span style=\"color: #008000; text-decoration-color: #008000\">'https://olympics.com/en/athletes/lionel-messi'</span>,\n",
       "            <span style=\"color: #008000; text-decoration-color: #008000\">'content'</span>: <span style=\"color: #008000; text-decoration-color: #008000\">'“The Olympic gold in 2008 is the win that I value the most because it is a tournament that </span>\n",
       "<span style=\"color: #008000; text-decoration-color: #008000\">you may play only once in your life and involves many athletes from different disciplines” - Lionel Messi, Spanish </span>\n",
       "<span style=\"color: #008000; text-decoration-color: #008000\">Esquire\\nFeatured\\nLatest News\\nOlympic Results\\nAthlete Olympic Results Content\\nYou may like Lionel </span>\n",
       "<span style=\"color: #008000; text-decoration-color: #008000\">MESSI\\nBiography\\nBorn in Rosario, Argentina in 1987 Lionel Messi is widely held to be one of the greatest football</span>\n",
       "<span style=\"color: #008000; text-decoration-color: #008000\">players of his generation — and with good reason.\\n Graduating quickly through the club’s ranks thanks to his </span>\n",
       "<span style=\"color: #008000; text-decoration-color: #008000\">ever-growing skill set Messi made his first senior appearance for the club at the age of 17.\\n When he eventually </span>\n",
       "<span style=\"color: #008000; text-decoration-color: #008000\">left the team in 2021 for French club Paris Saint-Germain the Argentine completed his time in La Liga as its top </span>\n",
       "<span style=\"color: #008000; text-decoration-color: #008000\">goal-scorer, with an eye-watering 474 successful shots to his name.\\n He also came close to winning the FIFA World </span>\n",
       "<span style=\"color: #008000; text-decoration-color: #008000\">Cup in 2014 but Argentina fell to Germany 1-0 in the final.\\n'</span>,\n",
       "            <span style=\"color: #008000; text-decoration-color: #008000\">'score'</span>: <span style=\"color: #008080; text-decoration-color: #008080; font-weight: bold\">0.94240075</span>,\n",
       "            <span style=\"color: #008000; text-decoration-color: #008000\">'raw_content'</span>: <span style=\"color: #800080; text-decoration-color: #800080; font-style: italic\">None</span>\n",
       "        <span style=\"font-weight: bold\">}</span>,\n",
       "        <span style=\"font-weight: bold\">{</span>\n",
       "            <span style=\"color: #008000; text-decoration-color: #008000\">'title'</span>: <span style=\"color: #008000; text-decoration-color: #008000\">\"Who does Lionel Messi play for? What to know about soccer star's team ...\"</span>,\n",
       "            <span style=\"color: #008000; text-decoration-color: #008000\">'url'</span>: \n",
       "<span style=\"color: #008000; text-decoration-color: #008000\">'https://www.sportingnews.com/us/soccer/news/lionel-messi-team-world-cup-2022-soccer/pyan3de8jqalupyqzzthkax8'</span>,\n",
       "            <span style=\"color: #008000; text-decoration-color: #008000\">'content'</span>: <span style=\"color: #008000; text-decoration-color: #008000\">\"Who does Lionel Messi play for in the World Cup?\\nMessi is Argentina's No. 10, following in</span>\n",
       "<span style=\"color: #008000; text-decoration-color: #008000\">the footsteps of iconic Argentinian playmaker Diego Maradona.\\n However, after a series of financial issues (which </span>\n",
       "<span style=\"color: #008000; text-decoration-color: #008000\">still persist), Barça were forced to let Messi — the highest-paid player in the world — leave following the 2020-21</span>\n",
       "<span style=\"color: #008000; text-decoration-color: #008000\">season.\\n He nabbed another Balon D'Or in 2021 and is continuing to put on a clinic even at the age of 35 — he has </span>\n",
       "<span style=\"color: #008000; text-decoration-color: #008000\">seven goals and ten assists in 13 games for PSG this season.\\n In 2021, Messi led Argentina to a Copa America </span>\n",
       "<span style=\"color: #008000; text-decoration-color: #008000\">title, meaning that the Argentinians reign supreme as the best team in South America at the moment. And, for likely</span>\n",
       "<span style=\"color: #008000; text-decoration-color: #008000\">the final time, fans will be able to witness him perform on the grand stage: the World Cup.\\n\"</span>,\n",
       "            <span style=\"color: #008000; text-decoration-color: #008000\">'score'</span>: <span style=\"color: #008080; text-decoration-color: #008080; font-weight: bold\">0.93071055</span>,\n",
       "            <span style=\"color: #008000; text-decoration-color: #008000\">'raw_content'</span>: <span style=\"color: #800080; text-decoration-color: #800080; font-style: italic\">None</span>\n",
       "        <span style=\"font-weight: bold\">}</span>,\n",
       "        <span style=\"font-weight: bold\">{</span>\n",
       "            <span style=\"color: #008000; text-decoration-color: #008000\">'title'</span>: <span style=\"color: #008000; text-decoration-color: #008000\">\"Lionel Messi | Records, Height, Ballon d'Or, Inter Miami, &amp; Facts ...\"</span>,\n",
       "            <span style=\"color: #008000; text-decoration-color: #008000\">'url'</span>: <span style=\"color: #008000; text-decoration-color: #008000\">'https://www.britannica.com/biography/Lionel-Messi'</span>,\n",
       "            <span style=\"color: #008000; text-decoration-color: #008000\">'content'</span>: <span style=\"color: #008000; text-decoration-color: #008000\">'In early 2009 Messi capped off a spectacular 2008–09 season by helping FC Barcelona capture</span>\n",
       "<span style=\"color: #008000; text-decoration-color: #008000\">the club’s first “treble” (winning three major European club titles in one season): the team won the La Liga </span>\n",
       "<span style=\"color: #008000; text-decoration-color: #008000\">championship, the Copa del Rey (Spain’s major domestic cup), and the Champions League title. Messi’s play continued</span>\n",
       "<span style=\"color: #008000; text-decoration-color: #008000\">to rapidly improve over the years, and by 2008 he was one of the most dominant players in the world, finishing </span>\n",
       "<span style=\"color: #008000; text-decoration-color: #008000\">second to Manchester United’s Cristiano Ronaldo in the voting for the 2008 Ballon d’Or. At the 2014 World Cup, </span>\n",
       "<span style=\"color: #008000; text-decoration-color: #008000\">Messi put on a dazzling display, scoring four goals and almost single-handedly propelling an offense-deficient </span>\n",
       "<span style=\"color: #008000; text-decoration-color: #008000\">Argentina team through the group stage and into the knockout rounds, where Argentina then advanced to the World Cup</span>\n",
       "<span style=\"color: #008000; text-decoration-color: #008000\">final for the first time in 24 years. After Argentina was defeated in the Copa final—the team’s third consecutive </span>\n",
       "<span style=\"color: #008000; text-decoration-color: #008000\">finals loss in a major tournament—Messi said that he was quitting the national team, but his short-lived </span>\n",
       "<span style=\"color: #008000; text-decoration-color: #008000\">“retirement” lasted less than two months before he announced his return to the Argentine team. Messi helped </span>\n",
       "<span style=\"color: #008000; text-decoration-color: #008000\">Barcelona capture another treble during the 2014–15 season, leading the team with 43 goals scored over the course </span>\n",
       "<span style=\"color: #008000; text-decoration-color: #008000\">of the campaign, which resulted in his fifth world player of the year honour.'</span>,\n",
       "            <span style=\"color: #008000; text-decoration-color: #008000\">'score'</span>: <span style=\"color: #008080; text-decoration-color: #008080; font-weight: bold\">0.8749346</span>,\n",
       "            <span style=\"color: #008000; text-decoration-color: #008000\">'raw_content'</span>: <span style=\"color: #800080; text-decoration-color: #800080; font-style: italic\">None</span>\n",
       "        <span style=\"font-weight: bold\">}</span>,\n",
       "        <span style=\"font-weight: bold\">{</span>\n",
       "            <span style=\"color: #008000; text-decoration-color: #008000\">'title'</span>: <span style=\"color: #008000; text-decoration-color: #008000\">'Lionel Messi Biography'</span>,\n",
       "            <span style=\"color: #008000; text-decoration-color: #008000\">'url'</span>: <span style=\"color: #008000; text-decoration-color: #008000\">'https://www.biographyonline.net/sport/football/lionel-messi.html'</span>,\n",
       "            <span style=\"color: #008000; text-decoration-color: #008000\">'content'</span>: <span style=\"color: #008000; text-decoration-color: #008000\">'In the 2010 World Cup, Messi wore the number 10 shirt and played well to help Argentina </span>\n",
       "<span style=\"color: #008000; text-decoration-color: #008000\">reach the quarter-finals, but Messi struggled to score, and Argentina disappointingly lost 4-0 to Germany in the </span>\n",
       "<span style=\"color: #008000; text-decoration-color: #008000\">quarter-final. He is an incredible player, gigantic.”\\n– Gerd Muller\\nAt the start of 2013, in club football, Messi</span>\n",
       "<span style=\"color: #008000; text-decoration-color: #008000\">has scored 292 goals from a total of 359 appearances, and in international football, 31 goals from 76 </span>\n",
       "<span style=\"color: #008000; text-decoration-color: #008000\">appearances.\\n The decision was contentious and not in keeping with Messi’s style of play which is generally clean </span>\n",
       "<span style=\"color: #008000; text-decoration-color: #008000\">and in the spirit of fair play; he has very rarely been accused of diving.\\n (total Barca)\\n– Lionel Messi\\nAfter </span>\n",
       "<span style=\"color: #008000; text-decoration-color: #008000\">winning the Ballon d’Or for the fourth time in January 2013, Messi said:\\n“To tell you the truth this is really </span>\n",
       "<span style=\"color: #008000; text-decoration-color: #008000\">quite unbelievable. Messi major honours\\nBarcelona\\nArgentina\\nWealth and income\\nMessi has frequently been the </span>\n",
       "<span style=\"color: #008000; text-decoration-color: #008000\">target of other football clubs with big transfer budgets, but he has remained loyal to Barcelona FC.'</span>,\n",
       "            <span style=\"color: #008000; text-decoration-color: #008000\">'score'</span>: <span style=\"color: #008080; text-decoration-color: #008080; font-weight: bold\">0.82375413</span>,\n",
       "            <span style=\"color: #008000; text-decoration-color: #008000\">'raw_content'</span>: <span style=\"color: #800080; text-decoration-color: #800080; font-style: italic\">None</span>\n",
       "        <span style=\"font-weight: bold\">}</span>\n",
       "    <span style=\"font-weight: bold\">]</span>,\n",
       "    <span style=\"color: #008000; text-decoration-color: #008000\">'response_time'</span>: <span style=\"color: #008080; text-decoration-color: #008080; font-weight: bold\">3.56</span>\n",
       "<span style=\"font-weight: bold\">}</span>\n",
       "</pre>\n"
      ],
      "text/plain": [
       "\u001b[1m{\u001b[0m\n",
       "    \u001b[32m'query'\u001b[0m: \u001b[32m'Who is Leo Messi?'\u001b[0m,\n",
       "    \u001b[32m'follow_up_questions'\u001b[0m: \u001b[3;35mNone\u001b[0m,\n",
       "    \u001b[32m'answer'\u001b[0m: \u001b[3;35mNone\u001b[0m,\n",
       "    \u001b[32m'images'\u001b[0m: \u001b[1m[\u001b[0m\u001b[1m]\u001b[0m,\n",
       "    \u001b[32m'results'\u001b[0m: \u001b[1m[\u001b[0m\n",
       "        \u001b[1m{\u001b[0m\n",
       "            \u001b[32m'title'\u001b[0m: \u001b[32m'Career of Lionel Messi - Wikipedia'\u001b[0m,\n",
       "            \u001b[32m'url'\u001b[0m: \u001b[32m'https://en.wikipedia.org/wiki/Career_of_Lionel_Messi'\u001b[0m,\n",
       "            \u001b[32m'content'\u001b[0m: \u001b[32m\"Lionel Messi is an Argentine professional footballer who plays as a forward for and \u001b[0m\n",
       "\u001b[32mcaptains both Major League Soccer club Inter Miami and the Argentina national team.His individual achievements \u001b[0m\n",
       "\u001b[32minclude eight Ballon d'Or awards, the most for any footballer. Having won 45 team trophies, \u001b[0m\u001b[32m[\u001b[0m\u001b[32mnote 1\u001b[0m\u001b[32m]\u001b[0m\u001b[32m he is the most\u001b[0m\n",
       "\u001b[32mdecorated player in the history of professional football. \u001b[0m\u001b[32m[\u001b[0m\u001b[32m11\u001b[0m\u001b[32m]\u001b[0m\u001b[32m\"\u001b[0m,\n",
       "            \u001b[32m'score'\u001b[0m: \u001b[1;36m0.9970765\u001b[0m,\n",
       "            \u001b[32m'raw_content'\u001b[0m: \u001b[3;35mNone\u001b[0m\n",
       "        \u001b[1m}\u001b[0m,\n",
       "        \u001b[1m{\u001b[0m\n",
       "            \u001b[32m'title'\u001b[0m: \u001b[32m'Lionel Messi | Biography, Competitions, Wins and Medals'\u001b[0m,\n",
       "            \u001b[32m'url'\u001b[0m: \u001b[32m'https://olympics.com/en/athletes/lionel-messi'\u001b[0m,\n",
       "            \u001b[32m'content'\u001b[0m: \u001b[32m'“The Olympic gold in 2008 is the win that I value the most because it is a tournament that \u001b[0m\n",
       "\u001b[32myou may play only once in your life and involves many athletes from different disciplines” - Lionel Messi, Spanish \u001b[0m\n",
       "\u001b[32mEsquire\\nFeatured\\nLatest News\\nOlympic Results\\nAthlete Olympic Results Content\\nYou may like Lionel \u001b[0m\n",
       "\u001b[32mMESSI\\nBiography\\nBorn in Rosario, Argentina in 1987 Lionel Messi is widely held to be one of the greatest football\u001b[0m\n",
       "\u001b[32mplayers of his generation — and with good reason.\\n Graduating quickly through the club’s ranks thanks to his \u001b[0m\n",
       "\u001b[32mever-growing skill set Messi made his first senior appearance for the club at the age of 17.\\n When he eventually \u001b[0m\n",
       "\u001b[32mleft the team in 2021 for French club Paris Saint-Germain the Argentine completed his time in La Liga as its top \u001b[0m\n",
       "\u001b[32mgoal-scorer, with an eye-watering 474 successful shots to his name.\\n He also came close to winning the FIFA World \u001b[0m\n",
       "\u001b[32mCup in 2014 but Argentina fell to Germany 1-0 in the final.\\n'\u001b[0m,\n",
       "            \u001b[32m'score'\u001b[0m: \u001b[1;36m0.94240075\u001b[0m,\n",
       "            \u001b[32m'raw_content'\u001b[0m: \u001b[3;35mNone\u001b[0m\n",
       "        \u001b[1m}\u001b[0m,\n",
       "        \u001b[1m{\u001b[0m\n",
       "            \u001b[32m'title'\u001b[0m: \u001b[32m\"Who does Lionel Messi play for? What to know about soccer star's team ...\"\u001b[0m,\n",
       "            \u001b[32m'url'\u001b[0m: \n",
       "\u001b[32m'https://www.sportingnews.com/us/soccer/news/lionel-messi-team-world-cup-2022-soccer/pyan3de8jqalupyqzzthkax8'\u001b[0m,\n",
       "            \u001b[32m'content'\u001b[0m: \u001b[32m\"Who does Lionel Messi play for in the World Cup?\\nMessi is Argentina's No. 10, following in\u001b[0m\n",
       "\u001b[32mthe footsteps of iconic Argentinian playmaker Diego Maradona.\\n However, after a series of financial issues \u001b[0m\u001b[32m(\u001b[0m\u001b[32mwhich \u001b[0m\n",
       "\u001b[32mstill persist\u001b[0m\u001b[32m)\u001b[0m\u001b[32m, Barça were forced to let Messi — the highest-paid player in the world — leave following the 2020-21\u001b[0m\n",
       "\u001b[32mseason.\\n He nabbed another Balon D'Or in 2021 and is continuing to put on a clinic even at the age of 35 — he has \u001b[0m\n",
       "\u001b[32mseven goals and ten assists in 13 games for PSG this season.\\n In 2021, Messi led Argentina to a Copa America \u001b[0m\n",
       "\u001b[32mtitle, meaning that the Argentinians reign supreme as the best team in South America at the moment. And, for likely\u001b[0m\n",
       "\u001b[32mthe final time, fans will be able to witness him perform on the grand stage: the World Cup.\\n\"\u001b[0m,\n",
       "            \u001b[32m'score'\u001b[0m: \u001b[1;36m0.93071055\u001b[0m,\n",
       "            \u001b[32m'raw_content'\u001b[0m: \u001b[3;35mNone\u001b[0m\n",
       "        \u001b[1m}\u001b[0m,\n",
       "        \u001b[1m{\u001b[0m\n",
       "            \u001b[32m'title'\u001b[0m: \u001b[32m\"Lionel Messi | Records, Height, Ballon d'Or, Inter Miami, & Facts ...\"\u001b[0m,\n",
       "            \u001b[32m'url'\u001b[0m: \u001b[32m'https://www.britannica.com/biography/Lionel-Messi'\u001b[0m,\n",
       "            \u001b[32m'content'\u001b[0m: \u001b[32m'In early 2009 Messi capped off a spectacular 2008–09 season by helping FC Barcelona capture\u001b[0m\n",
       "\u001b[32mthe club’s first “treble” \u001b[0m\u001b[32m(\u001b[0m\u001b[32mwinning three major European club titles in one season\u001b[0m\u001b[32m)\u001b[0m\u001b[32m: the team won the La Liga \u001b[0m\n",
       "\u001b[32mchampionship, the Copa del Rey \u001b[0m\u001b[32m(\u001b[0m\u001b[32mSpain’s major domestic cup\u001b[0m\u001b[32m)\u001b[0m\u001b[32m, and the Champions League title. Messi’s play continued\u001b[0m\n",
       "\u001b[32mto rapidly improve over the years, and by 2008 he was one of the most dominant players in the world, finishing \u001b[0m\n",
       "\u001b[32msecond to Manchester United’s Cristiano Ronaldo in the voting for the 2008 Ballon d’Or. At the 2014 World Cup, \u001b[0m\n",
       "\u001b[32mMessi put on a dazzling display, scoring four goals and almost single-handedly propelling an offense-deficient \u001b[0m\n",
       "\u001b[32mArgentina team through the group stage and into the knockout rounds, where Argentina then advanced to the World Cup\u001b[0m\n",
       "\u001b[32mfinal for the first time in 24 years. After Argentina was defeated in the Copa final—the team’s third consecutive \u001b[0m\n",
       "\u001b[32mfinals loss in a major tournament—Messi said that he was quitting the national team, but his short-lived \u001b[0m\n",
       "\u001b[32m“retirement” lasted less than two months before he announced his return to the Argentine team. Messi helped \u001b[0m\n",
       "\u001b[32mBarcelona capture another treble during the 2014–15 season, leading the team with 43 goals scored over the course \u001b[0m\n",
       "\u001b[32mof the campaign, which resulted in his fifth world player of the year honour.'\u001b[0m,\n",
       "            \u001b[32m'score'\u001b[0m: \u001b[1;36m0.8749346\u001b[0m,\n",
       "            \u001b[32m'raw_content'\u001b[0m: \u001b[3;35mNone\u001b[0m\n",
       "        \u001b[1m}\u001b[0m,\n",
       "        \u001b[1m{\u001b[0m\n",
       "            \u001b[32m'title'\u001b[0m: \u001b[32m'Lionel Messi Biography'\u001b[0m,\n",
       "            \u001b[32m'url'\u001b[0m: \u001b[32m'https://www.biographyonline.net/sport/football/lionel-messi.html'\u001b[0m,\n",
       "            \u001b[32m'content'\u001b[0m: \u001b[32m'In the 2010 World Cup, Messi wore the number 10 shirt and played well to help Argentina \u001b[0m\n",
       "\u001b[32mreach the quarter-finals, but Messi struggled to score, and Argentina disappointingly lost 4-0 to Germany in the \u001b[0m\n",
       "\u001b[32mquarter-final. He is an incredible player, gigantic.”\\n– Gerd Muller\\nAt the start of 2013, in club football, Messi\u001b[0m\n",
       "\u001b[32mhas scored 292 goals from a total of 359 appearances, and in international football, 31 goals from 76 \u001b[0m\n",
       "\u001b[32mappearances.\\n The decision was contentious and not in keeping with Messi’s style of play which is generally clean \u001b[0m\n",
       "\u001b[32mand in the spirit of fair play; he has very rarely been accused of diving.\\n \u001b[0m\u001b[32m(\u001b[0m\u001b[32mtotal Barca\u001b[0m\u001b[32m)\u001b[0m\u001b[32m\\n– Lionel Messi\\nAfter \u001b[0m\n",
       "\u001b[32mwinning the Ballon d’Or for the fourth time in January 2013, Messi said:\\n“To tell you the truth this is really \u001b[0m\n",
       "\u001b[32mquite unbelievable. Messi major honours\\nBarcelona\\nArgentina\\nWealth and income\\nMessi has frequently been the \u001b[0m\n",
       "\u001b[32mtarget of other football clubs with big transfer budgets, but he has remained loyal to Barcelona FC.'\u001b[0m,\n",
       "            \u001b[32m'score'\u001b[0m: \u001b[1;36m0.82375413\u001b[0m,\n",
       "            \u001b[32m'raw_content'\u001b[0m: \u001b[3;35mNone\u001b[0m\n",
       "        \u001b[1m}\u001b[0m\n",
       "    \u001b[1m]\u001b[0m,\n",
       "    \u001b[32m'response_time'\u001b[0m: \u001b[1;36m3.56\u001b[0m\n",
       "\u001b[1m}\u001b[0m\n"
      ]
     },
     "metadata": {},
     "output_type": "display_data"
    }
   ],
   "source": [
    "# base level querying using tavily client\n",
    "\n",
    "tavily_client = TavilyClient(api_key=os.getenv('TAVILY_API_KEY'))\n",
    "response = tavily_client.search(\"Who is Leo Messi?\")\n",
    "rprint(response)\n"
   ]
  },
  {
   "cell_type": "code",
   "execution_count": 8,
   "metadata": {},
   "outputs": [
    {
     "data": {
      "text/html": [
       "<pre style=\"white-space:pre;overflow-x:auto;line-height:normal;font-family:Menlo,'DejaVu Sans Mono',consolas,'Courier New',monospace\"><span style=\"color: #008000; text-decoration-color: #008000\">\"[\\\"{\\\\\\\"url\\\\\\\": \\\\\\\"https://kids.kiddle.co/Lionel_Messi\\\\\\\", \\\\\\\"content\\\\\\\": \\\\\\\"Lionel Andr\\\\\\\\u00e9s Messi ( </span>\n",
       "<span style=\"color: #008000; text-decoration-color: #008000\">born 24 June 1987), also known as Leo Messi, is an Argentine professional footballer who plays as a forward for and</span>\n",
       "<span style=\"color: #008000; text-decoration-color: #008000\">captains both Major League Soccer club Inter Miami and the Argentina national team. Messi has also invested in </span>\n",
       "<span style=\"color: #008000; text-decoration-color: #008000\">youth football in Argentina: he financially supports Sarmiento, a football club based in the Rosario neighbourhood </span>\n",
       "<span style=\"color: #008000; text-decoration-color: #008000\">where he was born, committing in 2013 to the refurbishment of their facilities and the installation of all-weather </span>\n",
       "<span style=\"color: #008000; text-decoration-color: #008000\">pitches, and funds the management of several youth players at Newell's Old Boys and rival club Rosario Central, as </span>\n",
       "<span style=\"color: #008000; text-decoration-color: #008000\">well as at River Plate and Boca Juniors in Buenos Aires.\\\\\\\"}\\\", \\\"{\\\\\\\"url\\\\\\\": </span>\n",
       "<span style=\"color: #008000; text-decoration-color: #008000\">\\\\\\\"https://www.thefamouspeople.com/profiles/lionel-messi-5242.php\\\\\\\", \\\\\\\"content\\\\\\\": \\\\\\\"Lionel Messi is an </span>\n",
       "<span style=\"color: #008000; text-decoration-color: #008000\">Argentine former professional footballer counted amongst the best players in the world in football history. The </span>\n",
       "<span style=\"color: #008000; text-decoration-color: #008000\">only player in history to win five FIFA Ballons d'Or, he was also the first player to win three European Golden </span>\n",
       "<span style=\"color: #008000; text-decoration-color: #008000\">Shoes. During his playing career he shattered many world records and currently holds the records for most goals </span>\n",
       "<span style=\"color: #008000; text-decoration-color: #008000\">scored in La Liga, a La Liga season (50\\\\\\\"}\\\", \\\"{\\\\\\\"url\\\\\\\": </span>\n",
       "<span style=\"color: #008000; text-decoration-color: #008000\">\\\\\\\"https://www.britannica.com/biography/Lionel-Messi\\\\\\\", \\\\\\\"content\\\\\\\": \\\\\\\"In early 2009 Messi capped off a </span>\n",
       "<span style=\"color: #008000; text-decoration-color: #008000\">spectacular 2008\\\\\\\\u201309 season by helping FC Barcelona capture the club\\\\\\\\u2019s first </span>\n",
       "<span style=\"color: #008000; text-decoration-color: #008000\">\\\\\\\\u201ctreble\\\\\\\\u201d (winning three major European club titles in one season): the team won the La Liga </span>\n",
       "<span style=\"color: #008000; text-decoration-color: #008000\">championship, the Copa del Rey (Spain\\\\\\\\u2019s major domestic cup), and the Champions League title. </span>\n",
       "<span style=\"color: #008000; text-decoration-color: #008000\">Messi\\\\\\\\u2019s play continued to rapidly improve over the years, and by 2008 he was one of the most dominant </span>\n",
       "<span style=\"color: #008000; text-decoration-color: #008000\">players in the world, finishing second to Manchester United\\\\\\\\u2019s Cristiano Ronaldo in the voting for the 2008 </span>\n",
       "<span style=\"color: #008000; text-decoration-color: #008000\">Ballon d\\\\\\\\u2019Or. At the 2014 World Cup, Messi put on a dazzling display, scoring four goals and almost </span>\n",
       "<span style=\"color: #008000; text-decoration-color: #008000\">single-handedly propelling an offense-deficient Argentina team through the group stage and into the knockout </span>\n",
       "<span style=\"color: #008000; text-decoration-color: #008000\">rounds, where Argentina then advanced to the World Cup final for the first time in 24 years. After Argentina was </span>\n",
       "<span style=\"color: #008000; text-decoration-color: #008000\">defeated in the Copa final\\\\\\\\u2014the team\\\\\\\\u2019s third consecutive finals loss in a major </span>\n",
       "<span style=\"color: #008000; text-decoration-color: #008000\">tournament\\\\\\\\u2014Messi said that he was quitting the national team, but his short-lived </span>\n",
       "<span style=\"color: #008000; text-decoration-color: #008000\">\\\\\\\\u201cretirement\\\\\\\\u201d lasted less than two months before he announced his return to the Argentine team. </span>\n",
       "<span style=\"color: #008000; text-decoration-color: #008000\">Messi helped Barcelona capture another treble during the 2014\\\\\\\\u201315 season, leading the team with 43 goals </span>\n",
       "<span style=\"color: #008000; text-decoration-color: #008000\">scored over the course of the campaign, which resulted in his fifth world player of the year honour.\\\\\\\"}\\\", </span>\n",
       "<span style=\"color: #008000; text-decoration-color: #008000\">\\\"{\\\\\\\"url\\\\\\\": \\\\\\\"https://en.wikipedia.org/wiki/Lionel_Messi\\\\\\\", \\\\\\\"content\\\\\\\": \\\\\\\"He scored twice in the </span>\n",
       "<span style=\"color: #008000; text-decoration-color: #008000\">last group match, a 3\\\\\\\\u20132 victory over Nigeria, his second goal coming from a free kick, as they finished </span>\n",
       "<span style=\"color: #008000; text-decoration-color: #008000\">first in their group.[423] Messi assisted a late goal in extra time to ensure a 1\\\\\\\\u20130 win against Switzerland</span>\n",
       "<span style=\"color: #008000; text-decoration-color: #008000\">in the round of 16, and played in the 1\\\\\\\\u20130 quarter-final win against Belgium as Argentina progressed to the </span>\n",
       "<span style=\"color: #008000; text-decoration-color: #008000\">semi-final of the World Cup for the first time since 1990.[424][425] Following a 0\\\\\\\\u20130 draw in extra time, </span>\n",
       "<span style=\"color: #008000; text-decoration-color: #008000\">they eliminated the Netherlands 4\\\\\\\\u20132 in a penalty shootout to reach the final, with Messi scoring his team's</span>\n",
       "<span style=\"color: #008000; text-decoration-color: #008000\">first penalty.[426]\\\\\\\\nBilled as Messi versus Germany, the world's best player against the best team, the final </span>\n",
       "<span style=\"color: #008000; text-decoration-color: #008000\">was a repeat of the 1990 final featuring Diego Maradona.[427] Within the first half-hour, Messi had started the </span>\n",
       "<span style=\"color: #008000; text-decoration-color: #008000\">play that led to a goal, but it was ruled offside. \\\\\\\\\\\\\\\"[582] Moreover, several pundits and footballing figures,</span>\n",
       "<span style=\"color: #008000; text-decoration-color: #008000\">including Maradona, questioned Messi's leadership with Argentina at times, despite his playing </span>\n",
       "<span style=\"color: #008000; text-decoration-color: #008000\">ability.[583][584][585] Vickery states the perception of Messi among Argentines changed in 2019, with Messi making </span>\n",
       "<span style=\"color: #008000; text-decoration-color: #008000\">a conscious effort to become \\\\\\\\\\\\\\\"more one of the group, more Argentine\\\\\\\\\\\\\\\", with Vickery adding that </span>\n",
       "<span style=\"color: #008000; text-decoration-color: #008000\">following the World Cup victory in 2022 Messi would now be held in the same esteem by his compatriots as </span>\n",
       "<span style=\"color: #008000; text-decoration-color: #008000\">Maradona.[581]\\\\\\\\nComparisons with Cristiano Ronaldo\\\\\\\\nAmong his contemporary peers, Messi is most often </span>\n",
       "<span style=\"color: #008000; text-decoration-color: #008000\">compared and contrasted with Portuguese forward Cristiano Ronaldo, as part of an ongoing rivalry that has been </span>\n",
       "<span style=\"color: #008000; text-decoration-color: #008000\">compared to past sports rivalries like the Muhammad Ali\\\\\\\\u2013Joe Frazier rivalry in boxing, the Roger </span>\n",
       "<span style=\"color: #008000; text-decoration-color: #008000\">Federer\\\\\\\\u2013Rafael Nadal rivalry in tennis, and the Prost\\\\\\\\u2013Senna rivalry from Formula One motor </span>\n",
       "<span style=\"color: #008000; text-decoration-color: #008000\">racing.[586][587]\\\\\\\\nAlthough Messi has at times denied any rivalry,[588][589] they are widely believed to push </span>\n",
       "<span style=\"color: #008000; text-decoration-color: #008000\">one another in their aim to be the best player in the world.[160] Since 2008, Messi has won eight Ballons d'Or to </span>\n",
       "<span style=\"color: #008000; text-decoration-color: #008000\">Ronaldo's five,[590] seven FIFA World's Best Player awards to Ronaldo's five, and six European Golden Shoes to </span>\n",
       "<span style=\"color: #008000; text-decoration-color: #008000\">Ronaldo's four.[591] Pundits and fans regularly argue the individual merits of both players.[160][592] On 11 July, </span>\n",
       "<span style=\"color: #008000; text-decoration-color: #008000\">Messi provided his 20th assist of the league season for Arturo Vidal in a 1\\\\\\\\u20130 away win over Real </span>\n",
       "<span style=\"color: #008000; text-decoration-color: #008000\">Valladolid, equalling Xavi's record of 20 assists in a single La Liga season from 2008 to 2009;[281][282] with 22 </span>\n",
       "<span style=\"color: #008000; text-decoration-color: #008000\">goals, he also became only the second player ever, after Thierry Henry in the 2002\\\\\\\\u201303 FA Premier League </span>\n",
       "<span style=\"color: #008000; text-decoration-color: #008000\">season with Arsenal (24 goals and 20 assists), to record at least 20 goals and 20 assists in a single league season</span>\n",
       "<span style=\"color: #008000; text-decoration-color: #008000\">in one of Europe's top-five leagues.[282][283] Following his brace in a 5\\\\\\\\u20130 away win against Alav\\\\\\\\u00e9s</span>\n",
       "<span style=\"color: #008000; text-decoration-color: #008000\">in the final match of the season on 20 May, Messi finished the season as both the top scorer and top assist </span>\n",
       "<span style=\"color: #008000; text-decoration-color: #008000\">provider in La Liga, with 25 goals and 21 assists respectively, which saw him win his record seventh Pichichi </span>\n",
       "<span style=\"color: #008000; text-decoration-color: #008000\">trophy, overtaking Zarra; however, Barcelona missed out on the league title to Real Madrid.[284] On 7 March, two </span>\n",
       "<span style=\"color: #008000; text-decoration-color: #008000\">weeks after scoring four goals in a league fixture against Valencia, he scored five times in a Champions League </span>\n",
       "<span style=\"color: #008000; text-decoration-color: #008000\">last 16-round match against Bayer Leverkusen, an unprecedented achievement in the history of the </span>\n",
       "<span style=\"color: #008000; text-decoration-color: #008000\">competition.[126][127] In addition to being the joint top assist provider with five assists, this feat made him top</span>\n",
       "<span style=\"color: #008000; text-decoration-color: #008000\">scorer with 14 goals, tying Jos\\\\\\\\u00e9 Altafini's record from the 1962\\\\\\\\u201363 season, as well as becoming </span>\n",
       "<span style=\"color: #008000; text-decoration-color: #008000\">only the second player after Gerd M\\\\\\\\u00fcller to be top scorer in four campaigns.[128][129] Two weeks later, on </span>\n",
       "<span style=\"color: #008000; text-decoration-color: #008000\">20 March, Messi became the top goalscorer in Barcelona's history at 24 years old, overtaking the 57-year record of </span>\n",
       "<span style=\"color: #008000; text-decoration-color: #008000\">C\\\\\\\\u00e9sar Rodr\\\\\\\\u00edguez's 232 goals with a hat-trick against Granada.[130]\\\\\\\\nDespite Messi's individual </span>\n",
       "<span style=\"color: #008000; text-decoration-color: #008000\">form, Barcelona's four-year cycle of success under Guardiola \\\\\\\\u2013 one of the greatest eras in the club's </span>\n",
       "<span style=\"color: #008000; text-decoration-color: #008000\">history \\\\\\\\u2013 drew to an end.[131] He still managed to break two longstanding records in a span of seven days: </span>\n",
       "<span style=\"color: #008000; text-decoration-color: #008000\">a hat-trick on 16 March against Osasuna saw him overtake Paulino Alc\\\\\\\\u00e1ntara's 369 goals to become </span>\n",
       "<span style=\"color: #008000; text-decoration-color: #008000\">Barcelona's top goalscorer in all competitions including friendlies, while another hat-trick against Real Madrid on</span>\n",
       "<span style=\"color: #008000; text-decoration-color: #008000\">23 March made him the all-time top scorer in El Cl\\\\\\\\u00e1sico, ahead of the 18 goals scored by former Real Madrid</span>\n",
       "<span style=\"color: #008000; text-decoration-color: #008000\">player Alfredo Di St\\\\\\\\u00e9fano.[160][162] Messi finished the campaign with his worst output in five seasons, </span>\n",
       "<span style=\"color: #008000; text-decoration-color: #008000\">though he still managed to score 41 goals in all competitions.[161][163] For the first time in five years, </span>\n",
       "<span style=\"color: #008000; text-decoration-color: #008000\">Barcelona ended the season without a major trophy; they were defeated in the Copa del Rey final by Real Madrid and </span>\n",
       "<span style=\"color: #008000; text-decoration-color: #008000\">lost the league in the last game to Atl\\\\\\\\u00e9tico Madrid, causing Messi to be booed by sections of fans at the </span>\n",
       "<span style=\"color: #008000; text-decoration-color: #008000\">Camp Nou.[164]\\\\\\\"}\\\", \\\"{\\\\\\\"url\\\\\\\": \\\\\\\"https://www.biography.com/athletes/lionel-messi\\\\\\\", \\\\\\\"content\\\\\\\": </span>\n",
       "<span style=\"color: #008000; text-decoration-color: #008000\">\\\\\\\"The following year, after Messi heavily criticized the referees in the wake of a 2-0 loss to Brazil in the Copa</span>\n",
       "<span style=\"color: #008000; text-decoration-color: #008000\">America semifinals, the Argentine captain was slapped with a three-game ban by the South American Football </span>\n",
       "<span style=\"color: #008000; text-decoration-color: #008000\">Confederation.\\\\\\\\n So, at the age of 13, when Messi was offered the chance to train at soccer powerhouse FC </span>\n",
       "<span style=\"color: #008000; text-decoration-color: #008000\">Barcelona\\\\\\\\u2019s youth academy, La Masia, and have his medical bills covered by the team, Messi\\\\\\\\u2019s family</span>\n",
       "<span style=\"color: #008000; text-decoration-color: #008000\">picked up and moved across the Atlantic to make a new home in Spain. Famous Athletes\\\\\\\\nDennis Rodman\\\\\\\\nBrett </span>\n",
       "<span style=\"color: #008000; text-decoration-color: #008000\">Favre\\\\\\\\nTiger Woods\\\\\\\\nJohn McEnroe\\\\\\\\nKurt Warner\\\\\\\\nSandy Koufax\\\\\\\\n10 Things You Might Not Know About </span>\n",
       "<span style=\"color: #008000; text-decoration-color: #008000\">Travis Kelce\\\\\\\\nPeyton Manning\\\\\\\\nJames Harden\\\\\\\\nKobe Bryant\\\\\\\\nStephen Curry\\\\\\\\nKyrie Irving\\\\\\\\nA Part of </span>\n",
       "<span style=\"color: #008000; text-decoration-color: #008000\">Hearst Digital Media\\\\\\\\n Their marriage, a civil ceremony dubbed by Argentina\\\\\\\\u2019s Clar\\\\\\\\u00edn newspaper </span>\n",
       "<span style=\"color: #008000; text-decoration-color: #008000\">as the \\\\\\\\u201cwedding of the century,\\\\\\\\u201d was held at a luxury hotel in Rosario, with a number of fellow </span>\n",
       "<span style=\"color: #008000; text-decoration-color: #008000\">star soccer players and Colombian pop star Shakira on the 260-person guest list.\\\\\\\\n In 2013, the soccer great </span>\n",
       "<span style=\"color: #008000; text-decoration-color: #008000\">came back to earth somewhat due to the persistence of hamstring injuries, but he regained his record-breaking form </span>\n",
       "<span style=\"color: #008000; text-decoration-color: #008000\">by becoming the all-time leading scorer in La Liga and Champions League play in late 2014.\\\\\\\\n\\\\\\\"}\\\"]\"</span>\n",
       "</pre>\n"
      ],
      "text/plain": [
       "\u001b[32m\"\u001b[0m\u001b[32m[\u001b[0m\u001b[32m\\\"\u001b[0m\u001b[32m{\u001b[0m\u001b[32m\\\\\\\"url\\\\\\\": \\\\\\\"https://kids.kiddle.co/Lionel_Messi\\\\\\\", \\\\\\\"content\\\\\\\": \\\\\\\"Lionel Andr\\\\\\\\u00e9s Messi \u001b[0m\u001b[32m(\u001b[0m\u001b[32m \u001b[0m\n",
       "\u001b[32mborn 24 June 1987\u001b[0m\u001b[32m)\u001b[0m\u001b[32m, also known as Leo Messi, is an Argentine professional footballer who plays as a forward for and\u001b[0m\n",
       "\u001b[32mcaptains both Major League Soccer club Inter Miami and the Argentina national team. Messi has also invested in \u001b[0m\n",
       "\u001b[32myouth football in Argentina: he financially supports Sarmiento, a football club based in the Rosario neighbourhood \u001b[0m\n",
       "\u001b[32mwhere he was born, committing in 2013 to the refurbishment of their facilities and the installation of all-weather \u001b[0m\n",
       "\u001b[32mpitches, and funds the management of several youth players at Newell's Old Boys and rival club Rosario Central, as \u001b[0m\n",
       "\u001b[32mwell as at River Plate and Boca Juniors in Buenos Aires.\\\\\\\"\u001b[0m\u001b[32m}\u001b[0m\u001b[32m\\\", \\\"\u001b[0m\u001b[32m{\u001b[0m\u001b[32m\\\\\\\"url\\\\\\\": \u001b[0m\n",
       "\u001b[32m\\\\\\\"https://www.thefamouspeople.com/profiles/lionel-messi-5242.php\\\\\\\", \\\\\\\"content\\\\\\\": \\\\\\\"Lionel Messi is an \u001b[0m\n",
       "\u001b[32mArgentine former professional footballer counted amongst the best players in the world in football history. The \u001b[0m\n",
       "\u001b[32monly player in history to win five FIFA Ballons d'Or, he was also the first player to win three European Golden \u001b[0m\n",
       "\u001b[32mShoes. During his playing career he shattered many world records and currently holds the records for most goals \u001b[0m\n",
       "\u001b[32mscored in La Liga, a La Liga season \u001b[0m\u001b[32m(\u001b[0m\u001b[32m50\\\\\\\"\u001b[0m\u001b[32m}\u001b[0m\u001b[32m\\\", \\\"\u001b[0m\u001b[32m{\u001b[0m\u001b[32m\\\\\\\"url\\\\\\\": \u001b[0m\n",
       "\u001b[32m\\\\\\\"https://www.britannica.com/biography/Lionel-Messi\\\\\\\", \\\\\\\"content\\\\\\\": \\\\\\\"In early 2009 Messi capped off a \u001b[0m\n",
       "\u001b[32mspectacular 2008\\\\\\\\u201309 season by helping FC Barcelona capture the club\\\\\\\\u2019s first \u001b[0m\n",
       "\u001b[32m\\\\\\\\u201ctreble\\\\\\\\u201d \u001b[0m\u001b[32m(\u001b[0m\u001b[32mwinning three major European club titles in one season\u001b[0m\u001b[32m)\u001b[0m\u001b[32m: the team won the La Liga \u001b[0m\n",
       "\u001b[32mchampionship, the Copa del Rey \u001b[0m\u001b[32m(\u001b[0m\u001b[32mSpain\\\\\\\\u2019s major domestic cup\u001b[0m\u001b[32m)\u001b[0m\u001b[32m, and the Champions League title. \u001b[0m\n",
       "\u001b[32mMessi\\\\\\\\u2019s play continued to rapidly improve over the years, and by 2008 he was one of the most dominant \u001b[0m\n",
       "\u001b[32mplayers in the world, finishing second to Manchester United\\\\\\\\u2019s Cristiano Ronaldo in the voting for the 2008 \u001b[0m\n",
       "\u001b[32mBallon d\\\\\\\\u2019Or. At the 2014 World Cup, Messi put on a dazzling display, scoring four goals and almost \u001b[0m\n",
       "\u001b[32msingle-handedly propelling an offense-deficient Argentina team through the group stage and into the knockout \u001b[0m\n",
       "\u001b[32mrounds, where Argentina then advanced to the World Cup final for the first time in 24 years. After Argentina was \u001b[0m\n",
       "\u001b[32mdefeated in the Copa final\\\\\\\\u2014the team\\\\\\\\u2019s third consecutive finals loss in a major \u001b[0m\n",
       "\u001b[32mtournament\\\\\\\\u2014Messi said that he was quitting the national team, but his short-lived \u001b[0m\n",
       "\u001b[32m\\\\\\\\u201cretirement\\\\\\\\u201d lasted less than two months before he announced his return to the Argentine team. \u001b[0m\n",
       "\u001b[32mMessi helped Barcelona capture another treble during the 2014\\\\\\\\u201315 season, leading the team with 43 goals \u001b[0m\n",
       "\u001b[32mscored over the course of the campaign, which resulted in his fifth world player of the year honour.\\\\\\\"\u001b[0m\u001b[32m}\u001b[0m\u001b[32m\\\", \u001b[0m\n",
       "\u001b[32m\\\"\u001b[0m\u001b[32m{\u001b[0m\u001b[32m\\\\\\\"url\\\\\\\": \\\\\\\"https://en.wikipedia.org/wiki/Lionel_Messi\\\\\\\", \\\\\\\"content\\\\\\\": \\\\\\\"He scored twice in the \u001b[0m\n",
       "\u001b[32mlast group match, a 3\\\\\\\\u20132 victory over Nigeria, his second goal coming from a free kick, as they finished \u001b[0m\n",
       "\u001b[32mfirst in their group.\u001b[0m\u001b[32m[\u001b[0m\u001b[32m423\u001b[0m\u001b[32m]\u001b[0m\u001b[32m Messi assisted a late goal in extra time to ensure a 1\\\\\\\\u20130 win against Switzerland\u001b[0m\n",
       "\u001b[32min the round of 16, and played in the 1\\\\\\\\u20130 quarter-final win against Belgium as Argentina progressed to the \u001b[0m\n",
       "\u001b[32msemi-final of the World Cup for the first time since 1990.\u001b[0m\u001b[32m[\u001b[0m\u001b[32m424\u001b[0m\u001b[32m]\u001b[0m\u001b[32m[\u001b[0m\u001b[32m425\u001b[0m\u001b[32m]\u001b[0m\u001b[32m Following a 0\\\\\\\\u20130 draw in extra time, \u001b[0m\n",
       "\u001b[32mthey eliminated the Netherlands 4\\\\\\\\u20132 in a penalty shootout to reach the final, with Messi scoring his team's\u001b[0m\n",
       "\u001b[32mfirst penalty.\u001b[0m\u001b[32m[\u001b[0m\u001b[32m426\u001b[0m\u001b[32m]\u001b[0m\u001b[32m\\\\\\\\nBilled as Messi versus Germany, the world's best player against the best team, the final \u001b[0m\n",
       "\u001b[32mwas a repeat of the 1990 final featuring Diego Maradona.\u001b[0m\u001b[32m[\u001b[0m\u001b[32m427\u001b[0m\u001b[32m]\u001b[0m\u001b[32m Within the first half-hour, Messi had started the \u001b[0m\n",
       "\u001b[32mplay that led to a goal, but it was ruled offside. \\\\\\\\\\\\\\\"\u001b[0m\u001b[32m[\u001b[0m\u001b[32m582\u001b[0m\u001b[32m]\u001b[0m\u001b[32m Moreover, several pundits and footballing figures,\u001b[0m\n",
       "\u001b[32mincluding Maradona, questioned Messi's leadership with Argentina at times, despite his playing \u001b[0m\n",
       "\u001b[32mability.\u001b[0m\u001b[32m[\u001b[0m\u001b[32m583\u001b[0m\u001b[32m]\u001b[0m\u001b[32m[\u001b[0m\u001b[32m584\u001b[0m\u001b[32m]\u001b[0m\u001b[32m[\u001b[0m\u001b[32m585\u001b[0m\u001b[32m]\u001b[0m\u001b[32m Vickery states the perception of Messi among Argentines changed in 2019, with Messi making \u001b[0m\n",
       "\u001b[32ma conscious effort to become \\\\\\\\\\\\\\\"more one of the group, more Argentine\\\\\\\\\\\\\\\", with Vickery adding that \u001b[0m\n",
       "\u001b[32mfollowing the World Cup victory in 2022 Messi would now be held in the same esteem by his compatriots as \u001b[0m\n",
       "\u001b[32mMaradona.\u001b[0m\u001b[32m[\u001b[0m\u001b[32m581\u001b[0m\u001b[32m]\u001b[0m\u001b[32m\\\\\\\\nComparisons with Cristiano Ronaldo\\\\\\\\nAmong his contemporary peers, Messi is most often \u001b[0m\n",
       "\u001b[32mcompared and contrasted with Portuguese forward Cristiano Ronaldo, as part of an ongoing rivalry that has been \u001b[0m\n",
       "\u001b[32mcompared to past sports rivalries like the Muhammad Ali\\\\\\\\u2013Joe Frazier rivalry in boxing, the Roger \u001b[0m\n",
       "\u001b[32mFederer\\\\\\\\u2013Rafael Nadal rivalry in tennis, and the Prost\\\\\\\\u2013Senna rivalry from Formula One motor \u001b[0m\n",
       "\u001b[32mracing.\u001b[0m\u001b[32m[\u001b[0m\u001b[32m586\u001b[0m\u001b[32m]\u001b[0m\u001b[32m[\u001b[0m\u001b[32m587\u001b[0m\u001b[32m]\u001b[0m\u001b[32m\\\\\\\\nAlthough Messi has at times denied any rivalry,\u001b[0m\u001b[32m[\u001b[0m\u001b[32m588\u001b[0m\u001b[32m]\u001b[0m\u001b[32m[\u001b[0m\u001b[32m589\u001b[0m\u001b[32m]\u001b[0m\u001b[32m they are widely believed to push \u001b[0m\n",
       "\u001b[32mone another in their aim to be the best player in the world.\u001b[0m\u001b[32m[\u001b[0m\u001b[32m160\u001b[0m\u001b[32m]\u001b[0m\u001b[32m Since 2008, Messi has won eight Ballons d'Or to \u001b[0m\n",
       "\u001b[32mRonaldo's five,\u001b[0m\u001b[32m[\u001b[0m\u001b[32m590\u001b[0m\u001b[32m]\u001b[0m\u001b[32m seven FIFA World's Best Player awards to Ronaldo's five, and six European Golden Shoes to \u001b[0m\n",
       "\u001b[32mRonaldo's four.\u001b[0m\u001b[32m[\u001b[0m\u001b[32m591\u001b[0m\u001b[32m]\u001b[0m\u001b[32m Pundits and fans regularly argue the individual merits of both players.\u001b[0m\u001b[32m[\u001b[0m\u001b[32m160\u001b[0m\u001b[32m]\u001b[0m\u001b[32m[\u001b[0m\u001b[32m592\u001b[0m\u001b[32m]\u001b[0m\u001b[32m On 11 July, \u001b[0m\n",
       "\u001b[32mMessi provided his 20th assist of the league season for Arturo Vidal in a 1\\\\\\\\u20130 away win over Real \u001b[0m\n",
       "\u001b[32mValladolid, equalling Xavi's record of 20 assists in a single La Liga season from 2008 to 2009;\u001b[0m\u001b[32m[\u001b[0m\u001b[32m281\u001b[0m\u001b[32m]\u001b[0m\u001b[32m[\u001b[0m\u001b[32m282\u001b[0m\u001b[32m]\u001b[0m\u001b[32m with 22 \u001b[0m\n",
       "\u001b[32mgoals, he also became only the second player ever, after Thierry Henry in the 2002\\\\\\\\u201303 FA Premier League \u001b[0m\n",
       "\u001b[32mseason with Arsenal \u001b[0m\u001b[32m(\u001b[0m\u001b[32m24 goals and 20 assists\u001b[0m\u001b[32m)\u001b[0m\u001b[32m, to record at least 20 goals and 20 assists in a single league season\u001b[0m\n",
       "\u001b[32min one of Europe's top-five leagues.\u001b[0m\u001b[32m[\u001b[0m\u001b[32m282\u001b[0m\u001b[32m]\u001b[0m\u001b[32m[\u001b[0m\u001b[32m283\u001b[0m\u001b[32m]\u001b[0m\u001b[32m Following his brace in a 5\\\\\\\\u20130 away win against Alav\\\\\\\\u00e9s\u001b[0m\n",
       "\u001b[32min the final match of the season on 20 May, Messi finished the season as both the top scorer and top assist \u001b[0m\n",
       "\u001b[32mprovider in La Liga, with 25 goals and 21 assists respectively, which saw him win his record seventh Pichichi \u001b[0m\n",
       "\u001b[32mtrophy, overtaking Zarra; however, Barcelona missed out on the league title to Real Madrid.\u001b[0m\u001b[32m[\u001b[0m\u001b[32m284\u001b[0m\u001b[32m]\u001b[0m\u001b[32m On 7 March, two \u001b[0m\n",
       "\u001b[32mweeks after scoring four goals in a league fixture against Valencia, he scored five times in a Champions League \u001b[0m\n",
       "\u001b[32mlast 16-round match against Bayer Leverkusen, an unprecedented achievement in the history of the \u001b[0m\n",
       "\u001b[32mcompetition.\u001b[0m\u001b[32m[\u001b[0m\u001b[32m126\u001b[0m\u001b[32m]\u001b[0m\u001b[32m[\u001b[0m\u001b[32m127\u001b[0m\u001b[32m]\u001b[0m\u001b[32m In addition to being the joint top assist provider with five assists, this feat made him top\u001b[0m\n",
       "\u001b[32mscorer with 14 goals, tying Jos\\\\\\\\u00e9 Altafini's record from the 1962\\\\\\\\u201363 season, as well as becoming \u001b[0m\n",
       "\u001b[32monly the second player after Gerd M\\\\\\\\u00fcller to be top scorer in four campaigns.\u001b[0m\u001b[32m[\u001b[0m\u001b[32m128\u001b[0m\u001b[32m]\u001b[0m\u001b[32m[\u001b[0m\u001b[32m129\u001b[0m\u001b[32m]\u001b[0m\u001b[32m Two weeks later, on \u001b[0m\n",
       "\u001b[32m20 March, Messi became the top goalscorer in Barcelona's history at 24 years old, overtaking the 57-year record of \u001b[0m\n",
       "\u001b[32mC\\\\\\\\u00e9sar Rodr\\\\\\\\u00edguez's 232 goals with a hat-trick against Granada.\u001b[0m\u001b[32m[\u001b[0m\u001b[32m130\u001b[0m\u001b[32m]\u001b[0m\u001b[32m\\\\\\\\nDespite Messi's individual \u001b[0m\n",
       "\u001b[32mform, Barcelona's four-year cycle of success under Guardiola \\\\\\\\u2013 one of the greatest eras in the club's \u001b[0m\n",
       "\u001b[32mhistory \\\\\\\\u2013 drew to an end.\u001b[0m\u001b[32m[\u001b[0m\u001b[32m131\u001b[0m\u001b[32m]\u001b[0m\u001b[32m He still managed to break two longstanding records in a span of seven days: \u001b[0m\n",
       "\u001b[32ma hat-trick on 16 March against Osasuna saw him overtake Paulino Alc\\\\\\\\u00e1ntara's 369 goals to become \u001b[0m\n",
       "\u001b[32mBarcelona's top goalscorer in all competitions including friendlies, while another hat-trick against Real Madrid on\u001b[0m\n",
       "\u001b[32m23 March made him the all-time top scorer in El Cl\\\\\\\\u00e1sico, ahead of the 18 goals scored by former Real Madrid\u001b[0m\n",
       "\u001b[32mplayer Alfredo Di St\\\\\\\\u00e9fano.\u001b[0m\u001b[32m[\u001b[0m\u001b[32m160\u001b[0m\u001b[32m]\u001b[0m\u001b[32m[\u001b[0m\u001b[32m162\u001b[0m\u001b[32m]\u001b[0m\u001b[32m Messi finished the campaign with his worst output in five seasons, \u001b[0m\n",
       "\u001b[32mthough he still managed to score 41 goals in all competitions.\u001b[0m\u001b[32m[\u001b[0m\u001b[32m161\u001b[0m\u001b[32m]\u001b[0m\u001b[32m[\u001b[0m\u001b[32m163\u001b[0m\u001b[32m]\u001b[0m\u001b[32m For the first time in five years, \u001b[0m\n",
       "\u001b[32mBarcelona ended the season without a major trophy; they were defeated in the Copa del Rey final by Real Madrid and \u001b[0m\n",
       "\u001b[32mlost the league in the last game to Atl\\\\\\\\u00e9tico Madrid, causing Messi to be booed by sections of fans at the \u001b[0m\n",
       "\u001b[32mCamp Nou.\u001b[0m\u001b[32m[\u001b[0m\u001b[32m164\u001b[0m\u001b[32m]\u001b[0m\u001b[32m\\\\\\\"\u001b[0m\u001b[32m}\u001b[0m\u001b[32m\\\", \\\"\u001b[0m\u001b[32m{\u001b[0m\u001b[32m\\\\\\\"url\\\\\\\": \\\\\\\"https://www.biography.com/athletes/lionel-messi\\\\\\\", \\\\\\\"content\\\\\\\": \u001b[0m\n",
       "\u001b[32m\\\\\\\"The following year, after Messi heavily criticized the referees in the wake of a 2-0 loss to Brazil in the Copa\u001b[0m\n",
       "\u001b[32mAmerica semifinals, the Argentine captain was slapped with a three-game ban by the South American Football \u001b[0m\n",
       "\u001b[32mConfederation.\\\\\\\\n So, at the age of 13, when Messi was offered the chance to train at soccer powerhouse FC \u001b[0m\n",
       "\u001b[32mBarcelona\\\\\\\\u2019s youth academy, La Masia, and have his medical bills covered by the team, Messi\\\\\\\\u2019s family\u001b[0m\n",
       "\u001b[32mpicked up and moved across the Atlantic to make a new home in Spain. Famous Athletes\\\\\\\\nDennis Rodman\\\\\\\\nBrett \u001b[0m\n",
       "\u001b[32mFavre\\\\\\\\nTiger Woods\\\\\\\\nJohn McEnroe\\\\\\\\nKurt Warner\\\\\\\\nSandy Koufax\\\\\\\\n10 Things You Might Not Know About \u001b[0m\n",
       "\u001b[32mTravis Kelce\\\\\\\\nPeyton Manning\\\\\\\\nJames Harden\\\\\\\\nKobe Bryant\\\\\\\\nStephen Curry\\\\\\\\nKyrie Irving\\\\\\\\nA Part of \u001b[0m\n",
       "\u001b[32mHearst Digital Media\\\\\\\\n Their marriage, a civil ceremony dubbed by Argentina\\\\\\\\u2019s Clar\\\\\\\\u00edn newspaper \u001b[0m\n",
       "\u001b[32mas the \\\\\\\\u201cwedding of the century,\\\\\\\\u201d was held at a luxury hotel in Rosario, with a number of fellow \u001b[0m\n",
       "\u001b[32mstar soccer players and Colombian pop star Shakira on the 260-person guest list.\\\\\\\\n In 2013, the soccer great \u001b[0m\n",
       "\u001b[32mcame back to earth somewhat due to the persistence of hamstring injuries, but he regained his record-breaking form \u001b[0m\n",
       "\u001b[32mby becoming the all-time leading scorer in La Liga and Champions League play in late 2014.\\\\\\\\n\\\\\\\"\u001b[0m\u001b[32m}\u001b[0m\u001b[32m\\\"\u001b[0m\u001b[32m]\u001b[0m\u001b[32m\"\u001b[0m\n"
      ]
     },
     "metadata": {},
     "output_type": "display_data"
    }
   ],
   "source": [
    "# context generation for RAG using tavily client\n",
    "\n",
    "tavily_client = TavilyClient(api_key=os.getenv(\"TAVILY_API_KEY\"))\n",
    "context = tavily_client.get_search_context(query=\"Who is Leo Messi?\")\n",
    "rprint(context)"
   ]
  },
  {
   "cell_type": "code",
   "execution_count": 9,
   "metadata": {},
   "outputs": [
    {
     "data": {
      "text/html": [
       "<pre style=\"white-space:pre;overflow-x:auto;line-height:normal;font-family:Menlo,'DejaVu Sans Mono',consolas,'Courier New',monospace\">Lionel Messi, born in Rosario, Argentina in <span style=\"color: #008080; text-decoration-color: #008080; font-weight: bold\">1987</span>, is widely considered one of the greatest football players of his \n",
       "generation. Graduating through the ranks of FC Barcelona, Messi became their top goal-scorer before moving to Paris\n",
       "Saint-Germain in <span style=\"color: #008080; text-decoration-color: #008080; font-weight: bold\">2021</span>. He has won multiple titles, including the Olympic gold in <span style=\"color: #008080; text-decoration-color: #008080; font-weight: bold\">2008</span> and has been a dominant force\n",
       "in both club and international football, with impressive goal-scoring records in both realms.\n",
       "</pre>\n"
      ],
      "text/plain": [
       "Lionel Messi, born in Rosario, Argentina in \u001b[1;36m1987\u001b[0m, is widely considered one of the greatest football players of his \n",
       "generation. Graduating through the ranks of FC Barcelona, Messi became their top goal-scorer before moving to Paris\n",
       "Saint-Germain in \u001b[1;36m2021\u001b[0m. He has won multiple titles, including the Olympic gold in \u001b[1;36m2008\u001b[0m and has been a dominant force\n",
       "in both club and international football, with impressive goal-scoring records in both realms.\n"
      ]
     },
     "metadata": {},
     "output_type": "display_data"
    }
   ],
   "source": [
    "# q&a using tavily client\n",
    "\n",
    "tavily_client = TavilyClient(api_key=os.getenv(\"TAVILY_API_KEY\"))\n",
    "answer = tavily_client.qna_search(query=\"Who is Leo Messi?\")\n",
    "rprint(answer)"
   ]
  },
  {
   "cell_type": "code",
   "execution_count": 77,
   "metadata": {},
   "outputs": [
    {
     "data": {
      "text/html": [
       "<pre style=\"white-space:pre;overflow-x:auto;line-height:normal;font-family:Menlo,'DejaVu Sans Mono',consolas,'Courier New',monospace\">The genereated query is:\n",
       "</pre>\n"
      ],
      "text/plain": [
       "The genereated query is:\n"
      ]
     },
     "metadata": {},
     "output_type": "display_data"
    },
    {
     "data": {
      "text/html": [
       "<pre style=\"white-space:pre;overflow-x:auto;line-height:normal;font-family:Menlo,'DejaVu Sans Mono',consolas,'Courier New',monospace\"><span style=\"color: #800080; text-decoration-color: #800080; font-weight: bold\">AIMessage</span><span style=\"font-weight: bold\">(</span>\n",
       "    <span style=\"color: #808000; text-decoration-color: #808000\">content</span>=<span style=\"color: #008000; text-decoration-color: #008000\">\"Who is Leo Messi,What is Leo Messi's father's last name,How old is Leo Messi's father\"</span>,\n",
       "    <span style=\"color: #808000; text-decoration-color: #808000\">additional_kwargs</span>=<span style=\"font-weight: bold\">{</span><span style=\"color: #008000; text-decoration-color: #008000\">'refusal'</span>: <span style=\"color: #800080; text-decoration-color: #800080; font-style: italic\">None</span><span style=\"font-weight: bold\">}</span>,\n",
       "    <span style=\"color: #808000; text-decoration-color: #808000\">response_metadata</span>=<span style=\"font-weight: bold\">{</span>\n",
       "        <span style=\"color: #008000; text-decoration-color: #008000\">'token_usage'</span>: <span style=\"font-weight: bold\">{</span>\n",
       "            <span style=\"color: #008000; text-decoration-color: #008000\">'completion_tokens'</span>: <span style=\"color: #008080; text-decoration-color: #008080; font-weight: bold\">22</span>,\n",
       "            <span style=\"color: #008000; text-decoration-color: #008000\">'prompt_tokens'</span>: <span style=\"color: #008080; text-decoration-color: #008080; font-weight: bold\">116</span>,\n",
       "            <span style=\"color: #008000; text-decoration-color: #008000\">'total_tokens'</span>: <span style=\"color: #008080; text-decoration-color: #008080; font-weight: bold\">138</span>,\n",
       "            <span style=\"color: #008000; text-decoration-color: #008000\">'completion_tokens_details'</span>: <span style=\"font-weight: bold\">{</span><span style=\"color: #008000; text-decoration-color: #008000\">'audio_tokens'</span>: <span style=\"color: #800080; text-decoration-color: #800080; font-style: italic\">None</span>, <span style=\"color: #008000; text-decoration-color: #008000\">'reasoning_tokens'</span>: <span style=\"color: #008080; text-decoration-color: #008080; font-weight: bold\">0</span><span style=\"font-weight: bold\">}</span>,\n",
       "            <span style=\"color: #008000; text-decoration-color: #008000\">'prompt_tokens_details'</span>: <span style=\"font-weight: bold\">{</span><span style=\"color: #008000; text-decoration-color: #008000\">'audio_tokens'</span>: <span style=\"color: #800080; text-decoration-color: #800080; font-style: italic\">None</span>, <span style=\"color: #008000; text-decoration-color: #008000\">'cached_tokens'</span>: <span style=\"color: #008080; text-decoration-color: #008080; font-weight: bold\">0</span><span style=\"font-weight: bold\">}</span>\n",
       "        <span style=\"font-weight: bold\">}</span>,\n",
       "        <span style=\"color: #008000; text-decoration-color: #008000\">'model_name'</span>: <span style=\"color: #008000; text-decoration-color: #008000\">'gpt-4-turbo-2024-04-09'</span>,\n",
       "        <span style=\"color: #008000; text-decoration-color: #008000\">'system_fingerprint'</span>: <span style=\"color: #008000; text-decoration-color: #008000\">'fp_ed14c08274'</span>,\n",
       "        <span style=\"color: #008000; text-decoration-color: #008000\">'finish_reason'</span>: <span style=\"color: #008000; text-decoration-color: #008000\">'stop'</span>,\n",
       "        <span style=\"color: #008000; text-decoration-color: #008000\">'logprobs'</span>: <span style=\"color: #800080; text-decoration-color: #800080; font-style: italic\">None</span>\n",
       "    <span style=\"font-weight: bold\">}</span>,\n",
       "    <span style=\"color: #808000; text-decoration-color: #808000\">id</span>=<span style=\"color: #008000; text-decoration-color: #008000\">'run-ea67ec36-550e-400f-8057-3c0881e77fe9-0'</span>,\n",
       "    <span style=\"color: #808000; text-decoration-color: #808000\">usage_metadata</span>=<span style=\"font-weight: bold\">{</span>\n",
       "        <span style=\"color: #008000; text-decoration-color: #008000\">'input_tokens'</span>: <span style=\"color: #008080; text-decoration-color: #008080; font-weight: bold\">116</span>,\n",
       "        <span style=\"color: #008000; text-decoration-color: #008000\">'output_tokens'</span>: <span style=\"color: #008080; text-decoration-color: #008080; font-weight: bold\">22</span>,\n",
       "        <span style=\"color: #008000; text-decoration-color: #008000\">'total_tokens'</span>: <span style=\"color: #008080; text-decoration-color: #008080; font-weight: bold\">138</span>,\n",
       "        <span style=\"color: #008000; text-decoration-color: #008000\">'input_token_details'</span>: <span style=\"font-weight: bold\">{</span><span style=\"color: #008000; text-decoration-color: #008000\">'cache_read'</span>: <span style=\"color: #008080; text-decoration-color: #008080; font-weight: bold\">0</span><span style=\"font-weight: bold\">}</span>,\n",
       "        <span style=\"color: #008000; text-decoration-color: #008000\">'output_token_details'</span>: <span style=\"font-weight: bold\">{</span><span style=\"color: #008000; text-decoration-color: #008000\">'reasoning'</span>: <span style=\"color: #008080; text-decoration-color: #008080; font-weight: bold\">0</span><span style=\"font-weight: bold\">}</span>\n",
       "    <span style=\"font-weight: bold\">}</span>\n",
       "<span style=\"font-weight: bold\">)</span>\n",
       "</pre>\n"
      ],
      "text/plain": [
       "\u001b[1;35mAIMessage\u001b[0m\u001b[1m(\u001b[0m\n",
       "    \u001b[33mcontent\u001b[0m=\u001b[32m\"Who\u001b[0m\u001b[32m is Leo Messi,What is Leo Messi's father's last name,How old is Leo Messi's father\"\u001b[0m,\n",
       "    \u001b[33madditional_kwargs\u001b[0m=\u001b[1m{\u001b[0m\u001b[32m'refusal'\u001b[0m: \u001b[3;35mNone\u001b[0m\u001b[1m}\u001b[0m,\n",
       "    \u001b[33mresponse_metadata\u001b[0m=\u001b[1m{\u001b[0m\n",
       "        \u001b[32m'token_usage'\u001b[0m: \u001b[1m{\u001b[0m\n",
       "            \u001b[32m'completion_tokens'\u001b[0m: \u001b[1;36m22\u001b[0m,\n",
       "            \u001b[32m'prompt_tokens'\u001b[0m: \u001b[1;36m116\u001b[0m,\n",
       "            \u001b[32m'total_tokens'\u001b[0m: \u001b[1;36m138\u001b[0m,\n",
       "            \u001b[32m'completion_tokens_details'\u001b[0m: \u001b[1m{\u001b[0m\u001b[32m'audio_tokens'\u001b[0m: \u001b[3;35mNone\u001b[0m, \u001b[32m'reasoning_tokens'\u001b[0m: \u001b[1;36m0\u001b[0m\u001b[1m}\u001b[0m,\n",
       "            \u001b[32m'prompt_tokens_details'\u001b[0m: \u001b[1m{\u001b[0m\u001b[32m'audio_tokens'\u001b[0m: \u001b[3;35mNone\u001b[0m, \u001b[32m'cached_tokens'\u001b[0m: \u001b[1;36m0\u001b[0m\u001b[1m}\u001b[0m\n",
       "        \u001b[1m}\u001b[0m,\n",
       "        \u001b[32m'model_name'\u001b[0m: \u001b[32m'gpt-4-turbo-2024-04-09'\u001b[0m,\n",
       "        \u001b[32m'system_fingerprint'\u001b[0m: \u001b[32m'fp_ed14c08274'\u001b[0m,\n",
       "        \u001b[32m'finish_reason'\u001b[0m: \u001b[32m'stop'\u001b[0m,\n",
       "        \u001b[32m'logprobs'\u001b[0m: \u001b[3;35mNone\u001b[0m\n",
       "    \u001b[1m}\u001b[0m,\n",
       "    \u001b[33mid\u001b[0m=\u001b[32m'run-ea67ec36-550e-400f-8057-3c0881e77fe9-0'\u001b[0m,\n",
       "    \u001b[33musage_metadata\u001b[0m=\u001b[1m{\u001b[0m\n",
       "        \u001b[32m'input_tokens'\u001b[0m: \u001b[1;36m116\u001b[0m,\n",
       "        \u001b[32m'output_tokens'\u001b[0m: \u001b[1;36m22\u001b[0m,\n",
       "        \u001b[32m'total_tokens'\u001b[0m: \u001b[1;36m138\u001b[0m,\n",
       "        \u001b[32m'input_token_details'\u001b[0m: \u001b[1m{\u001b[0m\u001b[32m'cache_read'\u001b[0m: \u001b[1;36m0\u001b[0m\u001b[1m}\u001b[0m,\n",
       "        \u001b[32m'output_token_details'\u001b[0m: \u001b[1m{\u001b[0m\u001b[32m'reasoning'\u001b[0m: \u001b[1;36m0\u001b[0m\u001b[1m}\u001b[0m\n",
       "    \u001b[1m}\u001b[0m\n",
       "\u001b[1m)\u001b[0m\n"
      ]
     },
     "metadata": {},
     "output_type": "display_data"
    },
    {
     "data": {
      "text/html": [
       "<pre style=\"white-space:pre;overflow-x:auto;line-height:normal;font-family:Menlo,'DejaVu Sans Mono',consolas,'Courier New',monospace\">Search result for the query: Who is Leo Messi is<span style=\"color: #808000; text-decoration-color: #808000\">...</span>\n",
       "</pre>\n"
      ],
      "text/plain": [
       "Search result for the query: Who is Leo Messi is\u001b[33m...\u001b[0m\n"
      ]
     },
     "metadata": {},
     "output_type": "display_data"
    },
    {
     "data": {
      "text/html": [
       "<pre style=\"white-space:pre;overflow-x:auto;line-height:normal;font-family:Menlo,'DejaVu Sans Mono',consolas,'Courier New',monospace\"><span style=\"font-weight: bold\">[</span>\n",
       "    <span style=\"font-weight: bold\">{</span>\n",
       "        <span style=\"color: #008000; text-decoration-color: #008000\">'url'</span>: <span style=\"color: #008000; text-decoration-color: #008000\">'https://olympics.com/en/athletes/lionel-messi'</span>,\n",
       "        <span style=\"color: #008000; text-decoration-color: #008000\">'content'</span>: <span style=\"color: #008000; text-decoration-color: #008000\">'“The Olympic gold in 2008 is the win that I value the most because it is a tournament that you </span>\n",
       "<span style=\"color: #008000; text-decoration-color: #008000\">may play only once in your life and involves many athletes from different disciplines” - Lionel Messi, Spanish </span>\n",
       "<span style=\"color: #008000; text-decoration-color: #008000\">Esquire\\nFeatured\\nLatest News\\nOlympic Results\\nAthlete Olympic Results Content\\nYou may like Lionel </span>\n",
       "<span style=\"color: #008000; text-decoration-color: #008000\">MESSI\\nBiography\\nBorn in Rosario, Argentina in 1987 Lionel Messi is widely held to be one of the greatest football</span>\n",
       "<span style=\"color: #008000; text-decoration-color: #008000\">players of his generation — and with good reason.\\n Graduating quickly through the club’s ranks thanks to his </span>\n",
       "<span style=\"color: #008000; text-decoration-color: #008000\">ever-growing skill set Messi made his first senior appearance for the club at the age of 17.\\n When he eventually </span>\n",
       "<span style=\"color: #008000; text-decoration-color: #008000\">left the team in 2021 for French club Paris Saint-Germain the Argentine completed his time in La Liga as its top </span>\n",
       "<span style=\"color: #008000; text-decoration-color: #008000\">goal-scorer, with an eye-watering 474 successful shots to his name.\\n He also came close to winning the FIFA World </span>\n",
       "<span style=\"color: #008000; text-decoration-color: #008000\">Cup in 2014 but Argentina fell to Germany 1-0 in the final.\\n'</span>\n",
       "    <span style=\"font-weight: bold\">}</span>,\n",
       "    <span style=\"font-weight: bold\">{</span>\n",
       "        <span style=\"color: #008000; text-decoration-color: #008000\">'url'</span>: <span style=\"color: #008000; text-decoration-color: #008000\">'https://www.nytimes.com/athletic/4679809/2023/07/19/lionel-messi-evolution-barcelona-argentina/'</span>,\n",
       "        <span style=\"color: #008000; text-decoration-color: #008000\">'content'</span>: <span style=\"color: #008000; text-decoration-color: #008000\">\"Lionel Messi profile: The life and times of Inter Miami's World Cup winner; The Dribbling </span>\n",
       "<span style=\"color: #008000; text-decoration-color: #008000\">Winger. Next time you've got a minute to reconsider whether you've ever truly been good at anything,\"</span>\n",
       "    <span style=\"font-weight: bold\">}</span>\n",
       "<span style=\"font-weight: bold\">]</span>\n",
       "</pre>\n"
      ],
      "text/plain": [
       "\u001b[1m[\u001b[0m\n",
       "    \u001b[1m{\u001b[0m\n",
       "        \u001b[32m'url'\u001b[0m: \u001b[32m'https://olympics.com/en/athletes/lionel-messi'\u001b[0m,\n",
       "        \u001b[32m'content'\u001b[0m: \u001b[32m'“The Olympic gold in 2008 is the win that I value the most because it is a tournament that you \u001b[0m\n",
       "\u001b[32mmay play only once in your life and involves many athletes from different disciplines” - Lionel Messi, Spanish \u001b[0m\n",
       "\u001b[32mEsquire\\nFeatured\\nLatest News\\nOlympic Results\\nAthlete Olympic Results Content\\nYou may like Lionel \u001b[0m\n",
       "\u001b[32mMESSI\\nBiography\\nBorn in Rosario, Argentina in 1987 Lionel Messi is widely held to be one of the greatest football\u001b[0m\n",
       "\u001b[32mplayers of his generation — and with good reason.\\n Graduating quickly through the club’s ranks thanks to his \u001b[0m\n",
       "\u001b[32mever-growing skill set Messi made his first senior appearance for the club at the age of 17.\\n When he eventually \u001b[0m\n",
       "\u001b[32mleft the team in 2021 for French club Paris Saint-Germain the Argentine completed his time in La Liga as its top \u001b[0m\n",
       "\u001b[32mgoal-scorer, with an eye-watering 474 successful shots to his name.\\n He also came close to winning the FIFA World \u001b[0m\n",
       "\u001b[32mCup in 2014 but Argentina fell to Germany 1-0 in the final.\\n'\u001b[0m\n",
       "    \u001b[1m}\u001b[0m,\n",
       "    \u001b[1m{\u001b[0m\n",
       "        \u001b[32m'url'\u001b[0m: \u001b[32m'https://www.nytimes.com/athletic/4679809/2023/07/19/lionel-messi-evolution-barcelona-argentina/'\u001b[0m,\n",
       "        \u001b[32m'content'\u001b[0m: \u001b[32m\"Lionel Messi profile: The life and times of Inter Miami's World Cup winner; The Dribbling \u001b[0m\n",
       "\u001b[32mWinger. Next time you've got a minute to reconsider whether you've ever truly been good at anything,\"\u001b[0m\n",
       "    \u001b[1m}\u001b[0m\n",
       "\u001b[1m]\u001b[0m\n"
      ]
     },
     "metadata": {},
     "output_type": "display_data"
    },
    {
     "data": {
      "text/html": [
       "<pre style=\"white-space:pre;overflow-x:auto;line-height:normal;font-family:Menlo,'DejaVu Sans Mono',consolas,'Courier New',monospace\">Search result for the query: What is Leo Messi's father's last name is<span style=\"color: #808000; text-decoration-color: #808000\">...</span>\n",
       "</pre>\n"
      ],
      "text/plain": [
       "Search result for the query: What is Leo Messi's father's last name is\u001b[33m...\u001b[0m\n"
      ]
     },
     "metadata": {},
     "output_type": "display_data"
    },
    {
     "data": {
      "text/html": [
       "<pre style=\"white-space:pre;overflow-x:auto;line-height:normal;font-family:Menlo,'DejaVu Sans Mono',consolas,'Courier New',monospace\"><span style=\"font-weight: bold\">[</span>\n",
       "    <span style=\"font-weight: bold\">{</span>\n",
       "        <span style=\"color: #008000; text-decoration-color: #008000\">'url'</span>: <span style=\"color: #008000; text-decoration-color: #008000\">'https://people.com/all-about-lionel-messi-parents-8567819'</span>,\n",
       "        <span style=\"color: #008000; text-decoration-color: #008000\">'content'</span>: <span style=\"color: #008000; text-decoration-color: #008000\">'All About Lionel Messi\\'s Parents, Jorge Messi and Celia Cuccittini\\nLionel Messi has a close </span>\n",
       "<span style=\"color: #008000; text-decoration-color: #008000\">relationship with his dad and mom\\nJorge Messi Instagram\\nLionel Messi\\'s parents, Jorge Messi and Celia </span>\n",
       "<span style=\"color: #008000; text-decoration-color: #008000\">Cuccittini, played a pivotal role in shaping their son’s career. Jorge has guided Lionel\\'s career from the </span>\n",
       "<span style=\"color: #008000; text-decoration-color: #008000\">beginning\\nJorge Messi Instagram\\nThe Argentinian footballer has had one of the most impressive careers in the </span>\n",
       "<span style=\"color: #008000; text-decoration-color: #008000\">history of sports, and it all started with his dad.\\n “He always played for fun and we were happy to see him play </span>\n",
       "<span style=\"color: #008000; text-decoration-color: #008000\">not because we thought he’d be a triumphant success but simply because he enjoyed it and did it well.”\\nReflecting </span>\n",
       "<span style=\"color: #008000; text-decoration-color: #008000\">on encouraging her son in the World Cup, Celia opened up on the TV show El Diario de Mariana in 2018.\\n \"\\nThey are</span>\n",
       "<span style=\"color: #008000; text-decoration-color: #008000\">protective of Lionel\\nJorge Messi Instagram\\nJorge and Celia are incredibly supportive of their youngest son, and </span>\n",
       "<span style=\"color: #008000; text-decoration-color: #008000\">Jorge often comes to Lionel’s defense when he believes his son is being unfairly criticized. “I always say the </span>\n",
       "<span style=\"color: #008000; text-decoration-color: #008000\">same: what makes me proud is who Leo is as a person,” Jorge shared in Bruno Pisano’s 2011 book, My Son The Soccer </span>\n",
       "<span style=\"color: #008000; text-decoration-color: #008000\">Player: The Secrets of the World’s Greatest Players as Told by Their Parents, per SoccerAmerica.\\n'</span>\n",
       "    <span style=\"font-weight: bold\">}</span>,\n",
       "    <span style=\"font-weight: bold\">{</span>\n",
       "        <span style=\"color: #008000; text-decoration-color: #008000\">'url'</span>: <span style=\"color: #008000; text-decoration-color: #008000\">'https://www.the-sun.com/sport/8641225/lionel-messi-parents-jorge-celia/'</span>,\n",
       "        <span style=\"color: #008000; text-decoration-color: #008000\">'content'</span>: <span style=\"color: #008000; text-decoration-color: #008000\">\"| The US Sun MORE FROM THE SUN BEFORE Lionel Messi was one of the greatest football players of </span>\n",
       "<span style=\"color: #008000; text-decoration-color: #008000\">all time, he was only known as the son of Jorge Messi and Celia María Cuccittini. Lionel Messi is the son of Jorge </span>\n",
       "<span style=\"color: #008000; text-decoration-color: #008000\">and CeliaCredit: Instagram/ jorge.sole When did Jorge Messi become Lionel's agent? While Lionel might be the most </span>\n",
       "<span style=\"color: #008000; text-decoration-color: #008000\">well-known Messi family member, he is not Jorge and Celia's only child. Jorge and Celia are also the parents of </span>\n",
       "<span style=\"color: #008000; text-decoration-color: #008000\">Lionel's older brothers, Rodrigo and Matias, and his younger sister, Maria Sol. While the Messi kids might have a </span>\n",
       "<span style=\"color: #008000; text-decoration-color: #008000\">high-profile brother, they often stay out of the spotlight as much as possible. More from The Sun\"</span>\n",
       "    <span style=\"font-weight: bold\">}</span>\n",
       "<span style=\"font-weight: bold\">]</span>\n",
       "</pre>\n"
      ],
      "text/plain": [
       "\u001b[1m[\u001b[0m\n",
       "    \u001b[1m{\u001b[0m\n",
       "        \u001b[32m'url'\u001b[0m: \u001b[32m'https://people.com/all-about-lionel-messi-parents-8567819'\u001b[0m,\n",
       "        \u001b[32m'content'\u001b[0m: \u001b[32m'All About Lionel Messi\\'s Parents, Jorge Messi and Celia Cuccittini\\nLionel Messi has a close \u001b[0m\n",
       "\u001b[32mrelationship with his dad and mom\\nJorge Messi Instagram\\nLionel Messi\\'s parents, Jorge Messi and Celia \u001b[0m\n",
       "\u001b[32mCuccittini, played a pivotal role in shaping their son’s career. Jorge has guided Lionel\\'s career from the \u001b[0m\n",
       "\u001b[32mbeginning\\nJorge Messi Instagram\\nThe Argentinian footballer has had one of the most impressive careers in the \u001b[0m\n",
       "\u001b[32mhistory of sports, and it all started with his dad.\\n “He always played for fun and we were happy to see him play \u001b[0m\n",
       "\u001b[32mnot because we thought he’d be a triumphant success but simply because he enjoyed it and did it well.”\\nReflecting \u001b[0m\n",
       "\u001b[32mon encouraging her son in the World Cup, Celia opened up on the TV show El Diario de Mariana in 2018.\\n \"\\nThey are\u001b[0m\n",
       "\u001b[32mprotective of Lionel\\nJorge Messi Instagram\\nJorge and Celia are incredibly supportive of their youngest son, and \u001b[0m\n",
       "\u001b[32mJorge often comes to Lionel’s defense when he believes his son is being unfairly criticized. “I always say the \u001b[0m\n",
       "\u001b[32msame: what makes me proud is who Leo is as a person,” Jorge shared in Bruno Pisano’s 2011 book, My Son The Soccer \u001b[0m\n",
       "\u001b[32mPlayer: The Secrets of the World’s Greatest Players as Told by Their Parents, per SoccerAmerica.\\n'\u001b[0m\n",
       "    \u001b[1m}\u001b[0m,\n",
       "    \u001b[1m{\u001b[0m\n",
       "        \u001b[32m'url'\u001b[0m: \u001b[32m'https://www.the-sun.com/sport/8641225/lionel-messi-parents-jorge-celia/'\u001b[0m,\n",
       "        \u001b[32m'content'\u001b[0m: \u001b[32m\"| The US Sun MORE FROM THE SUN BEFORE Lionel Messi was one of the greatest football players of \u001b[0m\n",
       "\u001b[32mall time, he was only known as the son of Jorge Messi and Celia María Cuccittini. Lionel Messi is the son of Jorge \u001b[0m\n",
       "\u001b[32mand CeliaCredit: Instagram/ jorge.sole When did Jorge Messi become Lionel's agent? While Lionel might be the most \u001b[0m\n",
       "\u001b[32mwell-known Messi family member, he is not Jorge and Celia's only child. Jorge and Celia are also the parents of \u001b[0m\n",
       "\u001b[32mLionel's older brothers, Rodrigo and Matias, and his younger sister, Maria Sol. While the Messi kids might have a \u001b[0m\n",
       "\u001b[32mhigh-profile brother, they often stay out of the spotlight as much as possible. More from The Sun\"\u001b[0m\n",
       "    \u001b[1m}\u001b[0m\n",
       "\u001b[1m]\u001b[0m\n"
      ]
     },
     "metadata": {},
     "output_type": "display_data"
    },
    {
     "data": {
      "text/html": [
       "<pre style=\"white-space:pre;overflow-x:auto;line-height:normal;font-family:Menlo,'DejaVu Sans Mono',consolas,'Courier New',monospace\">Search result for the query: How old is Leo Messi's father is<span style=\"color: #808000; text-decoration-color: #808000\">...</span>\n",
       "</pre>\n"
      ],
      "text/plain": [
       "Search result for the query: How old is Leo Messi's father is\u001b[33m...\u001b[0m\n"
      ]
     },
     "metadata": {},
     "output_type": "display_data"
    },
    {
     "data": {
      "text/html": [
       "<pre style=\"white-space:pre;overflow-x:auto;line-height:normal;font-family:Menlo,'DejaVu Sans Mono',consolas,'Courier New',monospace\"><span style=\"font-weight: bold\">[</span>\n",
       "    <span style=\"font-weight: bold\">{</span>\n",
       "        <span style=\"color: #008000; text-decoration-color: #008000\">'url'</span>: \n",
       "<span style=\"color: #008000; text-decoration-color: #008000\">'https://www.nytimes.com/athletic/2029445/2020/09/02/who-is-jorge-messi-leo-bartomeu-barcelona-transfer/'</span>,\n",
       "        <span style=\"color: #008000; text-decoration-color: #008000\">'content'</span>: <span style=\"color: #008000; text-decoration-color: #008000\">'Meet Jorge Messi, Leo\\'s father, who is set for a meeting with Bartomeu in maybe the most high </span>\n",
       "<span style=\"color: #008000; text-decoration-color: #008000\">profile football agent-president summit ever ... \"From when he was 13 years old, until now, his'</span>\n",
       "    <span style=\"font-weight: bold\">}</span>,\n",
       "    <span style=\"font-weight: bold\">{</span>\n",
       "        <span style=\"color: #008000; text-decoration-color: #008000\">'url'</span>: <span style=\"color: #008000; text-decoration-color: #008000\">'https://www.sportsdave.com/biography-of-jorge-messi-lionel-messis-father/'</span>,\n",
       "        <span style=\"color: #008000; text-decoration-color: #008000\">'content'</span>: <span style=\"color: #008000; text-decoration-color: #008000\">'Biography. Jorge Messi was born on January 1, 1958, in Argentine to his parent Eusebio Messi, </span>\n",
       "<span style=\"color: #008000; text-decoration-color: #008000\">and Rosa Maria Pérez. He gained fame as the father of legendary Argentine footballer Lionel Messi. He is the </span>\n",
       "<span style=\"color: #008000; text-decoration-color: #008000\">great-grandson of immigrants from Catalonia and the northwest Adriatic Marche region of Italy. He has both Italian </span>\n",
       "<span style=\"color: #008000; text-decoration-color: #008000\">and Spanish ancestry.'</span>\n",
       "    <span style=\"font-weight: bold\">}</span>\n",
       "<span style=\"font-weight: bold\">]</span>\n",
       "</pre>\n"
      ],
      "text/plain": [
       "\u001b[1m[\u001b[0m\n",
       "    \u001b[1m{\u001b[0m\n",
       "        \u001b[32m'url'\u001b[0m: \n",
       "\u001b[32m'https://www.nytimes.com/athletic/2029445/2020/09/02/who-is-jorge-messi-leo-bartomeu-barcelona-transfer/'\u001b[0m,\n",
       "        \u001b[32m'content'\u001b[0m: \u001b[32m'Meet Jorge Messi, Leo\\'s father, who is set for a meeting with Bartomeu in maybe the most high \u001b[0m\n",
       "\u001b[32mprofile football agent-president summit ever ... \"From when he was 13 years old, until now, his'\u001b[0m\n",
       "    \u001b[1m}\u001b[0m,\n",
       "    \u001b[1m{\u001b[0m\n",
       "        \u001b[32m'url'\u001b[0m: \u001b[32m'https://www.sportsdave.com/biography-of-jorge-messi-lionel-messis-father/'\u001b[0m,\n",
       "        \u001b[32m'content'\u001b[0m: \u001b[32m'Biography. Jorge Messi was born on January 1, 1958, in Argentine to his parent Eusebio Messi, \u001b[0m\n",
       "\u001b[32mand Rosa Maria Pérez. He gained fame as the father of legendary Argentine footballer Lionel Messi. He is the \u001b[0m\n",
       "\u001b[32mgreat-grandson of immigrants from Catalonia and the northwest Adriatic Marche region of Italy. He has both Italian \u001b[0m\n",
       "\u001b[32mand Spanish ancestry.'\u001b[0m\n",
       "    \u001b[1m}\u001b[0m\n",
       "\u001b[1m]\u001b[0m\n"
      ]
     },
     "metadata": {},
     "output_type": "display_data"
    },
    {
     "data": {
      "text/html": [
       "<pre style=\"white-space:pre;overflow-x:auto;line-height:normal;font-family:Menlo,'DejaVu Sans Mono',consolas,'Courier New',monospace\">The collated context for all the sub-queries is<span style=\"color: #808000; text-decoration-color: #808000\">...</span>\n",
       "</pre>\n"
      ],
      "text/plain": [
       "The collated context for all the sub-queries is\u001b[33m...\u001b[0m\n"
      ]
     },
     "metadata": {},
     "output_type": "display_data"
    },
    {
     "data": {
      "text/html": [
       "<pre style=\"white-space:pre;overflow-x:auto;line-height:normal;font-family:Menlo,'DejaVu Sans Mono',consolas,'Courier New',monospace\">“The Olympic gold in <span style=\"color: #008080; text-decoration-color: #008080; font-weight: bold\">2008</span> is the win that I value the most because it is a tournament that you may play only once \n",
       "in your life and involves many athletes from different disciplines” - Lionel Messi, Spanish Esquire\n",
       "Featured\n",
       "Latest News\n",
       "Olympic Results\n",
       "Athlete Olympic Results Content\n",
       "You may like Lionel MESSI\n",
       "Biography\n",
       "Born in Rosario, Argentina in <span style=\"color: #008080; text-decoration-color: #008080; font-weight: bold\">1987</span> Lionel Messi is widely held to be one of the greatest football players of his \n",
       "generation — and with good reason.\n",
       " Graduating quickly through the club’s ranks thanks to his ever-growing skill set Messi made his first senior \n",
       "appearance for the club at the age of <span style=\"color: #008080; text-decoration-color: #008080; font-weight: bold\">17</span>.\n",
       " When he eventually left the team in <span style=\"color: #008080; text-decoration-color: #008080; font-weight: bold\">2021</span> for French club Paris Saint-Germain the Argentine completed his time in \n",
       "La Liga as its top goal-scorer, with an eye-watering <span style=\"color: #008080; text-decoration-color: #008080; font-weight: bold\">474</span> successful shots to his name.\n",
       " He also came close to winning the FIFA World Cup in <span style=\"color: #008080; text-decoration-color: #008080; font-weight: bold\">2014</span> but Argentina fell to Germany <span style=\"color: #008080; text-decoration-color: #008080; font-weight: bold\">1</span>-<span style=\"color: #008080; text-decoration-color: #008080; font-weight: bold\">0</span> in the final.\n",
       "\n",
       "Lionel Messi profile: The life and times of Inter Miami's World Cup winner; The Dribbling Winger. Next time you've \n",
       "got a minute to reconsider whether you've ever truly been good at anything,\n",
       "All About Lionel Messi's Parents, Jorge Messi and Celia Cuccittini\n",
       "Lionel Messi has a close relationship with his dad and mom\n",
       "Jorge Messi Instagram\n",
       "Lionel Messi's parents, Jorge Messi and Celia Cuccittini, played a pivotal role in shaping their son’s career. \n",
       "Jorge has guided Lionel's career from the beginning\n",
       "Jorge Messi Instagram\n",
       "The Argentinian footballer has had one of the most impressive careers in the history of sports, and it all started \n",
       "with his dad.\n",
       " “He always played for fun and we were happy to see him play not because we thought he’d be a triumphant success \n",
       "but simply because he enjoyed it and did it well.”\n",
       "Reflecting on encouraging her son in the World Cup, Celia opened up on the TV show El Diario de Mariana in <span style=\"color: #008080; text-decoration-color: #008080; font-weight: bold\">2018</span>.\n",
       " \"\n",
       "They are protective of Lionel\n",
       "Jorge Messi Instagram\n",
       "Jorge and Celia are incredibly supportive of their youngest son, and Jorge often comes to Lionel’s defense when he \n",
       "believes his son is being unfairly criticized. “I always say the same: what makes me proud is who Leo is as a \n",
       "person,” Jorge shared in Bruno Pisano’s <span style=\"color: #008080; text-decoration-color: #008080; font-weight: bold\">2011</span> book, My Son The Soccer Player: The Secrets of the World’s Greatest \n",
       "Players as Told by Their Parents, per SoccerAmerica.\n",
       "\n",
       "| The US Sun MORE FROM THE SUN BEFORE Lionel Messi was one of the greatest football players of all time, he was \n",
       "only known as the son of Jorge Messi and Celia María Cuccittini. Lionel Messi is the son of Jorge and CeliaCredit: \n",
       "Instagram/ jorge.sole When did Jorge Messi become Lionel's agent? While Lionel might be the most well-known Messi \n",
       "family member, he is not Jorge and Celia's only child. Jorge and Celia are also the parents of Lionel's older \n",
       "brothers, Rodrigo and Matias, and his younger sister, Maria Sol. While the Messi kids might have a high-profile \n",
       "brother, they often stay out of the spotlight as much as possible. More from The Sun\n",
       "Meet Jorge Messi, Leo's father, who is set for a meeting with Bartomeu in maybe the most high profile football \n",
       "agent-president summit ever <span style=\"color: #808000; text-decoration-color: #808000\">...</span> \"From when he was <span style=\"color: #008080; text-decoration-color: #008080; font-weight: bold\">13</span> years old, until now, his\n",
       "Biography. Jorge Messi was born on January <span style=\"color: #008080; text-decoration-color: #008080; font-weight: bold\">1</span>, <span style=\"color: #008080; text-decoration-color: #008080; font-weight: bold\">1958</span>, in Argentine to his parent Eusebio Messi, and Rosa Maria Pérez.\n",
       "He gained fame as the father of legendary Argentine footballer Lionel Messi. He is the great-grandson of immigrants\n",
       "from Catalonia and the northwest Adriatic Marche region of Italy. He has both Italian and Spanish ancestry.\n",
       "\n",
       "</pre>\n"
      ],
      "text/plain": [
       "“The Olympic gold in \u001b[1;36m2008\u001b[0m is the win that I value the most because it is a tournament that you may play only once \n",
       "in your life and involves many athletes from different disciplines” - Lionel Messi, Spanish Esquire\n",
       "Featured\n",
       "Latest News\n",
       "Olympic Results\n",
       "Athlete Olympic Results Content\n",
       "You may like Lionel MESSI\n",
       "Biography\n",
       "Born in Rosario, Argentina in \u001b[1;36m1987\u001b[0m Lionel Messi is widely held to be one of the greatest football players of his \n",
       "generation — and with good reason.\n",
       " Graduating quickly through the club’s ranks thanks to his ever-growing skill set Messi made his first senior \n",
       "appearance for the club at the age of \u001b[1;36m17\u001b[0m.\n",
       " When he eventually left the team in \u001b[1;36m2021\u001b[0m for French club Paris Saint-Germain the Argentine completed his time in \n",
       "La Liga as its top goal-scorer, with an eye-watering \u001b[1;36m474\u001b[0m successful shots to his name.\n",
       " He also came close to winning the FIFA World Cup in \u001b[1;36m2014\u001b[0m but Argentina fell to Germany \u001b[1;36m1\u001b[0m-\u001b[1;36m0\u001b[0m in the final.\n",
       "\n",
       "Lionel Messi profile: The life and times of Inter Miami's World Cup winner; The Dribbling Winger. Next time you've \n",
       "got a minute to reconsider whether you've ever truly been good at anything,\n",
       "All About Lionel Messi's Parents, Jorge Messi and Celia Cuccittini\n",
       "Lionel Messi has a close relationship with his dad and mom\n",
       "Jorge Messi Instagram\n",
       "Lionel Messi's parents, Jorge Messi and Celia Cuccittini, played a pivotal role in shaping their son’s career. \n",
       "Jorge has guided Lionel's career from the beginning\n",
       "Jorge Messi Instagram\n",
       "The Argentinian footballer has had one of the most impressive careers in the history of sports, and it all started \n",
       "with his dad.\n",
       " “He always played for fun and we were happy to see him play not because we thought he’d be a triumphant success \n",
       "but simply because he enjoyed it and did it well.”\n",
       "Reflecting on encouraging her son in the World Cup, Celia opened up on the TV show El Diario de Mariana in \u001b[1;36m2018\u001b[0m.\n",
       " \"\n",
       "They are protective of Lionel\n",
       "Jorge Messi Instagram\n",
       "Jorge and Celia are incredibly supportive of their youngest son, and Jorge often comes to Lionel’s defense when he \n",
       "believes his son is being unfairly criticized. “I always say the same: what makes me proud is who Leo is as a \n",
       "person,” Jorge shared in Bruno Pisano’s \u001b[1;36m2011\u001b[0m book, My Son The Soccer Player: The Secrets of the World’s Greatest \n",
       "Players as Told by Their Parents, per SoccerAmerica.\n",
       "\n",
       "| The US Sun MORE FROM THE SUN BEFORE Lionel Messi was one of the greatest football players of all time, he was \n",
       "only known as the son of Jorge Messi and Celia María Cuccittini. Lionel Messi is the son of Jorge and CeliaCredit: \n",
       "Instagram/ jorge.sole When did Jorge Messi become Lionel's agent? While Lionel might be the most well-known Messi \n",
       "family member, he is not Jorge and Celia's only child. Jorge and Celia are also the parents of Lionel's older \n",
       "brothers, Rodrigo and Matias, and his younger sister, Maria Sol. While the Messi kids might have a high-profile \n",
       "brother, they often stay out of the spotlight as much as possible. More from The Sun\n",
       "Meet Jorge Messi, Leo's father, who is set for a meeting with Bartomeu in maybe the most high profile football \n",
       "agent-president summit ever \u001b[33m...\u001b[0m \"From when he was \u001b[1;36m13\u001b[0m years old, until now, his\n",
       "Biography. Jorge Messi was born on January \u001b[1;36m1\u001b[0m, \u001b[1;36m1958\u001b[0m, in Argentine to his parent Eusebio Messi, and Rosa Maria Pérez.\n",
       "He gained fame as the father of legendary Argentine footballer Lionel Messi. He is the great-grandson of immigrants\n",
       "from Catalonia and the northwest Adriatic Marche region of Italy. He has both Italian and Spanish ancestry.\n",
       "\n"
      ]
     },
     "metadata": {},
     "output_type": "display_data"
    },
    {
     "data": {
      "text/html": [
       "<pre style=\"white-space:pre;overflow-x:auto;line-height:normal;font-family:Menlo,'DejaVu Sans Mono',consolas,'Courier New',monospace\">This is the answer to the query: Who is Leo Messi and what is his father's last name and age?\n",
       "</pre>\n"
      ],
      "text/plain": [
       "This is the answer to the query: Who is Leo Messi and what is his father's last name and age?\n"
      ]
     },
     "metadata": {},
     "output_type": "display_data"
    },
    {
     "data": {
      "text/html": [
       "<pre style=\"white-space:pre;overflow-x:auto;line-height:normal;font-family:Menlo,'DejaVu Sans Mono',consolas,'Courier New',monospace\"><span style=\"color: #800080; text-decoration-color: #800080; font-weight: bold\">AIMessage</span><span style=\"font-weight: bold\">(</span>\n",
       "    <span style=\"color: #808000; text-decoration-color: #808000\">content</span>=<span style=\"color: #008000; text-decoration-color: #008000\">\"Leo Messi, born Lionel Messi, is widely regarded as one of the greatest football players of his </span>\n",
       "<span style=\"color: #008000; text-decoration-color: #008000\">generation. He was born in Rosario, Argentina, in 1987 and had a prolific career with FC Barcelona before moving to</span>\n",
       "<span style=\"color: #008000; text-decoration-color: #008000\">Paris Saint-Germain and then Inter Miami. His father's name is Jorge Messi, who was born on January 1, 1958, making</span>\n",
       "<span style=\"color: #008000; text-decoration-color: #008000\">him 65 years old as of 2023.\"</span>,\n",
       "    <span style=\"color: #808000; text-decoration-color: #808000\">additional_kwargs</span>=<span style=\"font-weight: bold\">{</span><span style=\"color: #008000; text-decoration-color: #008000\">'refusal'</span>: <span style=\"color: #800080; text-decoration-color: #800080; font-style: italic\">None</span><span style=\"font-weight: bold\">}</span>,\n",
       "    <span style=\"color: #808000; text-decoration-color: #808000\">response_metadata</span>=<span style=\"font-weight: bold\">{</span>\n",
       "        <span style=\"color: #008000; text-decoration-color: #008000\">'token_usage'</span>: <span style=\"font-weight: bold\">{</span>\n",
       "            <span style=\"color: #008000; text-decoration-color: #008000\">'completion_tokens'</span>: <span style=\"color: #008080; text-decoration-color: #008080; font-weight: bold\">87</span>,\n",
       "            <span style=\"color: #008000; text-decoration-color: #008000\">'prompt_tokens'</span>: <span style=\"color: #008080; text-decoration-color: #008080; font-weight: bold\">827</span>,\n",
       "            <span style=\"color: #008000; text-decoration-color: #008000\">'total_tokens'</span>: <span style=\"color: #008080; text-decoration-color: #008080; font-weight: bold\">914</span>,\n",
       "            <span style=\"color: #008000; text-decoration-color: #008000\">'completion_tokens_details'</span>: <span style=\"font-weight: bold\">{</span><span style=\"color: #008000; text-decoration-color: #008000\">'audio_tokens'</span>: <span style=\"color: #800080; text-decoration-color: #800080; font-style: italic\">None</span>, <span style=\"color: #008000; text-decoration-color: #008000\">'reasoning_tokens'</span>: <span style=\"color: #008080; text-decoration-color: #008080; font-weight: bold\">0</span><span style=\"font-weight: bold\">}</span>,\n",
       "            <span style=\"color: #008000; text-decoration-color: #008000\">'prompt_tokens_details'</span>: <span style=\"font-weight: bold\">{</span><span style=\"color: #008000; text-decoration-color: #008000\">'audio_tokens'</span>: <span style=\"color: #800080; text-decoration-color: #800080; font-style: italic\">None</span>, <span style=\"color: #008000; text-decoration-color: #008000\">'cached_tokens'</span>: <span style=\"color: #008080; text-decoration-color: #008080; font-weight: bold\">0</span><span style=\"font-weight: bold\">}</span>\n",
       "        <span style=\"font-weight: bold\">}</span>,\n",
       "        <span style=\"color: #008000; text-decoration-color: #008000\">'model_name'</span>: <span style=\"color: #008000; text-decoration-color: #008000\">'gpt-4-turbo-2024-04-09'</span>,\n",
       "        <span style=\"color: #008000; text-decoration-color: #008000\">'system_fingerprint'</span>: <span style=\"color: #008000; text-decoration-color: #008000\">'fp_ed14c08274'</span>,\n",
       "        <span style=\"color: #008000; text-decoration-color: #008000\">'finish_reason'</span>: <span style=\"color: #008000; text-decoration-color: #008000\">'stop'</span>,\n",
       "        <span style=\"color: #008000; text-decoration-color: #008000\">'logprobs'</span>: <span style=\"color: #800080; text-decoration-color: #800080; font-style: italic\">None</span>\n",
       "    <span style=\"font-weight: bold\">}</span>,\n",
       "    <span style=\"color: #808000; text-decoration-color: #808000\">id</span>=<span style=\"color: #008000; text-decoration-color: #008000\">'run-54436cbb-5141-4b7d-b94e-11e33561951c-0'</span>,\n",
       "    <span style=\"color: #808000; text-decoration-color: #808000\">usage_metadata</span>=<span style=\"font-weight: bold\">{</span>\n",
       "        <span style=\"color: #008000; text-decoration-color: #008000\">'input_tokens'</span>: <span style=\"color: #008080; text-decoration-color: #008080; font-weight: bold\">827</span>,\n",
       "        <span style=\"color: #008000; text-decoration-color: #008000\">'output_tokens'</span>: <span style=\"color: #008080; text-decoration-color: #008080; font-weight: bold\">87</span>,\n",
       "        <span style=\"color: #008000; text-decoration-color: #008000\">'total_tokens'</span>: <span style=\"color: #008080; text-decoration-color: #008080; font-weight: bold\">914</span>,\n",
       "        <span style=\"color: #008000; text-decoration-color: #008000\">'input_token_details'</span>: <span style=\"font-weight: bold\">{</span><span style=\"color: #008000; text-decoration-color: #008000\">'cache_read'</span>: <span style=\"color: #008080; text-decoration-color: #008080; font-weight: bold\">0</span><span style=\"font-weight: bold\">}</span>,\n",
       "        <span style=\"color: #008000; text-decoration-color: #008000\">'output_token_details'</span>: <span style=\"font-weight: bold\">{</span><span style=\"color: #008000; text-decoration-color: #008000\">'reasoning'</span>: <span style=\"color: #008080; text-decoration-color: #008080; font-weight: bold\">0</span><span style=\"font-weight: bold\">}</span>\n",
       "    <span style=\"font-weight: bold\">}</span>\n",
       "<span style=\"font-weight: bold\">)</span>\n",
       "</pre>\n"
      ],
      "text/plain": [
       "\u001b[1;35mAIMessage\u001b[0m\u001b[1m(\u001b[0m\n",
       "    \u001b[33mcontent\u001b[0m=\u001b[32m\"Leo\u001b[0m\u001b[32m Messi, born Lionel Messi, is widely regarded as one of the greatest football players of his \u001b[0m\n",
       "\u001b[32mgeneration. He was born in Rosario, Argentina, in 1987 and had a prolific career with FC Barcelona before moving to\u001b[0m\n",
       "\u001b[32mParis Saint-Germain and then Inter Miami. His father's name is Jorge Messi, who was born on January 1, 1958, making\u001b[0m\n",
       "\u001b[32mhim 65 years old as of 2023.\"\u001b[0m,\n",
       "    \u001b[33madditional_kwargs\u001b[0m=\u001b[1m{\u001b[0m\u001b[32m'refusal'\u001b[0m: \u001b[3;35mNone\u001b[0m\u001b[1m}\u001b[0m,\n",
       "    \u001b[33mresponse_metadata\u001b[0m=\u001b[1m{\u001b[0m\n",
       "        \u001b[32m'token_usage'\u001b[0m: \u001b[1m{\u001b[0m\n",
       "            \u001b[32m'completion_tokens'\u001b[0m: \u001b[1;36m87\u001b[0m,\n",
       "            \u001b[32m'prompt_tokens'\u001b[0m: \u001b[1;36m827\u001b[0m,\n",
       "            \u001b[32m'total_tokens'\u001b[0m: \u001b[1;36m914\u001b[0m,\n",
       "            \u001b[32m'completion_tokens_details'\u001b[0m: \u001b[1m{\u001b[0m\u001b[32m'audio_tokens'\u001b[0m: \u001b[3;35mNone\u001b[0m, \u001b[32m'reasoning_tokens'\u001b[0m: \u001b[1;36m0\u001b[0m\u001b[1m}\u001b[0m,\n",
       "            \u001b[32m'prompt_tokens_details'\u001b[0m: \u001b[1m{\u001b[0m\u001b[32m'audio_tokens'\u001b[0m: \u001b[3;35mNone\u001b[0m, \u001b[32m'cached_tokens'\u001b[0m: \u001b[1;36m0\u001b[0m\u001b[1m}\u001b[0m\n",
       "        \u001b[1m}\u001b[0m,\n",
       "        \u001b[32m'model_name'\u001b[0m: \u001b[32m'gpt-4-turbo-2024-04-09'\u001b[0m,\n",
       "        \u001b[32m'system_fingerprint'\u001b[0m: \u001b[32m'fp_ed14c08274'\u001b[0m,\n",
       "        \u001b[32m'finish_reason'\u001b[0m: \u001b[32m'stop'\u001b[0m,\n",
       "        \u001b[32m'logprobs'\u001b[0m: \u001b[3;35mNone\u001b[0m\n",
       "    \u001b[1m}\u001b[0m,\n",
       "    \u001b[33mid\u001b[0m=\u001b[32m'run-54436cbb-5141-4b7d-b94e-11e33561951c-0'\u001b[0m,\n",
       "    \u001b[33musage_metadata\u001b[0m=\u001b[1m{\u001b[0m\n",
       "        \u001b[32m'input_tokens'\u001b[0m: \u001b[1;36m827\u001b[0m,\n",
       "        \u001b[32m'output_tokens'\u001b[0m: \u001b[1;36m87\u001b[0m,\n",
       "        \u001b[32m'total_tokens'\u001b[0m: \u001b[1;36m914\u001b[0m,\n",
       "        \u001b[32m'input_token_details'\u001b[0m: \u001b[1m{\u001b[0m\u001b[32m'cache_read'\u001b[0m: \u001b[1;36m0\u001b[0m\u001b[1m}\u001b[0m,\n",
       "        \u001b[32m'output_token_details'\u001b[0m: \u001b[1m{\u001b[0m\u001b[32m'reasoning'\u001b[0m: \u001b[1;36m0\u001b[0m\u001b[1m}\u001b[0m\n",
       "    \u001b[1m}\u001b[0m\n",
       "\u001b[1m)\u001b[0m\n"
      ]
     },
     "metadata": {},
     "output_type": "display_data"
    }
   ],
   "source": [
    "llm = ChatOpenAI(model=\"gpt-4-turbo\")\n",
    "search = TavilySearchResults(\n",
    "    max_results=2,  # Increase the number of results for better context\n",
    "    description='tavily_search_results_json(query=\"the search query\") - a search engine.',\n",
    ")\n",
    "start_query = \"Who is Leo Messi and what is his father's last name and age?\"\n",
    "\n",
    "prompt = (\n",
    "        f\"You are tasked with answering the following: {start_query}. \"\n",
    "        \"Generate more questions you may need answers to in order to answer this questions and return all separated only by a single comma with no spaces.\"\n",
    "        \"If you do not need anymore context, just return the query.\"\n",
    "        \"This sub-query will be passed to a search engine to provide more context to answer this query.\"\n",
    "        \"Ensure that you are using information that is the most up to date.\"\n",
    "        \"If you are unsure, just return the query. Do not try to guess.\"\n",
    "    )\n",
    "\n",
    "generated_query = llm.invoke(prompt)\n",
    "\n",
    "rprint(\"The genereated query is:\")\n",
    "rprint(generated_query)\n",
    "\n",
    "context = \"\"\n",
    "\n",
    "for query in generated_query.content.split(\",\"):\n",
    "    search_results = search.invoke({\"query\": query.strip().strip('\"')})\n",
    "    rprint(f\"Search result for the query: {query} is...\")\n",
    "    rprint(search_results)\n",
    "    if search_results:\n",
    "        for search_result in search_results:\n",
    "            context += (search_result['content']) + \"\\n\"\n",
    "\n",
    "rprint(\"The collated context for all the sub-queries is...\")\n",
    "rprint(context)\n",
    "\n",
    "final_prompt = (\n",
    "        f\"Context:\\n{context}\\n\\n\"\n",
    "        f\"Question:\\n{start_query}\\n\"\n",
    "        \"Please answer the question based on the provided context.\"\n",
    "    )\n",
    "\n",
    "result = llm.invoke(final_prompt)\n",
    "\n",
    "rprint(f\"This is the answer to the query: {start_query}\")\n",
    "rprint(result)"
   ]
  },
  {
   "cell_type": "markdown",
   "metadata": {},
   "source": [
    "### Tool 2 - Math"
   ]
  },
  {
   "cell_type": "code",
   "execution_count": 70,
   "metadata": {},
   "outputs": [
    {
     "data": {
      "text/html": [
       "<pre style=\"white-space:pre;overflow-x:auto;line-height:normal;font-family:Menlo,'DejaVu Sans Mono',consolas,'Courier New',monospace\">Generated query for Tavily:\n",
       "</pre>\n"
      ],
      "text/plain": [
       "Generated query for Tavily:\n"
      ]
     },
     "metadata": {},
     "output_type": "display_data"
    },
    {
     "data": {
      "text/html": [
       "<pre style=\"white-space:pre;overflow-x:auto;line-height:normal;font-family:Menlo,'DejaVu Sans Mono',consolas,'Courier New',monospace\"><span style=\"color: #800080; text-decoration-color: #800080; font-weight: bold\">AIMessage</span><span style=\"font-weight: bold\">(</span>\n",
       "    <span style=\"color: #808000; text-decoration-color: #808000\">content</span>=<span style=\"color: #008000; text-decoration-color: #008000\">'Leo Messi birth year'</span>,\n",
       "    <span style=\"color: #808000; text-decoration-color: #808000\">additional_kwargs</span>=<span style=\"font-weight: bold\">{</span><span style=\"color: #008000; text-decoration-color: #008000\">'refusal'</span>: <span style=\"color: #800080; text-decoration-color: #800080; font-style: italic\">None</span><span style=\"font-weight: bold\">}</span>,\n",
       "    <span style=\"color: #808000; text-decoration-color: #808000\">response_metadata</span>=<span style=\"font-weight: bold\">{</span>\n",
       "        <span style=\"color: #008000; text-decoration-color: #008000\">'token_usage'</span>: <span style=\"font-weight: bold\">{</span>\n",
       "            <span style=\"color: #008000; text-decoration-color: #008000\">'completion_tokens'</span>: <span style=\"color: #008080; text-decoration-color: #008080; font-weight: bold\">4</span>,\n",
       "            <span style=\"color: #008000; text-decoration-color: #008000\">'prompt_tokens'</span>: <span style=\"color: #008080; text-decoration-color: #008080; font-weight: bold\">95</span>,\n",
       "            <span style=\"color: #008000; text-decoration-color: #008000\">'total_tokens'</span>: <span style=\"color: #008080; text-decoration-color: #008080; font-weight: bold\">99</span>,\n",
       "            <span style=\"color: #008000; text-decoration-color: #008000\">'completion_tokens_details'</span>: <span style=\"font-weight: bold\">{</span><span style=\"color: #008000; text-decoration-color: #008000\">'audio_tokens'</span>: <span style=\"color: #800080; text-decoration-color: #800080; font-style: italic\">None</span>, <span style=\"color: #008000; text-decoration-color: #008000\">'reasoning_tokens'</span>: <span style=\"color: #008080; text-decoration-color: #008080; font-weight: bold\">0</span><span style=\"font-weight: bold\">}</span>,\n",
       "            <span style=\"color: #008000; text-decoration-color: #008000\">'prompt_tokens_details'</span>: <span style=\"font-weight: bold\">{</span><span style=\"color: #008000; text-decoration-color: #008000\">'audio_tokens'</span>: <span style=\"color: #800080; text-decoration-color: #800080; font-style: italic\">None</span>, <span style=\"color: #008000; text-decoration-color: #008000\">'cached_tokens'</span>: <span style=\"color: #008080; text-decoration-color: #008080; font-weight: bold\">0</span><span style=\"font-weight: bold\">}</span>\n",
       "        <span style=\"font-weight: bold\">}</span>,\n",
       "        <span style=\"color: #008000; text-decoration-color: #008000\">'model_name'</span>: <span style=\"color: #008000; text-decoration-color: #008000\">'gpt-4-turbo-2024-04-09'</span>,\n",
       "        <span style=\"color: #008000; text-decoration-color: #008000\">'system_fingerprint'</span>: <span style=\"color: #008000; text-decoration-color: #008000\">'fp_4c7a0da424'</span>,\n",
       "        <span style=\"color: #008000; text-decoration-color: #008000\">'finish_reason'</span>: <span style=\"color: #008000; text-decoration-color: #008000\">'stop'</span>,\n",
       "        <span style=\"color: #008000; text-decoration-color: #008000\">'logprobs'</span>: <span style=\"color: #800080; text-decoration-color: #800080; font-style: italic\">None</span>\n",
       "    <span style=\"font-weight: bold\">}</span>,\n",
       "    <span style=\"color: #808000; text-decoration-color: #808000\">id</span>=<span style=\"color: #008000; text-decoration-color: #008000\">'run-c54e4a68-1f06-4ecf-8e1d-aaf3679fc2bc-0'</span>,\n",
       "    <span style=\"color: #808000; text-decoration-color: #808000\">usage_metadata</span>=<span style=\"font-weight: bold\">{</span>\n",
       "        <span style=\"color: #008000; text-decoration-color: #008000\">'input_tokens'</span>: <span style=\"color: #008080; text-decoration-color: #008080; font-weight: bold\">95</span>,\n",
       "        <span style=\"color: #008000; text-decoration-color: #008000\">'output_tokens'</span>: <span style=\"color: #008080; text-decoration-color: #008080; font-weight: bold\">4</span>,\n",
       "        <span style=\"color: #008000; text-decoration-color: #008000\">'total_tokens'</span>: <span style=\"color: #008080; text-decoration-color: #008080; font-weight: bold\">99</span>,\n",
       "        <span style=\"color: #008000; text-decoration-color: #008000\">'input_token_details'</span>: <span style=\"font-weight: bold\">{</span><span style=\"color: #008000; text-decoration-color: #008000\">'cache_read'</span>: <span style=\"color: #008080; text-decoration-color: #008080; font-weight: bold\">0</span><span style=\"font-weight: bold\">}</span>,\n",
       "        <span style=\"color: #008000; text-decoration-color: #008000\">'output_token_details'</span>: <span style=\"font-weight: bold\">{</span><span style=\"color: #008000; text-decoration-color: #008000\">'reasoning'</span>: <span style=\"color: #008080; text-decoration-color: #008080; font-weight: bold\">0</span><span style=\"font-weight: bold\">}</span>\n",
       "    <span style=\"font-weight: bold\">}</span>\n",
       "<span style=\"font-weight: bold\">)</span>\n",
       "</pre>\n"
      ],
      "text/plain": [
       "\u001b[1;35mAIMessage\u001b[0m\u001b[1m(\u001b[0m\n",
       "    \u001b[33mcontent\u001b[0m=\u001b[32m'Leo Messi birth year'\u001b[0m,\n",
       "    \u001b[33madditional_kwargs\u001b[0m=\u001b[1m{\u001b[0m\u001b[32m'refusal'\u001b[0m: \u001b[3;35mNone\u001b[0m\u001b[1m}\u001b[0m,\n",
       "    \u001b[33mresponse_metadata\u001b[0m=\u001b[1m{\u001b[0m\n",
       "        \u001b[32m'token_usage'\u001b[0m: \u001b[1m{\u001b[0m\n",
       "            \u001b[32m'completion_tokens'\u001b[0m: \u001b[1;36m4\u001b[0m,\n",
       "            \u001b[32m'prompt_tokens'\u001b[0m: \u001b[1;36m95\u001b[0m,\n",
       "            \u001b[32m'total_tokens'\u001b[0m: \u001b[1;36m99\u001b[0m,\n",
       "            \u001b[32m'completion_tokens_details'\u001b[0m: \u001b[1m{\u001b[0m\u001b[32m'audio_tokens'\u001b[0m: \u001b[3;35mNone\u001b[0m, \u001b[32m'reasoning_tokens'\u001b[0m: \u001b[1;36m0\u001b[0m\u001b[1m}\u001b[0m,\n",
       "            \u001b[32m'prompt_tokens_details'\u001b[0m: \u001b[1m{\u001b[0m\u001b[32m'audio_tokens'\u001b[0m: \u001b[3;35mNone\u001b[0m, \u001b[32m'cached_tokens'\u001b[0m: \u001b[1;36m0\u001b[0m\u001b[1m}\u001b[0m\n",
       "        \u001b[1m}\u001b[0m,\n",
       "        \u001b[32m'model_name'\u001b[0m: \u001b[32m'gpt-4-turbo-2024-04-09'\u001b[0m,\n",
       "        \u001b[32m'system_fingerprint'\u001b[0m: \u001b[32m'fp_4c7a0da424'\u001b[0m,\n",
       "        \u001b[32m'finish_reason'\u001b[0m: \u001b[32m'stop'\u001b[0m,\n",
       "        \u001b[32m'logprobs'\u001b[0m: \u001b[3;35mNone\u001b[0m\n",
       "    \u001b[1m}\u001b[0m,\n",
       "    \u001b[33mid\u001b[0m=\u001b[32m'run-c54e4a68-1f06-4ecf-8e1d-aaf3679fc2bc-0'\u001b[0m,\n",
       "    \u001b[33musage_metadata\u001b[0m=\u001b[1m{\u001b[0m\n",
       "        \u001b[32m'input_tokens'\u001b[0m: \u001b[1;36m95\u001b[0m,\n",
       "        \u001b[32m'output_tokens'\u001b[0m: \u001b[1;36m4\u001b[0m,\n",
       "        \u001b[32m'total_tokens'\u001b[0m: \u001b[1;36m99\u001b[0m,\n",
       "        \u001b[32m'input_token_details'\u001b[0m: \u001b[1m{\u001b[0m\u001b[32m'cache_read'\u001b[0m: \u001b[1;36m0\u001b[0m\u001b[1m}\u001b[0m,\n",
       "        \u001b[32m'output_token_details'\u001b[0m: \u001b[1m{\u001b[0m\u001b[32m'reasoning'\u001b[0m: \u001b[1;36m0\u001b[0m\u001b[1m}\u001b[0m\n",
       "    \u001b[1m}\u001b[0m\n",
       "\u001b[1m)\u001b[0m\n"
      ]
     },
     "metadata": {},
     "output_type": "display_data"
    },
    {
     "data": {
      "text/html": [
       "<pre style=\"white-space:pre;overflow-x:auto;line-height:normal;font-family:Menlo,'DejaVu Sans Mono',consolas,'Courier New',monospace\">Search results from Tavily:\n",
       "</pre>\n"
      ],
      "text/plain": [
       "Search results from Tavily:\n"
      ]
     },
     "metadata": {},
     "output_type": "display_data"
    },
    {
     "data": {
      "text/html": [
       "<pre style=\"white-space:pre;overflow-x:auto;line-height:normal;font-family:Menlo,'DejaVu Sans Mono',consolas,'Courier New',monospace\"><span style=\"font-weight: bold\">[</span>\n",
       "    <span style=\"font-weight: bold\">{</span>\n",
       "        <span style=\"color: #008000; text-decoration-color: #008000\">'url'</span>: <span style=\"color: #008000; text-decoration-color: #008000\">'https://birthdaywiki.com/messi'</span>,\n",
       "        <span style=\"color: #008000; text-decoration-color: #008000\">'content'</span>: <span style=\"color: #008000; text-decoration-color: #008000\">\"Messi was born with the birth name Lionel Andres Messi. When and Where was Messi born? ... From</span>\n",
       "<span style=\"color: #008000; text-decoration-color: #008000\">the year 1994, Messi began his professional career. He used to play football for Newell's Old Boys and then he </span>\n",
       "<span style=\"color: #008000; text-decoration-color: #008000\">played for Newell's till 2000. After that, he joined Barcelona in the year 2001.\"</span>\n",
       "    <span style=\"font-weight: bold\">}</span>,\n",
       "    <span style=\"font-weight: bold\">{</span>\n",
       "        <span style=\"color: #008000; text-decoration-color: #008000\">'url'</span>: <span style=\"color: #008000; text-decoration-color: #008000\">'https://starktimes.com/leo-messi/'</span>,\n",
       "        <span style=\"color: #008000; text-decoration-color: #008000\">'content'</span>: <span style=\"color: #008000; text-decoration-color: #008000\">\"Leo Messi Age, Height, Weight. As per his date of birth Leo Messi's age is 33 years. Talking </span>\n",
       "<span style=\"color: #008000; text-decoration-color: #008000\">about his physical appearance Leo Messi's height is 5′ 7″ and his weight is approx 74 kg.He is a handsome and </span>\n",
       "<span style=\"color: #008000; text-decoration-color: #008000\">attractive man with brown eyes and brown hair.\"</span>\n",
       "    <span style=\"font-weight: bold\">}</span>,\n",
       "    <span style=\"font-weight: bold\">{</span>\n",
       "        <span style=\"color: #008000; text-decoration-color: #008000\">'url'</span>: <span style=\"color: #008000; text-decoration-color: #008000\">'https://www.transfermarkt.com/lionel-messi/profil/spieler/28003'</span>,\n",
       "        <span style=\"color: #008000; text-decoration-color: #008000\">'content'</span>: <span style=\"color: #008000; text-decoration-color: #008000\">'Lionel Messi, 37, from Argentina Inter Miami CF, since 2023 Right Winger Market value: €25.00m </span>\n",
       "<span style=\"color: #008000; text-decoration-color: #008000\">* Jun 24, 1987 in Rosario, Argentina ... Name in home country: Lionel Andrés Messi Cuccitini Date of birth/Age: Jun</span>\n",
       "<span style=\"color: #008000; text-decoration-color: #008000\">24, 1987 (37) Place of birth:'</span>\n",
       "    <span style=\"font-weight: bold\">}</span>\n",
       "<span style=\"font-weight: bold\">]</span>\n",
       "</pre>\n"
      ],
      "text/plain": [
       "\u001b[1m[\u001b[0m\n",
       "    \u001b[1m{\u001b[0m\n",
       "        \u001b[32m'url'\u001b[0m: \u001b[32m'https://birthdaywiki.com/messi'\u001b[0m,\n",
       "        \u001b[32m'content'\u001b[0m: \u001b[32m\"Messi was born with the birth name Lionel Andres Messi. When and Where was Messi born? ... From\u001b[0m\n",
       "\u001b[32mthe year 1994, Messi began his professional career. He used to play football for Newell's Old Boys and then he \u001b[0m\n",
       "\u001b[32mplayed for Newell's till 2000. After that, he joined Barcelona in the year 2001.\"\u001b[0m\n",
       "    \u001b[1m}\u001b[0m,\n",
       "    \u001b[1m{\u001b[0m\n",
       "        \u001b[32m'url'\u001b[0m: \u001b[32m'https://starktimes.com/leo-messi/'\u001b[0m,\n",
       "        \u001b[32m'content'\u001b[0m: \u001b[32m\"Leo Messi Age, Height, Weight. As per his date of birth Leo Messi's age is 33 years. Talking \u001b[0m\n",
       "\u001b[32mabout his physical appearance Leo Messi's height is 5′ 7″ and his weight is approx 74 kg.He is a handsome and \u001b[0m\n",
       "\u001b[32mattractive man with brown eyes and brown hair.\"\u001b[0m\n",
       "    \u001b[1m}\u001b[0m,\n",
       "    \u001b[1m{\u001b[0m\n",
       "        \u001b[32m'url'\u001b[0m: \u001b[32m'https://www.transfermarkt.com/lionel-messi/profil/spieler/28003'\u001b[0m,\n",
       "        \u001b[32m'content'\u001b[0m: \u001b[32m'Lionel Messi, 37, from Argentina Inter Miami CF, since 2023 Right Winger Market value: €25.00m \u001b[0m\n",
       "\u001b[32m* Jun 24, 1987 in Rosario, Argentina ... Name in home country: Lionel Andrés Messi Cuccitini Date of birth/Age: Jun\u001b[0m\n",
       "\u001b[32m24, 1987 \u001b[0m\u001b[32m(\u001b[0m\u001b[32m37\u001b[0m\u001b[32m)\u001b[0m\u001b[32m Place of birth:'\u001b[0m\n",
       "    \u001b[1m}\u001b[0m\n",
       "\u001b[1m]\u001b[0m\n"
      ]
     },
     "metadata": {},
     "output_type": "display_data"
    },
    {
     "data": {
      "text/html": [
       "<pre style=\"white-space:pre;overflow-x:auto;line-height:normal;font-family:Menlo,'DejaVu Sans Mono',consolas,'Courier New',monospace\">This is the context to be passed to the LLM\n",
       "</pre>\n"
      ],
      "text/plain": [
       "This is the context to be passed to the LLM\n"
      ]
     },
     "metadata": {},
     "output_type": "display_data"
    },
    {
     "data": {
      "text/html": [
       "<pre style=\"white-space:pre;overflow-x:auto;line-height:normal;font-family:Menlo,'DejaVu Sans Mono',consolas,'Courier New',monospace\">Messi was born with the birth name Lionel Andres Messi. When and Where was Messi born? <span style=\"color: #808000; text-decoration-color: #808000\">...</span> From the year <span style=\"color: #008080; text-decoration-color: #008080; font-weight: bold\">1994</span>, \n",
       "Messi began his professional career. He used to play football for Newell's Old Boys and then he played for Newell's\n",
       "till <span style=\"color: #008080; text-decoration-color: #008080; font-weight: bold\">2000</span>. After that, he joined Barcelona in the year <span style=\"color: #008080; text-decoration-color: #008080; font-weight: bold\">2001</span>. Leo Messi Age, Height, Weight. As per his date of \n",
       "birth Leo Messi's age is <span style=\"color: #008080; text-decoration-color: #008080; font-weight: bold\">33</span> years. Talking about his physical appearance Leo Messi's height is <span style=\"color: #008080; text-decoration-color: #008080; font-weight: bold\">5</span>′ <span style=\"color: #008080; text-decoration-color: #008080; font-weight: bold\">7</span>″ and his weight\n",
       "is approx <span style=\"color: #008080; text-decoration-color: #008080; font-weight: bold\">74</span> kg.He is a handsome and attractive man with brown eyes and brown hair. Lionel Messi, <span style=\"color: #008080; text-decoration-color: #008080; font-weight: bold\">37</span>, from \n",
       "Argentina Inter Miami CF, since <span style=\"color: #008080; text-decoration-color: #008080; font-weight: bold\">2023</span> Right Winger Market value: €<span style=\"color: #008080; text-decoration-color: #008080; font-weight: bold\">25.</span>00m * Jun <span style=\"color: #008080; text-decoration-color: #008080; font-weight: bold\">24</span>, <span style=\"color: #008080; text-decoration-color: #008080; font-weight: bold\">1987</span> in Rosario, Argentina <span style=\"color: #808000; text-decoration-color: #808000\">...</span> \n",
       "Name in home country: Lionel Andrés Messi Cuccitini Date of birth/Age: Jun <span style=\"color: #008080; text-decoration-color: #008080; font-weight: bold\">24</span>, <span style=\"color: #008080; text-decoration-color: #008080; font-weight: bold\">1987</span> <span style=\"font-weight: bold\">(</span><span style=\"color: #008080; text-decoration-color: #008080; font-weight: bold\">37</span><span style=\"font-weight: bold\">)</span> Place of birth: \n",
       "</pre>\n"
      ],
      "text/plain": [
       "Messi was born with the birth name Lionel Andres Messi. When and Where was Messi born? \u001b[33m...\u001b[0m From the year \u001b[1;36m1994\u001b[0m, \n",
       "Messi began his professional career. He used to play football for Newell's Old Boys and then he played for Newell's\n",
       "till \u001b[1;36m2000\u001b[0m. After that, he joined Barcelona in the year \u001b[1;36m2001\u001b[0m. Leo Messi Age, Height, Weight. As per his date of \n",
       "birth Leo Messi's age is \u001b[1;36m33\u001b[0m years. Talking about his physical appearance Leo Messi's height is \u001b[1;36m5\u001b[0m′ \u001b[1;36m7\u001b[0m″ and his weight\n",
       "is approx \u001b[1;36m74\u001b[0m kg.He is a handsome and attractive man with brown eyes and brown hair. Lionel Messi, \u001b[1;36m37\u001b[0m, from \n",
       "Argentina Inter Miami CF, since \u001b[1;36m2023\u001b[0m Right Winger Market value: €\u001b[1;36m25.\u001b[0m00m * Jun \u001b[1;36m24\u001b[0m, \u001b[1;36m1987\u001b[0m in Rosario, Argentina \u001b[33m...\u001b[0m \n",
       "Name in home country: Lionel Andrés Messi Cuccitini Date of birth/Age: Jun \u001b[1;36m24\u001b[0m, \u001b[1;36m1987\u001b[0m \u001b[1m(\u001b[0m\u001b[1;36m37\u001b[0m\u001b[1m)\u001b[0m Place of birth: \n"
      ]
     },
     "metadata": {},
     "output_type": "display_data"
    },
    {
     "data": {
      "text/html": [
       "<pre style=\"white-space:pre;overflow-x:auto;line-height:normal;font-family:Menlo,'DejaVu Sans Mono',consolas,'Courier New',monospace\">This is the answer to the query: What is the age of Leo Messi in <span style=\"color: #008080; text-decoration-color: #008080; font-weight: bold\">2010</span> divided by <span style=\"color: #008080; text-decoration-color: #008080; font-weight: bold\">5</span>?\n",
       "</pre>\n"
      ],
      "text/plain": [
       "This is the answer to the query: What is the age of Leo Messi in \u001b[1;36m2010\u001b[0m divided by \u001b[1;36m5\u001b[0m?\n"
      ]
     },
     "metadata": {},
     "output_type": "display_data"
    },
    {
     "data": {
      "text/html": [
       "<pre style=\"white-space:pre;overflow-x:auto;line-height:normal;font-family:Menlo,'DejaVu Sans Mono',consolas,'Courier New',monospace\"><span style=\"color: #008080; text-decoration-color: #008080; font-weight: bold\">4.6</span>\n",
       "</pre>\n"
      ],
      "text/plain": [
       "\u001b[1;36m4.6\u001b[0m\n"
      ]
     },
     "metadata": {},
     "output_type": "display_data"
    }
   ],
   "source": [
    "# Initialize the LLM and tools\n",
    "llm = ChatOpenAI(model=\"gpt-4-turbo\")\n",
    "calculate = get_math_tool(llm)\n",
    "search = TavilySearchResults(\n",
    "    max_results=3,  # Increase the number of results for better context\n",
    "    description='tavily_search_results_json(query=\"the search query\") - a search engine.',\n",
    ")\n",
    "\n",
    "# Example query\n",
    "query = \"What is the age of Leo Messi in 2010 divided by 5?\"\n",
    "\n",
    "# Step 1: Prepare the query for the LLM\n",
    "prompt = (\n",
    "    f\"You are tasked with calculating the following: {query}. \"\n",
    "    \"Return a sub-query to search for any relevant information you may need to answer the query.\"\n",
    "    \"This sub-query will be passed to a search engine to provide more context to answer this query.\"\n",
    "    \"Ensure that you are using information that is most up to date.\"\n",
    "    \"If you are unsure, just return the query. Do not try to guess.\"\n",
    ")\n",
    "\n",
    "# Step 2: Invoke the LLM to get the search query\n",
    "generated_query = llm.invoke(prompt)\n",
    "\n",
    "rprint(\"Generated query for Tavily:\")\n",
    "rprint(generated_query)\n",
    "\n",
    "# Step 3: Perform the search using the generated query\n",
    "search_results = search.invoke({\"query\": generated_query.content.strip().strip('\"')})\n",
    "\n",
    "rprint(\"Search results from Tavily:\")\n",
    "rprint(search_results)\n",
    "\n",
    "# Step 4: Extract relevant context if search results are available\n",
    "context = \"\"\n",
    "if search_results:\n",
    "    for result in search_results:\n",
    "        context += f\"{result['content']} \"\n",
    "\n",
    "context = f\"{context}\"\n",
    "\n",
    "rprint(\"This is the context to be passed to the LLM\")\n",
    "rprint(context)\n",
    "\n",
    "# Step 5: Prepare input for the calculation tool\n",
    "input_data = {\n",
    "    \"problem\": f\"{query}.\",\n",
    "    \"context\": [context],  # Include filtered and summarized context for the calculation\n",
    "    \"query\": generated_query.content.strip().strip('\"')  # Pass the generated query as well\n",
    "}\n",
    "\n",
    "# Step 6: Invoke the calculate tool\n",
    "result = calculate.invoke(input_data)\n",
    "\n",
    "rprint(f\"This is the answer to the query: {query}\")\n",
    "rprint(result)"
   ]
  },
  {
   "cell_type": "markdown",
   "metadata": {},
   "source": [
    "### Tool 3 - RAG"
   ]
  },
  {
   "cell_type": "code",
   "execution_count": 89,
   "metadata": {},
   "outputs": [
    {
     "data": {
      "text/html": [
       "<pre style=\"white-space:pre;overflow-x:auto;line-height:normal;font-family:Menlo,'DejaVu Sans Mono',consolas,'Courier New',monospace\">These are the results of the vector search\n",
       "</pre>\n"
      ],
      "text/plain": [
       "These are the results of the vector search\n"
      ]
     },
     "metadata": {},
     "output_type": "display_data"
    },
    {
     "data": {
      "text/html": [
       "<pre style=\"white-space:pre;overflow-x:auto;line-height:normal;font-family:Menlo,'DejaVu Sans Mono',consolas,'Courier New',monospace\"><span style=\"font-weight: bold\">[</span>\n",
       "    <span style=\"color: #800080; text-decoration-color: #800080; font-weight: bold\">Document</span><span style=\"font-weight: bold\">(</span>\n",
       "        <span style=\"color: #808000; text-decoration-color: #808000\">metadata</span>=<span style=\"font-weight: bold\">{</span>\n",
       "            <span style=\"color: #008000; text-decoration-color: #008000\">'_id'</span>: <span style=\"color: #008000; text-decoration-color: #008000\">'671c7fd2d979057b1f309f27'</span>,\n",
       "            <span style=\"color: #008000; text-decoration-color: #008000\">'title'</span>: <span style=\"font-weight: bold\">[</span><span style=\"color: #008000; text-decoration-color: #008000\">'Module 9A: Life Insurance and Investment -Linked Policies II'</span><span style=\"font-weight: bold\">]</span>,\n",
       "            <span style=\"color: #008000; text-decoration-color: #008000\">'hasCode'</span>: <span style=\"color: #ff0000; text-decoration-color: #ff0000; font-style: italic\">False</span>,\n",
       "            <span style=\"color: #008000; text-decoration-color: #008000\">'source'</span>: <span style=\"color: #008000; text-decoration-color: #008000\">'../data/M9A_3rd_Edition.pdf'</span>,\n",
       "            <span style=\"color: #008000; text-decoration-color: #008000\">'page'</span>: <span style=\"color: #008080; text-decoration-color: #008080; font-weight: bold\">109</span>\n",
       "        <span style=\"font-weight: bold\">}</span>,\n",
       "        <span style=\"color: #808000; text-decoration-color: #808000\">page_content</span>=<span style=\"color: #008000; text-decoration-color: #008000\">'as those describe d below .  \\n \\nB1. Fees And C harges  \\n \\n6.11 There are two ways to pay </span>\n",
       "<span style=\"color: #008000; text-decoration-color: #008000\">fees and charges under an  ILP. One way is through \\ndeduction of premium or cancellation of  units. For example, </span>\n",
       "<span style=\"color: #008000; text-decoration-color: #008000\">the upfront sales \\ncommission is deducted from the single premium before the balance is invested i n \\n \\n7   </span>\n",
       "<span style=\"color: #008000; text-decoration-color: #008000\">Refer to Notice No: MAS 307 , Annex Ha  for the prescribed template.'</span>\n",
       "    <span style=\"font-weight: bold\">)</span>,\n",
       "    <span style=\"color: #800080; text-decoration-color: #800080; font-weight: bold\">Document</span><span style=\"font-weight: bold\">(</span>\n",
       "        <span style=\"color: #808000; text-decoration-color: #808000\">metadata</span>=<span style=\"font-weight: bold\">{</span>\n",
       "            <span style=\"color: #008000; text-decoration-color: #008000\">'_id'</span>: <span style=\"color: #008000; text-decoration-color: #008000\">'671c7fd2d979057b1f309ecd'</span>,\n",
       "            <span style=\"color: #008000; text-decoration-color: #008000\">'title'</span>: <span style=\"font-weight: bold\">[</span><span style=\"color: #008000; text-decoration-color: #008000\">'Introduction to Structured ILPs'</span><span style=\"font-weight: bold\">]</span>,\n",
       "            <span style=\"color: #008000; text-decoration-color: #008000\">'hasCode'</span>: <span style=\"color: #ff0000; text-decoration-color: #ff0000; font-style: italic\">False</span>,\n",
       "            <span style=\"color: #008000; text-decoration-color: #008000\">'source'</span>: <span style=\"color: #008000; text-decoration-color: #008000\">'../data/M9A_3rd_Edition.pdf'</span>,\n",
       "            <span style=\"color: #008000; text-decoration-color: #008000\">'page'</span>: <span style=\"color: #008080; text-decoration-color: #008080; font-weight: bold\">98</span>\n",
       "        <span style=\"font-weight: bold\">}</span>,\n",
       "        <span style=\"color: #808000; text-decoration-color: #808000\">page_content</span>=<span style=\"color: #008000; text-decoration-color: #008000\">'2.8 Structured ILPs share some common drawbacks with conventional ILPs, as \\nhighlighted </span>\n",
       "<span style=\"color: #008000; text-decoration-color: #008000\">below.  \\n  \\nB1. Fees And C harges  \\n \\n2.9 An ILP has several layers of expenses.   \\n\\uf0a7 Front -end sales </span>\n",
       "<span style=\"color: #008000; text-decoration-color: #008000\">charge, typically 5% for single premium, and c an be as high as \\n50% to 80% of first year premium for regular </span>\n",
       "<span style=\"color: #008000; text-decoration-color: #008000\">premium policies.       \\n \\n\\uf0a7 Annual fund management fee, based on the size of the fund and asset types, </span>\n",
       "<span style=\"color: #008000; text-decoration-color: #008000\">\\ntypically 1% to 2% for equities , and 0.5% to 1% for fixed incomes. A general rule'</span>\n",
       "    <span style=\"font-weight: bold\">)</span>,\n",
       "    <span style=\"color: #800080; text-decoration-color: #800080; font-weight: bold\">Document</span><span style=\"font-weight: bold\">(</span>\n",
       "        <span style=\"color: #808000; text-decoration-color: #808000\">metadata</span>=<span style=\"font-weight: bold\">{</span>\n",
       "            <span style=\"color: #008000; text-decoration-color: #008000\">'_id'</span>: <span style=\"color: #008000; text-decoration-color: #008000\">'671c7fd2d979057b1f309f15'</span>,\n",
       "            <span style=\"color: #008000; text-decoration-color: #008000\">'title'</span>: <span style=\"font-weight: bold\">[</span><span style=\"color: #008000; text-decoration-color: #008000\">'Module 9A: Life Insurance and Investment -Linked Policies II'</span><span style=\"font-weight: bold\">]</span>,\n",
       "            <span style=\"color: #008000; text-decoration-color: #008000\">'hasCode'</span>: <span style=\"color: #ff0000; text-decoration-color: #ff0000; font-style: italic\">False</span>,\n",
       "            <span style=\"color: #008000; text-decoration-color: #008000\">'source'</span>: <span style=\"color: #008000; text-decoration-color: #008000\">'../data/M9A_3rd_Edition.pdf'</span>,\n",
       "            <span style=\"color: #008000; text-decoration-color: #008000\">'page'</span>: <span style=\"color: #008080; text-decoration-color: #008080; font-weight: bold\">107</span>\n",
       "        <span style=\"font-weight: bold\">}</span>,\n",
       "        <span style=\"color: #808000; text-decoration-color: #808000\">page_content</span>=<span style=\"color: #008000; text-decoration-color: #008000\">'state so and indicate its risk classification.  \\n   \\n(ii) Fees And C harges  \\n </span>\n",
       "<span style=\"color: #008000; text-decoration-color: #008000\">\\nDisclosure of all fees and charges for the ILP and ILP sub- fund, whether \\nthrough deduction from premium, </span>\n",
       "<span style=\"color: #008000; text-decoration-color: #008000\">cancellation of units, or deduction from \\nasset value of the ILP sub- fund. Where there is a provision for a </span>\n",
       "<span style=\"color: #008000; text-decoration-color: #008000\">maximum fee \\nor charge payable, highlight that fact and state that maximum.  \\n \\n(iii) Dealing of Units  \\n </span>\n",
       "<span style=\"color: #008000; text-decoration-color: #008000\">\\nState how units in the ILP sub- fund may be purchased and paid for; redeemed'</span>\n",
       "    <span style=\"font-weight: bold\">)</span>\n",
       "<span style=\"font-weight: bold\">]</span>\n",
       "</pre>\n"
      ],
      "text/plain": [
       "\u001b[1m[\u001b[0m\n",
       "    \u001b[1;35mDocument\u001b[0m\u001b[1m(\u001b[0m\n",
       "        \u001b[33mmetadata\u001b[0m=\u001b[1m{\u001b[0m\n",
       "            \u001b[32m'_id'\u001b[0m: \u001b[32m'671c7fd2d979057b1f309f27'\u001b[0m,\n",
       "            \u001b[32m'title'\u001b[0m: \u001b[1m[\u001b[0m\u001b[32m'Module 9A: Life Insurance and Investment -Linked Policies II'\u001b[0m\u001b[1m]\u001b[0m,\n",
       "            \u001b[32m'hasCode'\u001b[0m: \u001b[3;91mFalse\u001b[0m,\n",
       "            \u001b[32m'source'\u001b[0m: \u001b[32m'../data/M9A_3rd_Edition.pdf'\u001b[0m,\n",
       "            \u001b[32m'page'\u001b[0m: \u001b[1;36m109\u001b[0m\n",
       "        \u001b[1m}\u001b[0m,\n",
       "        \u001b[33mpage_content\u001b[0m=\u001b[32m'as those describe d below .  \\n \\nB1. Fees And C harges  \\n \\n6.11 There are two ways to pay \u001b[0m\n",
       "\u001b[32mfees and charges under an  ILP. One way is through \\ndeduction of premium or cancellation of  units. For example, \u001b[0m\n",
       "\u001b[32mthe upfront sales \\ncommission is deducted from the single premium before the balance is invested i n \\n \\n7   \u001b[0m\n",
       "\u001b[32mRefer to Notice No: MAS 307 , Annex Ha  for the prescribed template.'\u001b[0m\n",
       "    \u001b[1m)\u001b[0m,\n",
       "    \u001b[1;35mDocument\u001b[0m\u001b[1m(\u001b[0m\n",
       "        \u001b[33mmetadata\u001b[0m=\u001b[1m{\u001b[0m\n",
       "            \u001b[32m'_id'\u001b[0m: \u001b[32m'671c7fd2d979057b1f309ecd'\u001b[0m,\n",
       "            \u001b[32m'title'\u001b[0m: \u001b[1m[\u001b[0m\u001b[32m'Introduction to Structured ILPs'\u001b[0m\u001b[1m]\u001b[0m,\n",
       "            \u001b[32m'hasCode'\u001b[0m: \u001b[3;91mFalse\u001b[0m,\n",
       "            \u001b[32m'source'\u001b[0m: \u001b[32m'../data/M9A_3rd_Edition.pdf'\u001b[0m,\n",
       "            \u001b[32m'page'\u001b[0m: \u001b[1;36m98\u001b[0m\n",
       "        \u001b[1m}\u001b[0m,\n",
       "        \u001b[33mpage_content\u001b[0m=\u001b[32m'2.8 Structured ILPs share some common drawbacks with conventional ILPs, as \\nhighlighted \u001b[0m\n",
       "\u001b[32mbelow.  \\n  \\nB1. Fees And C harges  \\n \\n2.9 An ILP has several layers of expenses.   \\n\\uf0a7 Front -end sales \u001b[0m\n",
       "\u001b[32mcharge, typically 5% for single premium, and c an be as high as \\n50% to 80% of first year premium for regular \u001b[0m\n",
       "\u001b[32mpremium policies.       \\n \\n\\uf0a7 Annual fund management fee, based on the size of the fund and asset types, \u001b[0m\n",
       "\u001b[32m\\ntypically 1% to 2% for equities , and 0.5% to 1% for fixed incomes. A general rule'\u001b[0m\n",
       "    \u001b[1m)\u001b[0m,\n",
       "    \u001b[1;35mDocument\u001b[0m\u001b[1m(\u001b[0m\n",
       "        \u001b[33mmetadata\u001b[0m=\u001b[1m{\u001b[0m\n",
       "            \u001b[32m'_id'\u001b[0m: \u001b[32m'671c7fd2d979057b1f309f15'\u001b[0m,\n",
       "            \u001b[32m'title'\u001b[0m: \u001b[1m[\u001b[0m\u001b[32m'Module 9A: Life Insurance and Investment -Linked Policies II'\u001b[0m\u001b[1m]\u001b[0m,\n",
       "            \u001b[32m'hasCode'\u001b[0m: \u001b[3;91mFalse\u001b[0m,\n",
       "            \u001b[32m'source'\u001b[0m: \u001b[32m'../data/M9A_3rd_Edition.pdf'\u001b[0m,\n",
       "            \u001b[32m'page'\u001b[0m: \u001b[1;36m107\u001b[0m\n",
       "        \u001b[1m}\u001b[0m,\n",
       "        \u001b[33mpage_content\u001b[0m=\u001b[32m'state so and indicate its risk classification.  \\n   \\n\u001b[0m\u001b[32m(\u001b[0m\u001b[32mii\u001b[0m\u001b[32m)\u001b[0m\u001b[32m Fees And C harges  \\n \u001b[0m\n",
       "\u001b[32m\\nDisclosure of all fees and charges for the ILP and ILP sub- fund, whether \\nthrough deduction from premium, \u001b[0m\n",
       "\u001b[32mcancellation of units, or deduction from \\nasset value of the ILP sub- fund. Where there is a provision for a \u001b[0m\n",
       "\u001b[32mmaximum fee \\nor charge payable, highlight that fact and state that maximum.  \\n \\n\u001b[0m\u001b[32m(\u001b[0m\u001b[32miii\u001b[0m\u001b[32m)\u001b[0m\u001b[32m Dealing of Units  \\n \u001b[0m\n",
       "\u001b[32m\\nState how units in the ILP sub- fund may be purchased and paid for; redeemed'\u001b[0m\n",
       "    \u001b[1m)\u001b[0m\n",
       "\u001b[1m]\u001b[0m\n"
      ]
     },
     "metadata": {},
     "output_type": "display_data"
    },
    {
     "data": {
      "text/html": [
       "<pre style=\"white-space:pre;overflow-x:auto;line-height:normal;font-family:Menlo,'DejaVu Sans Mono',consolas,'Courier New',monospace\">This is the answer to the query: What are the charges of an ILP?\n",
       "</pre>\n"
      ],
      "text/plain": [
       "This is the answer to the query: What are the charges of an ILP?\n"
      ]
     },
     "metadata": {},
     "output_type": "display_data"
    },
    {
     "data": {
      "text/html": [
       "<pre style=\"white-space:pre;overflow-x:auto;line-height:normal;font-family:Menlo,'DejaVu Sans Mono',consolas,'Courier New',monospace\"><span style=\"color: #800080; text-decoration-color: #800080; font-weight: bold\">AIMessage</span><span style=\"font-weight: bold\">(</span>\n",
       "    <span style=\"color: #808000; text-decoration-color: #808000\">content</span>=<span style=\"color: #008000; text-decoration-color: #008000\">\"The charges of an Investment-Linked Policy (ILP) include several types of fees and expenses, as </span>\n",
       "<span style=\"color: #008000; text-decoration-color: #008000\">outlined in the provided context:\\n\\n1. **Front-end Sales Charge**: This is a charge applied at the time of your </span>\n",
       "<span style=\"color: #008000; text-decoration-color: #008000\">initial investment. For single premiums, this charge is typically around 5%. For regular premium policies, this </span>\n",
       "<span style=\"color: #008000; text-decoration-color: #008000\">charge can be significantly higher, ranging from 50% to 80% of the first year's premium.\\n\\n2. **Annual Fund </span>\n",
       "<span style=\"color: #008000; text-decoration-color: #008000\">Management Fee**: This fee is charged for the management of the funds in which your premiums are invested. The rate</span>\n",
       "<span style=\"color: #008000; text-decoration-color: #008000\">depends on the type of assets managed. Typically, it ranges from 1% to 2% for equities and 0.5% to 1% for fixed </span>\n",
       "<span style=\"color: #008000; text-decoration-color: #008000\">incomes.\\n\\nThese fees can be deducted in various ways, including from the premium paid, from the cancellation of </span>\n",
       "<span style=\"color: #008000; text-decoration-color: #008000\">units, or directly from the asset value of the ILP sub-fund. Additionally, if there is a maximum limit on the fees </span>\n",
       "<span style=\"color: #008000; text-decoration-color: #008000\">or charges that can be applied, this must be clearly stated.\"</span>,\n",
       "    <span style=\"color: #808000; text-decoration-color: #808000\">additional_kwargs</span>=<span style=\"font-weight: bold\">{</span><span style=\"color: #008000; text-decoration-color: #008000\">'refusal'</span>: <span style=\"color: #800080; text-decoration-color: #800080; font-style: italic\">None</span><span style=\"font-weight: bold\">}</span>,\n",
       "    <span style=\"color: #808000; text-decoration-color: #808000\">response_metadata</span>=<span style=\"font-weight: bold\">{</span>\n",
       "        <span style=\"color: #008000; text-decoration-color: #008000\">'token_usage'</span>: <span style=\"font-weight: bold\">{</span>\n",
       "            <span style=\"color: #008000; text-decoration-color: #008000\">'completion_tokens'</span>: <span style=\"color: #008080; text-decoration-color: #008080; font-weight: bold\">211</span>,\n",
       "            <span style=\"color: #008000; text-decoration-color: #008000\">'prompt_tokens'</span>: <span style=\"color: #008080; text-decoration-color: #008080; font-weight: bold\">371</span>,\n",
       "            <span style=\"color: #008000; text-decoration-color: #008000\">'total_tokens'</span>: <span style=\"color: #008080; text-decoration-color: #008080; font-weight: bold\">582</span>,\n",
       "            <span style=\"color: #008000; text-decoration-color: #008000\">'completion_tokens_details'</span>: <span style=\"font-weight: bold\">{</span><span style=\"color: #008000; text-decoration-color: #008000\">'audio_tokens'</span>: <span style=\"color: #800080; text-decoration-color: #800080; font-style: italic\">None</span>, <span style=\"color: #008000; text-decoration-color: #008000\">'reasoning_tokens'</span>: <span style=\"color: #008080; text-decoration-color: #008080; font-weight: bold\">0</span><span style=\"font-weight: bold\">}</span>,\n",
       "            <span style=\"color: #008000; text-decoration-color: #008000\">'prompt_tokens_details'</span>: <span style=\"font-weight: bold\">{</span><span style=\"color: #008000; text-decoration-color: #008000\">'audio_tokens'</span>: <span style=\"color: #800080; text-decoration-color: #800080; font-style: italic\">None</span>, <span style=\"color: #008000; text-decoration-color: #008000\">'cached_tokens'</span>: <span style=\"color: #008080; text-decoration-color: #008080; font-weight: bold\">0</span><span style=\"font-weight: bold\">}</span>\n",
       "        <span style=\"font-weight: bold\">}</span>,\n",
       "        <span style=\"color: #008000; text-decoration-color: #008000\">'model_name'</span>: <span style=\"color: #008000; text-decoration-color: #008000\">'gpt-4-turbo-2024-04-09'</span>,\n",
       "        <span style=\"color: #008000; text-decoration-color: #008000\">'system_fingerprint'</span>: <span style=\"color: #008000; text-decoration-color: #008000\">'fp_ed14c08274'</span>,\n",
       "        <span style=\"color: #008000; text-decoration-color: #008000\">'finish_reason'</span>: <span style=\"color: #008000; text-decoration-color: #008000\">'stop'</span>,\n",
       "        <span style=\"color: #008000; text-decoration-color: #008000\">'logprobs'</span>: <span style=\"color: #800080; text-decoration-color: #800080; font-style: italic\">None</span>\n",
       "    <span style=\"font-weight: bold\">}</span>,\n",
       "    <span style=\"color: #808000; text-decoration-color: #808000\">id</span>=<span style=\"color: #008000; text-decoration-color: #008000\">'run-9e724670-9419-4ff0-bf27-7cf7365675a5-0'</span>,\n",
       "    <span style=\"color: #808000; text-decoration-color: #808000\">usage_metadata</span>=<span style=\"font-weight: bold\">{</span>\n",
       "        <span style=\"color: #008000; text-decoration-color: #008000\">'input_tokens'</span>: <span style=\"color: #008080; text-decoration-color: #008080; font-weight: bold\">371</span>,\n",
       "        <span style=\"color: #008000; text-decoration-color: #008000\">'output_tokens'</span>: <span style=\"color: #008080; text-decoration-color: #008080; font-weight: bold\">211</span>,\n",
       "        <span style=\"color: #008000; text-decoration-color: #008000\">'total_tokens'</span>: <span style=\"color: #008080; text-decoration-color: #008080; font-weight: bold\">582</span>,\n",
       "        <span style=\"color: #008000; text-decoration-color: #008000\">'input_token_details'</span>: <span style=\"font-weight: bold\">{</span><span style=\"color: #008000; text-decoration-color: #008000\">'cache_read'</span>: <span style=\"color: #008080; text-decoration-color: #008080; font-weight: bold\">0</span><span style=\"font-weight: bold\">}</span>,\n",
       "        <span style=\"color: #008000; text-decoration-color: #008000\">'output_token_details'</span>: <span style=\"font-weight: bold\">{</span><span style=\"color: #008000; text-decoration-color: #008000\">'reasoning'</span>: <span style=\"color: #008080; text-decoration-color: #008080; font-weight: bold\">0</span><span style=\"font-weight: bold\">}</span>\n",
       "    <span style=\"font-weight: bold\">}</span>\n",
       "<span style=\"font-weight: bold\">)</span>\n",
       "</pre>\n"
      ],
      "text/plain": [
       "\u001b[1;35mAIMessage\u001b[0m\u001b[1m(\u001b[0m\n",
       "    \u001b[33mcontent\u001b[0m=\u001b[32m\"The\u001b[0m\u001b[32m charges of an Investment-Linked Policy \u001b[0m\u001b[32m(\u001b[0m\u001b[32mILP\u001b[0m\u001b[32m)\u001b[0m\u001b[32m include several types of fees and expenses, as \u001b[0m\n",
       "\u001b[32moutlined in the provided context:\\n\\n1. **Front-end Sales Charge**: This is a charge applied at the time of your \u001b[0m\n",
       "\u001b[32minitial investment. For single premiums, this charge is typically around 5%. For regular premium policies, this \u001b[0m\n",
       "\u001b[32mcharge can be significantly higher, ranging from 50% to 80% of the first year's premium.\\n\\n2. **Annual Fund \u001b[0m\n",
       "\u001b[32mManagement Fee**: This fee is charged for the management of the funds in which your premiums are invested. The rate\u001b[0m\n",
       "\u001b[32mdepends on the type of assets managed. Typically, it ranges from 1% to 2% for equities and 0.5% to 1% for fixed \u001b[0m\n",
       "\u001b[32mincomes.\\n\\nThese fees can be deducted in various ways, including from the premium paid, from the cancellation of \u001b[0m\n",
       "\u001b[32munits, or directly from the asset value of the ILP sub-fund. Additionally, if there is a maximum limit on the fees \u001b[0m\n",
       "\u001b[32mor charges that can be applied, this must be clearly stated.\"\u001b[0m,\n",
       "    \u001b[33madditional_kwargs\u001b[0m=\u001b[1m{\u001b[0m\u001b[32m'refusal'\u001b[0m: \u001b[3;35mNone\u001b[0m\u001b[1m}\u001b[0m,\n",
       "    \u001b[33mresponse_metadata\u001b[0m=\u001b[1m{\u001b[0m\n",
       "        \u001b[32m'token_usage'\u001b[0m: \u001b[1m{\u001b[0m\n",
       "            \u001b[32m'completion_tokens'\u001b[0m: \u001b[1;36m211\u001b[0m,\n",
       "            \u001b[32m'prompt_tokens'\u001b[0m: \u001b[1;36m371\u001b[0m,\n",
       "            \u001b[32m'total_tokens'\u001b[0m: \u001b[1;36m582\u001b[0m,\n",
       "            \u001b[32m'completion_tokens_details'\u001b[0m: \u001b[1m{\u001b[0m\u001b[32m'audio_tokens'\u001b[0m: \u001b[3;35mNone\u001b[0m, \u001b[32m'reasoning_tokens'\u001b[0m: \u001b[1;36m0\u001b[0m\u001b[1m}\u001b[0m,\n",
       "            \u001b[32m'prompt_tokens_details'\u001b[0m: \u001b[1m{\u001b[0m\u001b[32m'audio_tokens'\u001b[0m: \u001b[3;35mNone\u001b[0m, \u001b[32m'cached_tokens'\u001b[0m: \u001b[1;36m0\u001b[0m\u001b[1m}\u001b[0m\n",
       "        \u001b[1m}\u001b[0m,\n",
       "        \u001b[32m'model_name'\u001b[0m: \u001b[32m'gpt-4-turbo-2024-04-09'\u001b[0m,\n",
       "        \u001b[32m'system_fingerprint'\u001b[0m: \u001b[32m'fp_ed14c08274'\u001b[0m,\n",
       "        \u001b[32m'finish_reason'\u001b[0m: \u001b[32m'stop'\u001b[0m,\n",
       "        \u001b[32m'logprobs'\u001b[0m: \u001b[3;35mNone\u001b[0m\n",
       "    \u001b[1m}\u001b[0m,\n",
       "    \u001b[33mid\u001b[0m=\u001b[32m'run-9e724670-9419-4ff0-bf27-7cf7365675a5-0'\u001b[0m,\n",
       "    \u001b[33musage_metadata\u001b[0m=\u001b[1m{\u001b[0m\n",
       "        \u001b[32m'input_tokens'\u001b[0m: \u001b[1;36m371\u001b[0m,\n",
       "        \u001b[32m'output_tokens'\u001b[0m: \u001b[1;36m211\u001b[0m,\n",
       "        \u001b[32m'total_tokens'\u001b[0m: \u001b[1;36m582\u001b[0m,\n",
       "        \u001b[32m'input_token_details'\u001b[0m: \u001b[1m{\u001b[0m\u001b[32m'cache_read'\u001b[0m: \u001b[1;36m0\u001b[0m\u001b[1m}\u001b[0m,\n",
       "        \u001b[32m'output_token_details'\u001b[0m: \u001b[1m{\u001b[0m\u001b[32m'reasoning'\u001b[0m: \u001b[1;36m0\u001b[0m\u001b[1m}\u001b[0m\n",
       "    \u001b[1m}\u001b[0m\n",
       "\u001b[1m)\u001b[0m\n"
      ]
     },
     "metadata": {},
     "output_type": "display_data"
    }
   ],
   "source": [
    "client = MongoClient(os.getenv(\"MONGODB_URI\"))\n",
    "dbName = \"atlas_exploration\"\n",
    "collectionName = \"chunked_data\"\n",
    "index = \"vector_index\"\n",
    "collection = client[dbName][collectionName]\n",
    "\n",
    "vectorStoreRetriever = MongoDBAtlasVectorSearch.from_connection_string(\n",
    "    os.getenv(\"MONGODB_URI\"),\n",
    "    dbName + \".\" + collectionName,\n",
    "    OpenAIEmbeddings(disallowed_special=(), openai_api_key=os.getenv(\"OPENAI_API_KEY\")),\n",
    "    index_name=index,\n",
    ")\n",
    "\n",
    "retriever = vectorStoreRetriever.as_retriever(\n",
    "        search_type=\"similarity\",\n",
    "        search_kwargs={\"k\": 3, \"pre_filter\": {\"hasCode\": {\"$eq\": False}}},\n",
    "    )\n",
    "\n",
    "rag_query = \"What are the charges of an ILP?\"\n",
    "\n",
    "results = retriever.invoke(rag_query)\n",
    "\n",
    "rprint(\"These are the results of the vector search\")\n",
    "rprint(results)\n",
    "\n",
    "context = \"\"\n",
    "for result in results:\n",
    "    context += result.page_content + '\\n'\n",
    "\n",
    "llm = ChatOpenAI(model=\"gpt-4-turbo\")\n",
    "prompt = (\n",
    "        f\"Context:\\n{context}\\n\\n\"\n",
    "        f\"Question:\\n{rag_query}\\n\"\n",
    "        \"Please answer the question based on the provided context.\"\n",
    "    )\n",
    "\n",
    "result = llm.invoke(prompt)\n",
    "\n",
    "rprint(f\"This is the answer to the query: {rag_query}\")\n",
    "rprint(result)"
   ]
  },
  {
   "cell_type": "markdown",
   "metadata": {},
   "source": [
    "### Multi Agent Workflow with Tools"
   ]
  },
  {
   "cell_type": "markdown",
   "metadata": {},
   "source": [
    "#### Web Search Tool Node"
   ]
  },
  {
   "cell_type": "code",
   "execution_count": null,
   "metadata": {},
   "outputs": [],
   "source": []
  },
  {
   "cell_type": "markdown",
   "metadata": {},
   "source": [
    "#### Math Tool Node"
   ]
  },
  {
   "cell_type": "code",
   "execution_count": null,
   "metadata": {},
   "outputs": [],
   "source": []
  },
  {
   "cell_type": "markdown",
   "metadata": {},
   "source": [
    "#### Rag Tool Node"
   ]
  },
  {
   "cell_type": "code",
   "execution_count": null,
   "metadata": {},
   "outputs": [],
   "source": []
  }
 ],
 "metadata": {
  "kernelspec": {
   "display_name": "Python 3",
   "language": "python",
   "name": "python3"
  },
  "language_info": {
   "codemirror_mode": {
    "name": "ipython",
    "version": 3
   },
   "file_extension": ".py",
   "mimetype": "text/x-python",
   "name": "python",
   "nbconvert_exporter": "python",
   "pygments_lexer": "ipython3",
   "version": "3.10.12"
  }
 },
 "nbformat": 4,
 "nbformat_minor": 2
}
