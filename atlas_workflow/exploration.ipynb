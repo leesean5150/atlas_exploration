{
 "cells": [
  {
   "cell_type": "markdown",
   "metadata": {},
   "source": [
    "## Exploration of atlas for RAG"
   ]
  },
  {
   "cell_type": "markdown",
   "metadata": {},
   "source": [
    "### Import statements and dependencies"
   ]
  },
  {
   "cell_type": "code",
   "execution_count": 2,
   "metadata": {},
   "outputs": [
    {
     "data": {
      "text/plain": [
       "True"
      ]
     },
     "execution_count": 2,
     "metadata": {},
     "output_type": "execute_result"
    }
   ],
   "source": [
    "import dotenv\n",
    "import os\n",
    "from bson import ObjectId\n",
    "from langchain import PromptTemplate\n",
    "from langchain.text_splitter import RecursiveCharacterTextSplitter\n",
    "from langchain_community.document_loaders import PyPDFLoader\n",
    "from langchain_community.document_transformers.openai_functions import create_metadata_tagger\n",
    "from langchain_core.output_parsers import StrOutputParser\n",
    "from langchain_core.runnables import RunnablePassthrough\n",
    "from langchain_mongodb import MongoDBAtlasVectorSearch\n",
    "from langchain_openai import ChatOpenAI, OpenAIEmbeddings\n",
    "from pymongo import MongoClient\n",
    "from rich import print as rprint\n",
    "\n",
    "dotenv.load_dotenv()"
   ]
  },
  {
   "cell_type": "markdown",
   "metadata": {},
   "source": [
    "### Databse Ping"
   ]
  },
  {
   "cell_type": "code",
   "execution_count": 34,
   "metadata": {},
   "outputs": [
    {
     "name": "stdout",
     "output_type": "stream",
     "text": [
      "Connection successful!\n"
     ]
    }
   ],
   "source": [
    "MONGODB_URI = os.getenv(\"MONGODB_URI\")\n",
    "\n",
    "try:\n",
    "    client = MongoClient(MONGODB_URI)\n",
    "    db = client[\"atlasexploration\"]\n",
    "    print(\"Connection successful!\")\n",
    "except Exception as e:\n",
    "    print(\"Connection failed:\", e)"
   ]
  },
  {
   "cell_type": "markdown",
   "metadata": {},
   "source": [
    "### Databse Setup"
   ]
  },
  {
   "cell_type": "code",
   "execution_count": 7,
   "metadata": {},
   "outputs": [],
   "source": [
    "client = MongoClient(os.getenv(\"MONGODB_URI\"))\n",
    "\n",
    "dbName = \"atlas_exploration\"\n",
    "collectionName = \"chunked_data\"\n",
    "index = \"vector_index\"\n",
    "collection = client[dbName][collectionName]"
   ]
  },
  {
   "cell_type": "markdown",
   "metadata": {},
   "source": [
    "### Loading the document"
   ]
  },
  {
   "cell_type": "code",
   "execution_count": 19,
   "metadata": {},
   "outputs": [
    {
     "data": {
      "text/html": [
       "<pre style=\"white-space:pre;overflow-x:auto;line-height:normal;font-family:Menlo,'DejaVu Sans Mono',consolas,'Courier New',monospace\"><span style=\"color: #800080; text-decoration-color: #800080; font-weight: bold\">Document</span><span style=\"font-weight: bold\">(</span>\n",
       "    <span style=\"color: #808000; text-decoration-color: #808000\">metadata</span>=<span style=\"font-weight: bold\">{</span><span style=\"color: #008000; text-decoration-color: #008000\">'source'</span>: <span style=\"color: #008000; text-decoration-color: #008000\">'../data/M9A_3rd_Edition.pdf'</span>, <span style=\"color: #008000; text-decoration-color: #008000\">'page'</span>: <span style=\"color: #008080; text-decoration-color: #008080; font-weight: bold\">3</span><span style=\"font-weight: bold\">}</span>,\n",
       "    <span style=\"color: #808000; text-decoration-color: #808000\">page_content</span>=<span style=\"color: #008000; text-decoration-color: #008000\">' Table Of Cont ents \\nCopyright reserved by the Singapore College of Ins urance Limited [Version </span>\n",
       "<span style=\"color: #008000; text-decoration-color: #008000\">1. 0] i \\nContents  Chapter 1 Introduction To Structured Products  1 \\n \\n1. What Is A Structured Product?  \\nA. </span>\n",
       "<span style=\"color: #008000; text-decoration-color: #008000\">How Does A Structured Product Work?  \\nB. What Is A Wrapper?  \\nC. Why Invest In Structured Products?  \\nD. </span>\n",
       "<span style=\"color: #008000; text-decoration-color: #008000\">Challenges Facing Structured Products  \\n2. Components Of A Structured Product  \\nA. Principal Risk Versus Return </span>\n",
       "<span style=\"color: #008000; text-decoration-color: #008000\">Risk  \\nB. Trade- off Between Risk And Return  \\n3. Types Of Structured Products  \\nA. Products Designed To Protect</span>\n",
       "<span style=\"color: #008000; text-decoration-color: #008000\">Capital  \\nB. Yield Enhancement Products  \\nC. Participation Products  \\n4. Similarities And Differences Of </span>\n",
       "<span style=\"color: #008000; text-decoration-color: #008000\">Structured Products  \\nA. Similarities In Features  \\nB. Differences In Features  \\nC. Differences In Rights  \\nD. </span>\n",
       "<span style=\"color: #008000; text-decoration-color: #008000\">Similarities And Differences In Governance  \\n5. Suitability  \\nA. Know Your Clients  \\nB. Know Your Products  \\n </span>\n",
       "<span style=\"color: #008000; text-decoration-color: #008000\">\\n \\nChapter 2 Risk Considerations Of Structured Products  27 \\n 1. Market Risk  \\nA.  General Market Risk  \\nB.   </span>\n",
       "<span style=\"color: #008000; text-decoration-color: #008000\">Issuer -specific Risk  \\n2. Issuer Or Swap Counterparty Credit Risk  \\n3. Liquidity Risk  \\n4. Foreign Exchange </span>\n",
       "<span style=\"color: #008000; text-decoration-color: #008000\">(FX) Risk  \\n5. Structural Risk  \\nA. Safety Of Principal  \\nB. Leverage \\nC. Investment In Derivatives  \\nD. </span>\n",
       "<span style=\"color: #008000; text-decoration-color: #008000\">Investment Concentration \\nE. Collateral  \\n6. Other Risks  \\nA. Legal And Regulatory  \\nB. Correlation  \\nC. </span>\n",
       "<span style=\"color: #008000; text-decoration-color: #008000\">Modelling  \\nD. Early Redemption  \\nE. Examples Of Redemption Amount  \\n \\n \\n \\n  '</span>\n",
       "<span style=\"font-weight: bold\">)</span>\n",
       "</pre>\n"
      ],
      "text/plain": [
       "\u001b[1;35mDocument\u001b[0m\u001b[1m(\u001b[0m\n",
       "    \u001b[33mmetadata\u001b[0m=\u001b[1m{\u001b[0m\u001b[32m'source'\u001b[0m: \u001b[32m'../data/M9A_3rd_Edition.pdf'\u001b[0m, \u001b[32m'page'\u001b[0m: \u001b[1;36m3\u001b[0m\u001b[1m}\u001b[0m,\n",
       "    \u001b[33mpage_content\u001b[0m=\u001b[32m' Table Of Cont ents \\nCopyright reserved by the Singapore College of Ins urance Limited \u001b[0m\u001b[32m[\u001b[0m\u001b[32mVersion \u001b[0m\n",
       "\u001b[32m1. 0\u001b[0m\u001b[32m]\u001b[0m\u001b[32m i \\nContents  Chapter 1 Introduction To Structured Products  1 \\n \\n1. What Is A Structured Product?  \\nA. \u001b[0m\n",
       "\u001b[32mHow Does A Structured Product Work?  \\nB. What Is A Wrapper?  \\nC. Why Invest In Structured Products?  \\nD. \u001b[0m\n",
       "\u001b[32mChallenges Facing Structured Products  \\n2. Components Of A Structured Product  \\nA. Principal Risk Versus Return \u001b[0m\n",
       "\u001b[32mRisk  \\nB. Trade- off Between Risk And Return  \\n3. Types Of Structured Products  \\nA. Products Designed To Protect\u001b[0m\n",
       "\u001b[32mCapital  \\nB. Yield Enhancement Products  \\nC. Participation Products  \\n4. Similarities And Differences Of \u001b[0m\n",
       "\u001b[32mStructured Products  \\nA. Similarities In Features  \\nB. Differences In Features  \\nC. Differences In Rights  \\nD. \u001b[0m\n",
       "\u001b[32mSimilarities And Differences In Governance  \\n5. Suitability  \\nA. Know Your Clients  \\nB. Know Your Products  \\n \u001b[0m\n",
       "\u001b[32m\\n \\nChapter 2 Risk Considerations Of Structured Products  27 \\n 1. Market Risk  \\nA.  General Market Risk  \\nB.   \u001b[0m\n",
       "\u001b[32mIssuer -specific Risk  \\n2. Issuer Or Swap Counterparty Credit Risk  \\n3. Liquidity Risk  \\n4. Foreign Exchange \u001b[0m\n",
       "\u001b[32m(\u001b[0m\u001b[32mFX\u001b[0m\u001b[32m)\u001b[0m\u001b[32m Risk  \\n5. Structural Risk  \\nA. Safety Of Principal  \\nB. Leverage \\nC. Investment In Derivatives  \\nD. \u001b[0m\n",
       "\u001b[32mInvestment Concentration \\nE. Collateral  \\n6. Other Risks  \\nA. Legal And Regulatory  \\nB. Correlation  \\nC. \u001b[0m\n",
       "\u001b[32mModelling  \\nD. Early Redemption  \\nE. Examples Of Redemption Amount  \\n \\n \\n \\n  '\u001b[0m\n",
       "\u001b[1m)\u001b[0m\n"
      ]
     },
     "metadata": {},
     "output_type": "display_data"
    }
   ],
   "source": [
    "loader = PyPDFLoader(\"../data/M9A_3rd_Edition.pdf\")\n",
    "pages = loader.load()\n",
    "rprint(pages[3])"
   ]
  },
  {
   "cell_type": "markdown",
   "metadata": {},
   "source": [
    "### Sanitization of data"
   ]
  },
  {
   "cell_type": "code",
   "execution_count": 10,
   "metadata": {},
   "outputs": [
    {
     "data": {
      "text/html": [
       "<pre style=\"white-space:pre;overflow-x:auto;line-height:normal;font-family:Menlo,'DejaVu Sans Mono',consolas,'Courier New',monospace\"><span style=\"color: #008080; text-decoration-color: #008080; font-weight: bold\">138</span>\n",
       "</pre>\n"
      ],
      "text/plain": [
       "\u001b[1;36m138\u001b[0m\n"
      ]
     },
     "metadata": {},
     "output_type": "display_data"
    },
    {
     "data": {
      "text/html": [
       "<pre style=\"white-space:pre;overflow-x:auto;line-height:normal;font-family:Menlo,'DejaVu Sans Mono',consolas,'Courier New',monospace\"><span style=\"color: #800080; text-decoration-color: #800080; font-weight: bold\">Document</span><span style=\"font-weight: bold\">(</span>\n",
       "    <span style=\"color: #808000; text-decoration-color: #808000\">metadata</span>=<span style=\"font-weight: bold\">{</span><span style=\"color: #008000; text-decoration-color: #008000\">'source'</span>: <span style=\"color: #008000; text-decoration-color: #008000\">'../data/M9A_3rd_Edition.pdf'</span>, <span style=\"color: #008000; text-decoration-color: #008000\">'page'</span>: <span style=\"color: #008080; text-decoration-color: #008080; font-weight: bold\">2</span><span style=\"font-weight: bold\">}</span>,\n",
       "    <span style=\"color: #808000; text-decoration-color: #808000\">page_content</span>=<span style=\"color: #008000; text-decoration-color: #008000\">' \\nLIFE INSURANCE AND  \\nINVESTMENT- LINKED POLICIES II  \\n \\n3rd Edition, Version 1.0 –  April </span>\n",
       "<span style=\"color: #008000; text-decoration-color: #008000\">2023 \\n \\n  \\n \\n  \\n \\n \\n  \\n \\n  \\n  \\n \\n \\n \\n \\n \\n \\n \\n \\n \\n \\n \\n© 2023  by Singapore College of </span>\n",
       "<span style=\"color: #008000; text-decoration-color: #008000\">Insurance Limited. All rights reserved.  \\n \\nAny reproduction or redistribution of this Study Text in part or in </span>\n",
       "<span style=\"color: #008000; text-decoration-color: #008000\">its entirety, without granted \\npermission, other than for the purpose of your examination preparation, is strictly</span>\n",
       "<span style=\"color: #008000; text-decoration-color: #008000\">prohibited \\nand will be tantamount to a copyright infringement. Legal action will be taken to protect our </span>\n",
       "<span style=\"color: #008000; text-decoration-color: #008000\">\\ncopyright. Any website references are correct as of the time of publication.  \\n \\nThis Study Text is designed as</span>\n",
       "<span style=\"color: #008000; text-decoration-color: #008000\">a learning programme. The SCI is not engaged in rendering \\nlegal, tax, investment or other professional advice and</span>\n",
       "<span style=\"color: #008000; text-decoration-color: #008000\">the reader should consult professional counsel as appropriate. We have tried to provide you with the most accurate </span>\n",
       "<span style=\"color: #008000; text-decoration-color: #008000\">and  useful \\ninformation possible. However, the information in this publication may be affected by changes \\nin </span>\n",
       "<span style=\"color: #008000; text-decoration-color: #008000\">law or industry practice, and, as a result, information contained in this publication may \\nbecome outdated. This </span>\n",
       "<span style=\"color: #008000; text-decoration-color: #008000\">material should in no way be used as an  original source of authority on \\nlegal matters. Any names used in this </span>\n",
       "<span style=\"color: #008000; text-decoration-color: #008000\">Study Text  are fictitious and have no relationship to any \\npersons living or dead.  \\n 1\\nst Edition published in</span>\n",
       "<span style=\"color: #008000; text-decoration-color: #008000\">October 2011 . \\n2nd Edition published in February 2020. \\n '</span>\n",
       "<span style=\"font-weight: bold\">)</span>\n",
       "</pre>\n"
      ],
      "text/plain": [
       "\u001b[1;35mDocument\u001b[0m\u001b[1m(\u001b[0m\n",
       "    \u001b[33mmetadata\u001b[0m=\u001b[1m{\u001b[0m\u001b[32m'source'\u001b[0m: \u001b[32m'../data/M9A_3rd_Edition.pdf'\u001b[0m, \u001b[32m'page'\u001b[0m: \u001b[1;36m2\u001b[0m\u001b[1m}\u001b[0m,\n",
       "    \u001b[33mpage_content\u001b[0m=\u001b[32m' \\nLIFE INSURANCE AND  \\nINVESTMENT- LINKED POLICIES II  \\n \\n3rd Edition, Version 1.0 –  April \u001b[0m\n",
       "\u001b[32m2023 \\n \\n  \\n \\n  \\n \\n \\n  \\n \\n  \\n  \\n \\n \\n \\n \\n \\n \\n \\n \\n \\n \\n \\n© 2023  by Singapore College of \u001b[0m\n",
       "\u001b[32mInsurance Limited. All rights reserved.  \\n \\nAny reproduction or redistribution of this Study Text in part or in \u001b[0m\n",
       "\u001b[32mits entirety, without granted \\npermission, other than for the purpose of your examination preparation, is strictly\u001b[0m\n",
       "\u001b[32mprohibited \\nand will be tantamount to a copyright infringement. Legal action will be taken to protect our \u001b[0m\n",
       "\u001b[32m\\ncopyright. Any website references are correct as of the time of publication.  \\n \\nThis Study Text is designed as\u001b[0m\n",
       "\u001b[32ma learning programme. The SCI is not engaged in rendering \\nlegal, tax, investment or other professional advice and\u001b[0m\n",
       "\u001b[32mthe reader should consult professional counsel as appropriate. We have tried to provide you with the most accurate \u001b[0m\n",
       "\u001b[32mand  useful \\ninformation possible. However, the information in this publication may be affected by changes \\nin \u001b[0m\n",
       "\u001b[32mlaw or industry practice, and, as a result, information contained in this publication may \\nbecome outdated. This \u001b[0m\n",
       "\u001b[32mmaterial should in no way be used as an  original source of authority on \\nlegal matters. Any names used in this \u001b[0m\n",
       "\u001b[32mStudy Text  are fictitious and have no relationship to any \\npersons living or dead.  \\n 1\\nst Edition published in\u001b[0m\n",
       "\u001b[32mOctober 2011 . \\n2nd Edition published in February 2020. \\n '\u001b[0m\n",
       "\u001b[1m)\u001b[0m\n"
      ]
     },
     "metadata": {},
     "output_type": "display_data"
    }
   ],
   "source": [
    "# removing pages with too little content\n",
    "\n",
    "cleaned_pages = []\n",
    "for page in pages:\n",
    "    if len(page.page_content.split(\" \")) > 20:\n",
    "        cleaned_pages.append(page)\n",
    "\n",
    "rprint(len(cleaned_pages))\n",
    "rprint(cleaned_pages[1])"
   ]
  },
  {
   "cell_type": "markdown",
   "metadata": {},
   "source": [
    "## Document enhancements"
   ]
  },
  {
   "cell_type": "code",
   "execution_count": 11,
   "metadata": {},
   "outputs": [
    {
     "data": {
      "text/html": [
       "<pre style=\"white-space:pre;overflow-x:auto;line-height:normal;font-family:Menlo,'DejaVu Sans Mono',consolas,'Courier New',monospace\"><span style=\"color: #008080; text-decoration-color: #008080; font-weight: bold\">927</span>\n",
       "</pre>\n"
      ],
      "text/plain": [
       "\u001b[1;36m927\u001b[0m\n"
      ]
     },
     "metadata": {},
     "output_type": "display_data"
    },
    {
     "data": {
      "text/html": [
       "<pre style=\"white-space:pre;overflow-x:auto;line-height:normal;font-family:Menlo,'DejaVu Sans Mono',consolas,'Courier New',monospace\"><span style=\"color: #800080; text-decoration-color: #800080; font-weight: bold\">Document</span><span style=\"font-weight: bold\">(</span>\n",
       "    <span style=\"color: #808000; text-decoration-color: #808000\">metadata</span>=<span style=\"font-weight: bold\">{</span>\n",
       "        <span style=\"color: #008000; text-decoration-color: #008000\">'title'</span>: <span style=\"font-weight: bold\">[</span><span style=\"color: #008000; text-decoration-color: #008000\">'Chapter 3 Understanding Derivatives'</span>, <span style=\"color: #008000; text-decoration-color: #008000\">'Chapter 4 Introduction To Structured ILPs'</span><span style=\"font-weight: bold\">]</span>,\n",
       "        <span style=\"color: #008000; text-decoration-color: #008000\">'hasCode'</span>: <span style=\"color: #ff0000; text-decoration-color: #ff0000; font-style: italic\">False</span>,\n",
       "        <span style=\"color: #008000; text-decoration-color: #008000\">'source'</span>: <span style=\"color: #008000; text-decoration-color: #008000\">'../data/M9A_3rd_Edition.pdf'</span>,\n",
       "        <span style=\"color: #008000; text-decoration-color: #008000\">'page'</span>: <span style=\"color: #008080; text-decoration-color: #008080; font-weight: bold\">4</span>\n",
       "    <span style=\"font-weight: bold\">}</span>,\n",
       "    <span style=\"color: #808000; text-decoration-color: #808000\">page_content</span>=<span style=\"color: #008000; text-decoration-color: #008000\">'D. Bullish Option Strategies  \\nE. Bearish Opt ion Strategies  \\nF. Neutral Option Strategies  </span>\n",
       "<span style=\"color: #008000; text-decoration-color: #008000\">\\nG. Summary Of Options  \\n4. Swaps  \\nA. Interest Rate Swaps  \\nB. Currency Swaps  \\nC. Credit Default Swap (CDS) </span>\n",
       "<span style=\"color: #008000; text-decoration-color: #008000\">\\nD. Equity Swaps  \\nE. Commodity Swaps  \\n5. Contract For Differences (CFD)  \\n \\n \\nChapter 4 Introduction To </span>\n",
       "<span style=\"color: #008000; text-decoration-color: #008000\">Structured I LPs 73 \\n \\n1. What Is A Structured ILP?  \\nA. Payout Under A Structured ILP  \\nB. Common Terminology </span>\n",
       "<span style=\"color: #008000; text-decoration-color: #008000\">\\n2. Advantages And Disadvantages Of Structured ILPs'</span>\n",
       "<span style=\"font-weight: bold\">)</span>\n",
       "</pre>\n"
      ],
      "text/plain": [
       "\u001b[1;35mDocument\u001b[0m\u001b[1m(\u001b[0m\n",
       "    \u001b[33mmetadata\u001b[0m=\u001b[1m{\u001b[0m\n",
       "        \u001b[32m'title'\u001b[0m: \u001b[1m[\u001b[0m\u001b[32m'Chapter 3 Understanding Derivatives'\u001b[0m, \u001b[32m'Chapter 4 Introduction To Structured ILPs'\u001b[0m\u001b[1m]\u001b[0m,\n",
       "        \u001b[32m'hasCode'\u001b[0m: \u001b[3;91mFalse\u001b[0m,\n",
       "        \u001b[32m'source'\u001b[0m: \u001b[32m'../data/M9A_3rd_Edition.pdf'\u001b[0m,\n",
       "        \u001b[32m'page'\u001b[0m: \u001b[1;36m4\u001b[0m\n",
       "    \u001b[1m}\u001b[0m,\n",
       "    \u001b[33mpage_content\u001b[0m=\u001b[32m'D. Bullish Option Strategies  \\nE. Bearish Opt ion Strategies  \\nF. Neutral Option Strategies  \u001b[0m\n",
       "\u001b[32m\\nG. Summary Of Options  \\n4. Swaps  \\nA. Interest Rate Swaps  \\nB. Currency Swaps  \\nC. Credit Default Swap \u001b[0m\u001b[32m(\u001b[0m\u001b[32mCDS\u001b[0m\u001b[32m)\u001b[0m\u001b[32m \u001b[0m\n",
       "\u001b[32m\\nD. Equity Swaps  \\nE. Commodity Swaps  \\n5. Contract For Differences \u001b[0m\u001b[32m(\u001b[0m\u001b[32mCFD\u001b[0m\u001b[32m)\u001b[0m\u001b[32m  \\n \\n \\nChapter 4 Introduction To \u001b[0m\n",
       "\u001b[32mStructured I LPs 73 \\n \\n1. What Is A Structured ILP?  \\nA. Payout Under A Structured ILP  \\nB. Common Terminology \u001b[0m\n",
       "\u001b[32m\\n2. Advantages And Disadvantages Of Structured ILPs'\u001b[0m\n",
       "\u001b[1m)\u001b[0m\n"
      ]
     },
     "metadata": {},
     "output_type": "display_data"
    },
    {
     "data": {
      "text/html": [
       "<pre style=\"white-space:pre;overflow-x:auto;line-height:normal;font-family:Menlo,'DejaVu Sans Mono',consolas,'Courier New',monospace\"><span style=\"color: #800080; text-decoration-color: #800080; font-weight: bold\">Document</span><span style=\"font-weight: bold\">(</span>\n",
       "    <span style=\"color: #808000; text-decoration-color: #808000\">metadata</span>=<span style=\"font-weight: bold\">{</span>\n",
       "        <span style=\"color: #008000; text-decoration-color: #008000\">'title'</span>: <span style=\"font-weight: bold\">[</span><span style=\"color: #008000; text-decoration-color: #008000\">'Chapter 3 Understanding Derivatives'</span>, <span style=\"color: #008000; text-decoration-color: #008000\">'Chapter 4 Introduction To Structured ILPs'</span><span style=\"font-weight: bold\">]</span>,\n",
       "        <span style=\"color: #008000; text-decoration-color: #008000\">'hasCode'</span>: <span style=\"color: #ff0000; text-decoration-color: #ff0000; font-style: italic\">False</span>,\n",
       "        <span style=\"color: #008000; text-decoration-color: #008000\">'source'</span>: <span style=\"color: #008000; text-decoration-color: #008000\">'../data/M9A_3rd_Edition.pdf'</span>,\n",
       "        <span style=\"color: #008000; text-decoration-color: #008000\">'page'</span>: <span style=\"color: #008080; text-decoration-color: #008080; font-weight: bold\">4</span>\n",
       "    <span style=\"font-weight: bold\">}</span>,\n",
       "    <span style=\"color: #808000; text-decoration-color: #808000\">page_content</span>=<span style=\"color: #008000; text-decoration-color: #008000\">'1. What Is A Structured ILP?  \\nA. Payout Under A Structured ILP  \\nB. Common Terminology  \\n2. </span>\n",
       "<span style=\"color: #008000; text-decoration-color: #008000\">Advantages And Disadvantages Of Structured ILPs  \\nA. Advantages Of Investing In Structured ILPs  \\nB. </span>\n",
       "<span style=\"color: #008000; text-decoration-color: #008000\">Disadvantages Of Investing In Structured ILPs  \\nC. Risk Considerations For Structured ILPs  \\nD. Examples Of </span>\n",
       "<span style=\"color: #008000; text-decoration-color: #008000\">Structured ILPs  \\n3. Who Would Invest In Structured ILPs?  \\n4. When Are Structured ILPs Unsuitable?  \\n5. </span>\n",
       "<span style=\"color: #008000; text-decoration-color: #008000\">Governance  \\nA. Legal Structure Of ILP  \\nB. Investment Guidelines For Retail Funds'</span>\n",
       "<span style=\"font-weight: bold\">)</span>\n",
       "</pre>\n"
      ],
      "text/plain": [
       "\u001b[1;35mDocument\u001b[0m\u001b[1m(\u001b[0m\n",
       "    \u001b[33mmetadata\u001b[0m=\u001b[1m{\u001b[0m\n",
       "        \u001b[32m'title'\u001b[0m: \u001b[1m[\u001b[0m\u001b[32m'Chapter 3 Understanding Derivatives'\u001b[0m, \u001b[32m'Chapter 4 Introduction To Structured ILPs'\u001b[0m\u001b[1m]\u001b[0m,\n",
       "        \u001b[32m'hasCode'\u001b[0m: \u001b[3;91mFalse\u001b[0m,\n",
       "        \u001b[32m'source'\u001b[0m: \u001b[32m'../data/M9A_3rd_Edition.pdf'\u001b[0m,\n",
       "        \u001b[32m'page'\u001b[0m: \u001b[1;36m4\u001b[0m\n",
       "    \u001b[1m}\u001b[0m,\n",
       "    \u001b[33mpage_content\u001b[0m=\u001b[32m'1. What Is A Structured ILP?  \\nA. Payout Under A Structured ILP  \\nB. Common Terminology  \\n2. \u001b[0m\n",
       "\u001b[32mAdvantages And Disadvantages Of Structured ILPs  \\nA. Advantages Of Investing In Structured ILPs  \\nB. \u001b[0m\n",
       "\u001b[32mDisadvantages Of Investing In Structured ILPs  \\nC. Risk Considerations For Structured ILPs  \\nD. Examples Of \u001b[0m\n",
       "\u001b[32mStructured ILPs  \\n3. Who Would Invest In Structured ILPs?  \\n4. When Are Structured ILPs Unsuitable?  \\n5. \u001b[0m\n",
       "\u001b[32mGovernance  \\nA. Legal Structure Of ILP  \\nB. Investment Guidelines For Retail Funds'\u001b[0m\n",
       "\u001b[1m)\u001b[0m\n"
      ]
     },
     "metadata": {},
     "output_type": "display_data"
    }
   ],
   "source": [
    "# splitting documents \n",
    "\n",
    "text_splitter = RecursiveCharacterTextSplitter(chunk_size=500, chunk_overlap=150)\n",
    "\n",
    "schema = {\n",
    "    \"properties\": {\n",
    "        \"title\": {\"type\": \"array\", \"items\": {\"type\": \"string\"}},\n",
    "        \"hasCode\": {\"type\": \"boolean\"},\n",
    "    },\n",
    "    \"required\": [\"title\", \"keywords\", \"hasCode\"],\n",
    "}\n",
    "\n",
    "llm = ChatOpenAI(openai_api_key=os.getenv(\"OPENAI_API_KEY\"), temperature=0, model=\"gpt-3.5-turbo\")\n",
    "\n",
    "document_transformer = create_metadata_tagger(metadata_schema=schema, llm=llm)\n",
    "docs = document_transformer.transform_documents(cleaned_pages)\n",
    "split_docs = text_splitter.split_documents(docs)\n",
    "\n",
    "rprint(len(split_docs))\n",
    "rprint(split_docs[20])\n",
    "rprint(split_docs[21])"
   ]
  },
  {
   "cell_type": "markdown",
   "metadata": {},
   "source": [
    "### Embedding Generation & Vector Store setup"
   ]
  },
  {
   "cell_type": "code",
   "execution_count": 14,
   "metadata": {},
   "outputs": [],
   "source": [
    "embeddings = OpenAIEmbeddings(openai_api_key=os.getenv(\"OPENAI_API_KEY\"))\n",
    "\n",
    "vectorStore = MongoDBAtlasVectorSearch.from_documents(\n",
    "    split_docs, embeddings, collection=collection\n",
    ")"
   ]
  },
  {
   "cell_type": "markdown",
   "metadata": {},
   "source": [
    "### Vector Store Retriever and Vector Store must use the same embedding model"
   ]
  },
  {
   "cell_type": "code",
   "execution_count": 9,
   "metadata": {},
   "outputs": [],
   "source": [
    "vectorStoreRetriever = MongoDBAtlasVectorSearch.from_connection_string(\n",
    "    os.getenv(\"MONGODB_URI\"),\n",
    "    dbName + \".\" + collectionName,\n",
    "    OpenAIEmbeddings(disallowed_special=(), openai_api_key=os.getenv(\"OPENAI_API_KEY\")),\n",
    "    index_name=index,\n",
    ")"
   ]
  },
  {
   "cell_type": "markdown",
   "metadata": {},
   "source": [
    "### Function for querying data"
   ]
  },
  {
   "cell_type": "code",
   "execution_count": 39,
   "metadata": {},
   "outputs": [],
   "source": [
    "retriever = vectorStoreRetriever.as_retriever(\n",
    "        search_type=\"similarity\",\n",
    "        search_kwargs={\"k\": 3, \"pre_filter\": {\"hasCode\": {\"$eq\": False}}},\n",
    "    )\n",
    "\n",
    "def query_data_similarity(query, retriever):\n",
    "    \"\"\"\n",
    "    k: Number of results.\n",
    "    \"\"\"\n",
    "\n",
    "    results = retriever.invoke(query)\n",
    "    rprint(results)\n",
    "\n",
    "    return results\n",
    "\n",
    "\n",
    "def query_data_mmr(query, vectorStore):\n",
    "    \"\"\"\n",
    "    k: Number of results.\n",
    "    lambda: Balance between relevance and diversity (typically between 0 and 1).\n",
    "    ----------------------------------------------------------------------------\n",
    "    Retrieve more documents with higher diversity useful if your dataset has many \n",
    "    similar documents\n",
    "    \"\"\"\n",
    "\n",
    "    retriever = vectorStore.as_retriever(\n",
    "        search_type=\"mmr\",\n",
    "        search_kwargs={\"k\": 3, \"lambda\": 0.5},\n",
    "    )\n",
    "\n",
    "    results = retriever.invoke(query)\n",
    "    filtered_results = [{\"text\": result.text, \"metadata\": result.metadata} for result in results]\n",
    "\n",
    "    rprint(filtered_results)\n",
    "\n",
    "    return filtered_results\n",
    "\n",
    "\n",
    "def query_data_threshold(query, vectorStore):\n",
    "    \"\"\"\n",
    "    k: Number of results.\n",
    "    alpha: Controls the weight between vector similarity and keyword relevance, with 0.5 being an equal balance.\n",
    "    ------------------------------------------------------------------------------------------------------------\n",
    "    Only retrieve documents that have a relevance score above a certain threshold\n",
    "    \"\"\"\n",
    "    \n",
    "    retriever = vectorStore.as_retriever(\n",
    "        search_type=\"similarity_score_threshold\",\n",
    "    )\n",
    "\n",
    "    results = retriever.invoke(query)\n",
    "    rprint(results)\n",
    "\n",
    "    return results\n"
   ]
  },
  {
   "cell_type": "markdown",
   "metadata": {},
   "source": [
    "### Vector Search based on Similarity"
   ]
  },
  {
   "cell_type": "code",
   "execution_count": 40,
   "metadata": {},
   "outputs": [
    {
     "data": {
      "text/html": [
       "<pre style=\"white-space:pre;overflow-x:auto;line-height:normal;font-family:Menlo,'DejaVu Sans Mono',consolas,'Courier New',monospace\"><span style=\"font-weight: bold\">[</span>\n",
       "    <span style=\"color: #800080; text-decoration-color: #800080; font-weight: bold\">Document</span><span style=\"font-weight: bold\">(</span>\n",
       "        <span style=\"color: #808000; text-decoration-color: #808000\">metadata</span>=<span style=\"font-weight: bold\">{</span>\n",
       "            <span style=\"color: #008000; text-decoration-color: #008000\">'_id'</span>: <span style=\"color: #008000; text-decoration-color: #008000\">'671c7fd2d979057b1f309d21'</span>,\n",
       "            <span style=\"color: #008000; text-decoration-color: #008000\">'title'</span>: <span style=\"font-weight: bold\">[</span><span style=\"color: #008000; text-decoration-color: #008000\">'Participation Products'</span>, <span style=\"color: #008000; text-decoration-color: #008000\">'Tracker certificate'</span>, <span style=\"color: #008000; text-decoration-color: #008000\">'Bonus certificate'</span>, <span style=\"color: #008000; text-decoration-color: #008000\">'Airbag certificate'</span><span style=\"font-weight: bold\">]</span>,\n",
       "            <span style=\"color: #008000; text-decoration-color: #008000\">'hasCode'</span>: <span style=\"color: #ff0000; text-decoration-color: #ff0000; font-style: italic\">False</span>,\n",
       "            <span style=\"color: #008000; text-decoration-color: #008000\">'source'</span>: <span style=\"color: #008000; text-decoration-color: #008000\">'../data/M9A_3rd_Edition.pdf'</span>,\n",
       "            <span style=\"color: #008000; text-decoration-color: #008000\">'page'</span>: <span style=\"color: #008080; text-decoration-color: #008080; font-weight: bold\">35</span>\n",
       "        <span style=\"font-weight: bold\">}</span>,\n",
       "        <span style=\"color: #808000; text-decoration-color: #808000\">page_content</span>=<span style=\"color: #008000; text-decoration-color: #008000\">'• Collective Investment Scheme (CIS) – Code on CIS (the “Code”) issued\\nby the MAS.\\n• </span>\n",
       "<span style=\"color: #008000; text-decoration-color: #008000\">Investment-linked Policy - Insurance Act 1966.\\nSuitability of structured products •knowing your client  - his </span>\n",
       "<span style=\"color: #008000; text-decoration-color: #008000\">investment objectives, risk appetite, time\\nhorizon, financial position, investment knowledge and </span>\n",
       "<span style=\"color: #008000; text-decoration-color: #008000\">experience.\\n•know the products under consideration, so that the product features\\nand risk factors can be </span>\n",
       "<span style=\"color: #008000; text-decoration-color: #008000\">explained to the client in a way that he canunderstand.\\nInvestment objectives •\\nSafety.\\n•Income.'</span>\n",
       "    <span style=\"font-weight: bold\">)</span>,\n",
       "    <span style=\"color: #800080; text-decoration-color: #800080; font-weight: bold\">Document</span><span style=\"font-weight: bold\">(</span>\n",
       "        <span style=\"color: #808000; text-decoration-color: #808000\">metadata</span>=<span style=\"font-weight: bold\">{</span>\n",
       "            <span style=\"color: #008000; text-decoration-color: #008000\">'_id'</span>: <span style=\"color: #008000; text-decoration-color: #008000\">'671c7fd2d979057b1f309cdf'</span>,\n",
       "            <span style=\"color: #008000; text-decoration-color: #008000\">'title'</span>: <span style=\"font-weight: bold\">[</span><span style=\"color: #008000; text-decoration-color: #008000\">'Module 9A: Life Insurance and Investment -Linked Policies II'</span><span style=\"font-weight: bold\">]</span>,\n",
       "            <span style=\"color: #008000; text-decoration-color: #008000\">'hasCode'</span>: <span style=\"color: #ff0000; text-decoration-color: #ff0000; font-style: italic\">False</span>,\n",
       "            <span style=\"color: #008000; text-decoration-color: #008000\">'source'</span>: <span style=\"color: #008000; text-decoration-color: #008000\">'../data/M9A_3rd_Edition.pdf'</span>,\n",
       "            <span style=\"color: #008000; text-decoration-color: #008000\">'page'</span>: <span style=\"color: #008080; text-decoration-color: #008080; font-weight: bold\">27</span>\n",
       "        <span style=\"font-weight: bold\">}</span>,\n",
       "        <span style=\"color: #808000; text-decoration-color: #808000\">page_content</span>=<span style=\"color: #008000; text-decoration-color: #008000\">'Module 9A: Life Insurance and Investment -Linked Policies II  \\n22 Copyright reserved by the </span>\n",
       "<span style=\"color: #008000; text-decoration-color: #008000\">Singapore College of Insurance Limited [Version 1. 0]   Market -Maker, there is no guarantee that the investor will</span>\n",
       "<span style=\"color: #008000; text-decoration-color: #008000\">be able to dispose of \\nhis investment at a price which he considers reasonable9. \\n \\nD2.        Collective </span>\n",
       "<span style=\"color: #008000; text-decoration-color: #008000\">Investment Scheme (CIS)  \\n \\n4.18 A CIS is a pooled investment vehicle, where individual investors invest in a </span>\n",
       "<span style=\"color: #008000; text-decoration-color: #008000\">\\ncommon fund, and a professional investment manager directs the investments'</span>\n",
       "    <span style=\"font-weight: bold\">)</span>,\n",
       "    <span style=\"color: #800080; text-decoration-color: #800080; font-weight: bold\">Document</span><span style=\"font-weight: bold\">(</span>\n",
       "        <span style=\"color: #808000; text-decoration-color: #808000\">metadata</span>=<span style=\"font-weight: bold\">{</span>\n",
       "            <span style=\"color: #008000; text-decoration-color: #008000\">'_id'</span>: <span style=\"color: #008000; text-decoration-color: #008000\">'671c7fd2d979057b1f309c6f'</span>,\n",
       "            <span style=\"color: #008000; text-decoration-color: #008000\">'title'</span>: <span style=\"font-weight: bold\">[</span><span style=\"color: #008000; text-decoration-color: #008000\">'Introduction to Structured Products'</span>, <span style=\"color: #008000; text-decoration-color: #008000\">'What Is A Wrapper?'</span><span style=\"font-weight: bold\">]</span>,\n",
       "            <span style=\"color: #008000; text-decoration-color: #008000\">'hasCode'</span>: <span style=\"color: #ff0000; text-decoration-color: #ff0000; font-style: italic\">False</span>,\n",
       "            <span style=\"color: #008000; text-decoration-color: #008000\">'source'</span>: <span style=\"color: #008000; text-decoration-color: #008000\">'../data/M9A_3rd_Edition.pdf'</span>,\n",
       "            <span style=\"color: #008000; text-decoration-color: #008000\">'page'</span>: <span style=\"color: #008080; text-decoration-color: #008080; font-weight: bold\">10</span>\n",
       "        <span style=\"font-weight: bold\">}</span>,\n",
       "        <span style=\"color: #808000; text-decoration-color: #808000\">page_content</span>=<span style=\"color: #008000; text-decoration-color: #008000\">'(c) Structured Funds : These are Collective Investment Schemes (CIS), also \\nknown as </span>\n",
       "<span style=\"color: #008000; text-decoration-color: #008000\">investment funds. In Singapore, most Singapore- domiciled \\ninvestment funds are structured as trusts, while </span>\n",
       "<span style=\"color: #008000; text-decoration-color: #008000\">foreign -domiciled funds are \\ntypically structured as corporations. In the case of a fund structured as a trust, </span>\n",
       "<span style=\"color: #008000; text-decoration-color: #008000\">there is an independent trustee making sure that the fund manager’s operation of the fund is in accordance with the</span>\n",
       "<span style=\"color: #008000; text-decoration-color: #008000\">trust document and'</span>\n",
       "    <span style=\"font-weight: bold\">)</span>\n",
       "<span style=\"font-weight: bold\">]</span>\n",
       "</pre>\n"
      ],
      "text/plain": [
       "\u001b[1m[\u001b[0m\n",
       "    \u001b[1;35mDocument\u001b[0m\u001b[1m(\u001b[0m\n",
       "        \u001b[33mmetadata\u001b[0m=\u001b[1m{\u001b[0m\n",
       "            \u001b[32m'_id'\u001b[0m: \u001b[32m'671c7fd2d979057b1f309d21'\u001b[0m,\n",
       "            \u001b[32m'title'\u001b[0m: \u001b[1m[\u001b[0m\u001b[32m'Participation Products'\u001b[0m, \u001b[32m'Tracker certificate'\u001b[0m, \u001b[32m'Bonus certificate'\u001b[0m, \u001b[32m'Airbag certificate'\u001b[0m\u001b[1m]\u001b[0m,\n",
       "            \u001b[32m'hasCode'\u001b[0m: \u001b[3;91mFalse\u001b[0m,\n",
       "            \u001b[32m'source'\u001b[0m: \u001b[32m'../data/M9A_3rd_Edition.pdf'\u001b[0m,\n",
       "            \u001b[32m'page'\u001b[0m: \u001b[1;36m35\u001b[0m\n",
       "        \u001b[1m}\u001b[0m,\n",
       "        \u001b[33mpage_content\u001b[0m=\u001b[32m'• Collective Investment Scheme \u001b[0m\u001b[32m(\u001b[0m\u001b[32mCIS\u001b[0m\u001b[32m)\u001b[0m\u001b[32m – Code on CIS \u001b[0m\u001b[32m(\u001b[0m\u001b[32mthe “Code”\u001b[0m\u001b[32m)\u001b[0m\u001b[32m issued\\nby the MAS.\\n• \u001b[0m\n",
       "\u001b[32mInvestment-linked Policy - Insurance Act 1966.\\nSuitability of structured products •knowing your client  - his \u001b[0m\n",
       "\u001b[32minvestment objectives, risk appetite, time\\nhorizon, financial position, investment knowledge and \u001b[0m\n",
       "\u001b[32mexperience.\\n•know the products under consideration, so that the product features\\nand risk factors can be \u001b[0m\n",
       "\u001b[32mexplained to the client in a way that he canunderstand.\\nInvestment objectives •\\nSafety.\\n•Income.'\u001b[0m\n",
       "    \u001b[1m)\u001b[0m,\n",
       "    \u001b[1;35mDocument\u001b[0m\u001b[1m(\u001b[0m\n",
       "        \u001b[33mmetadata\u001b[0m=\u001b[1m{\u001b[0m\n",
       "            \u001b[32m'_id'\u001b[0m: \u001b[32m'671c7fd2d979057b1f309cdf'\u001b[0m,\n",
       "            \u001b[32m'title'\u001b[0m: \u001b[1m[\u001b[0m\u001b[32m'Module 9A: Life Insurance and Investment -Linked Policies II'\u001b[0m\u001b[1m]\u001b[0m,\n",
       "            \u001b[32m'hasCode'\u001b[0m: \u001b[3;91mFalse\u001b[0m,\n",
       "            \u001b[32m'source'\u001b[0m: \u001b[32m'../data/M9A_3rd_Edition.pdf'\u001b[0m,\n",
       "            \u001b[32m'page'\u001b[0m: \u001b[1;36m27\u001b[0m\n",
       "        \u001b[1m}\u001b[0m,\n",
       "        \u001b[33mpage_content\u001b[0m=\u001b[32m'Module 9A: Life Insurance and Investment -Linked Policies II  \\n22 Copyright reserved by the \u001b[0m\n",
       "\u001b[32mSingapore College of Insurance Limited \u001b[0m\u001b[32m[\u001b[0m\u001b[32mVersion 1. 0\u001b[0m\u001b[32m]\u001b[0m\u001b[32m   Market -Maker, there is no guarantee that the investor will\u001b[0m\n",
       "\u001b[32mbe able to dispose of \\nhis investment at a price which he considers reasonable9. \\n \\nD2.        Collective \u001b[0m\n",
       "\u001b[32mInvestment Scheme \u001b[0m\u001b[32m(\u001b[0m\u001b[32mCIS\u001b[0m\u001b[32m)\u001b[0m\u001b[32m  \\n \\n4.18 A CIS is a pooled investment vehicle, where individual investors invest in a \u001b[0m\n",
       "\u001b[32m\\ncommon fund, and a professional investment manager directs the investments'\u001b[0m\n",
       "    \u001b[1m)\u001b[0m,\n",
       "    \u001b[1;35mDocument\u001b[0m\u001b[1m(\u001b[0m\n",
       "        \u001b[33mmetadata\u001b[0m=\u001b[1m{\u001b[0m\n",
       "            \u001b[32m'_id'\u001b[0m: \u001b[32m'671c7fd2d979057b1f309c6f'\u001b[0m,\n",
       "            \u001b[32m'title'\u001b[0m: \u001b[1m[\u001b[0m\u001b[32m'Introduction to Structured Products'\u001b[0m, \u001b[32m'What Is A Wrapper?'\u001b[0m\u001b[1m]\u001b[0m,\n",
       "            \u001b[32m'hasCode'\u001b[0m: \u001b[3;91mFalse\u001b[0m,\n",
       "            \u001b[32m'source'\u001b[0m: \u001b[32m'../data/M9A_3rd_Edition.pdf'\u001b[0m,\n",
       "            \u001b[32m'page'\u001b[0m: \u001b[1;36m10\u001b[0m\n",
       "        \u001b[1m}\u001b[0m,\n",
       "        \u001b[33mpage_content\u001b[0m=\u001b[32m'\u001b[0m\u001b[32m(\u001b[0m\u001b[32mc\u001b[0m\u001b[32m)\u001b[0m\u001b[32m Structured Funds : These are Collective Investment Schemes \u001b[0m\u001b[32m(\u001b[0m\u001b[32mCIS\u001b[0m\u001b[32m)\u001b[0m\u001b[32m, also \\nknown as \u001b[0m\n",
       "\u001b[32minvestment funds. In Singapore, most Singapore- domiciled \\ninvestment funds are structured as trusts, while \u001b[0m\n",
       "\u001b[32mforeign -domiciled funds are \\ntypically structured as corporations. In the case of a fund structured as a trust, \u001b[0m\n",
       "\u001b[32mthere is an independent trustee making sure that the fund manager’s operation of the fund is in accordance with the\u001b[0m\n",
       "\u001b[32mtrust document and'\u001b[0m\n",
       "    \u001b[1m)\u001b[0m\n",
       "\u001b[1m]\u001b[0m\n"
      ]
     },
     "metadata": {},
     "output_type": "display_data"
    },
    {
     "data": {
      "text/plain": [
       "[Document(metadata={'_id': '671c7fd2d979057b1f309d21', 'title': ['Participation Products', 'Tracker certificate', 'Bonus certificate', 'Airbag certificate'], 'hasCode': False, 'source': '../data/M9A_3rd_Edition.pdf', 'page': 35}, page_content='• Collective Investment Scheme (CIS) – Code on CIS (the “Code”) issued\\nby the MAS.\\n• Investment-linked Policy - Insurance Act 1966.\\nSuitability of structured products •knowing your client  - his investment objectives, risk appetite, time\\nhorizon, financial position, investment knowledge and experience.\\n•know the products under consideration, so that the product features\\nand risk factors can be explained to the client in a way that he canunderstand.\\nInvestment objectives •\\nSafety.\\n•Income.'),\n",
       " Document(metadata={'_id': '671c7fd2d979057b1f309cdf', 'title': ['Module 9A: Life Insurance and Investment -Linked Policies II'], 'hasCode': False, 'source': '../data/M9A_3rd_Edition.pdf', 'page': 27}, page_content='Module 9A: Life Insurance and Investment -Linked Policies II  \\n22 Copyright reserved by the Singapore College of Insurance Limited [Version 1. 0]   Market -Maker, there is no guarantee that the investor will be able to dispose of \\nhis investment at a price which he considers reasonable9. \\n \\nD2.        Collective Investment Scheme (CIS)  \\n \\n4.18 A CIS is a pooled investment vehicle, where individual investors invest in a \\ncommon fund, and a professional investment manager directs the investments'),\n",
       " Document(metadata={'_id': '671c7fd2d979057b1f309c6f', 'title': ['Introduction to Structured Products', 'What Is A Wrapper?'], 'hasCode': False, 'source': '../data/M9A_3rd_Edition.pdf', 'page': 10}, page_content='(c) Structured Funds : These are Collective Investment Schemes (CIS), also \\nknown as investment funds. In Singapore, most Singapore- domiciled \\ninvestment funds are structured as trusts, while foreign -domiciled funds are \\ntypically structured as corporations. In the case of a fund structured as a trust, there is an independent trustee making sure that the fund manager’s operation of the fund is in accordance with the trust document and')]"
      ]
     },
     "execution_count": 40,
     "metadata": {},
     "output_type": "execute_result"
    }
   ],
   "source": [
    "query = \"What is Collective Investment Scheme (CIS)\"\n",
    "\n",
    "query_data_similarity(query, retriever)"
   ]
  },
  {
   "cell_type": "markdown",
   "metadata": {},
   "source": [
    "### Function for getting a document by id"
   ]
  },
  {
   "cell_type": "code",
   "execution_count": 35,
   "metadata": {},
   "outputs": [
    {
     "data": {
      "text/html": [
       "<pre style=\"white-space:pre;overflow-x:auto;line-height:normal;font-family:Menlo,'DejaVu Sans Mono',consolas,'Courier New',monospace\"><span style=\"font-weight: bold\">[</span>\n",
       "    <span style=\"font-weight: bold\">{</span>\n",
       "        <span style=\"color: #008000; text-decoration-color: #008000\">'_id'</span>: <span style=\"color: #800080; text-decoration-color: #800080; font-weight: bold\">ObjectId</span><span style=\"font-weight: bold\">(</span><span style=\"color: #008000; text-decoration-color: #008000\">'671c7fd2d979057b1f309c45'</span><span style=\"font-weight: bold\">)</span>,\n",
       "        <span style=\"color: #008000; text-decoration-color: #008000\">'text'</span>: <span style=\"color: #008000; text-decoration-color: #008000\">'B. Practical Examples Of Forward Contracts  \\nC. Summary Of Forward Contracts  \\nD. History Of </span>\n",
       "<span style=\"color: #008000; text-decoration-color: #008000\">Futures Contracts  \\nE. Pricing Of Futures Contracts  \\nF. Margin (Futures Contracts)  \\nG. Market Participants  </span>\n",
       "<span style=\"color: #008000; text-decoration-color: #008000\">\\nH. Futures Trading Strategies  \\n3. Options And Warrants  \\nA. Risk Profile Of Option / Warrant  \\nB. Plain </span>\n",
       "<span style=\"color: #008000; text-decoration-color: #008000\">Vanilla Versus Exotic Option  \\nC. Basic Option Trading Strategies  \\nD. Bullish Option Strategies  \\nE. Bearish </span>\n",
       "<span style=\"color: #008000; text-decoration-color: #008000\">Opt ion Strategies  \\nF. Neutral Option Strategies  \\nG. Summary Of Options'</span>,\n",
       "        <span style=\"color: #008000; text-decoration-color: #008000\">'title'</span>: <span style=\"font-weight: bold\">[</span><span style=\"color: #008000; text-decoration-color: #008000\">'Chapter 3 Understanding Derivatives'</span>, <span style=\"color: #008000; text-decoration-color: #008000\">'Chapter 4 Introduction To Structured ILPs'</span><span style=\"font-weight: bold\">]</span>,\n",
       "        <span style=\"color: #008000; text-decoration-color: #008000\">'source'</span>: <span style=\"color: #008000; text-decoration-color: #008000\">'../data/M9A_3rd_Edition.pdf'</span>,\n",
       "        <span style=\"color: #008000; text-decoration-color: #008000\">'page'</span>: <span style=\"color: #008080; text-decoration-color: #008080; font-weight: bold\">4</span>\n",
       "    <span style=\"font-weight: bold\">}</span>,\n",
       "    <span style=\"font-weight: bold\">{</span>\n",
       "        <span style=\"color: #008000; text-decoration-color: #008000\">'_id'</span>: <span style=\"color: #800080; text-decoration-color: #800080; font-weight: bold\">ObjectId</span><span style=\"font-weight: bold\">(</span><span style=\"color: #008000; text-decoration-color: #008000\">'671c7fd2d979057b1f309c46'</span><span style=\"font-weight: bold\">)</span>,\n",
       "        <span style=\"color: #008000; text-decoration-color: #008000\">'text'</span>: <span style=\"color: #008000; text-decoration-color: #008000\">'D. Bullish Option Strategies  \\nE. Bearish Opt ion Strategies  \\nF. Neutral Option Strategies  </span>\n",
       "<span style=\"color: #008000; text-decoration-color: #008000\">\\nG. Summary Of Options  \\n4. Swaps  \\nA. Interest Rate Swaps  \\nB. Currency Swaps  \\nC. Credit Default Swap (CDS) </span>\n",
       "<span style=\"color: #008000; text-decoration-color: #008000\">\\nD. Equity Swaps  \\nE. Commodity Swaps  \\n5. Contract For Differences (CFD)  \\n \\n \\nChapter 4 Introduction To </span>\n",
       "<span style=\"color: #008000; text-decoration-color: #008000\">Structured I LPs 73 \\n \\n1. What Is A Structured ILP?  \\nA. Payout Under A Structured ILP  \\nB. Common Terminology </span>\n",
       "<span style=\"color: #008000; text-decoration-color: #008000\">\\n2. Advantages And Disadvantages Of Structured ILPs'</span>,\n",
       "        <span style=\"color: #008000; text-decoration-color: #008000\">'title'</span>: <span style=\"font-weight: bold\">[</span><span style=\"color: #008000; text-decoration-color: #008000\">'Chapter 3 Understanding Derivatives'</span>, <span style=\"color: #008000; text-decoration-color: #008000\">'Chapter 4 Introduction To Structured ILPs'</span><span style=\"font-weight: bold\">]</span>,\n",
       "        <span style=\"color: #008000; text-decoration-color: #008000\">'source'</span>: <span style=\"color: #008000; text-decoration-color: #008000\">'../data/M9A_3rd_Edition.pdf'</span>,\n",
       "        <span style=\"color: #008000; text-decoration-color: #008000\">'page'</span>: <span style=\"color: #008080; text-decoration-color: #008080; font-weight: bold\">4</span>\n",
       "    <span style=\"font-weight: bold\">}</span>\n",
       "<span style=\"font-weight: bold\">]</span>\n",
       "</pre>\n"
      ],
      "text/plain": [
       "\u001b[1m[\u001b[0m\n",
       "    \u001b[1m{\u001b[0m\n",
       "        \u001b[32m'_id'\u001b[0m: \u001b[1;35mObjectId\u001b[0m\u001b[1m(\u001b[0m\u001b[32m'671c7fd2d979057b1f309c45'\u001b[0m\u001b[1m)\u001b[0m,\n",
       "        \u001b[32m'text'\u001b[0m: \u001b[32m'B. Practical Examples Of Forward Contracts  \\nC. Summary Of Forward Contracts  \\nD. History Of \u001b[0m\n",
       "\u001b[32mFutures Contracts  \\nE. Pricing Of Futures Contracts  \\nF. Margin \u001b[0m\u001b[32m(\u001b[0m\u001b[32mFutures Contracts\u001b[0m\u001b[32m)\u001b[0m\u001b[32m  \\nG. Market Participants  \u001b[0m\n",
       "\u001b[32m\\nH. Futures Trading Strategies  \\n3. Options And Warrants  \\nA. Risk Profile Of Option / Warrant  \\nB. Plain \u001b[0m\n",
       "\u001b[32mVanilla Versus Exotic Option  \\nC. Basic Option Trading Strategies  \\nD. Bullish Option Strategies  \\nE. Bearish \u001b[0m\n",
       "\u001b[32mOpt ion Strategies  \\nF. Neutral Option Strategies  \\nG. Summary Of Options'\u001b[0m,\n",
       "        \u001b[32m'title'\u001b[0m: \u001b[1m[\u001b[0m\u001b[32m'Chapter 3 Understanding Derivatives'\u001b[0m, \u001b[32m'Chapter 4 Introduction To Structured ILPs'\u001b[0m\u001b[1m]\u001b[0m,\n",
       "        \u001b[32m'source'\u001b[0m: \u001b[32m'../data/M9A_3rd_Edition.pdf'\u001b[0m,\n",
       "        \u001b[32m'page'\u001b[0m: \u001b[1;36m4\u001b[0m\n",
       "    \u001b[1m}\u001b[0m,\n",
       "    \u001b[1m{\u001b[0m\n",
       "        \u001b[32m'_id'\u001b[0m: \u001b[1;35mObjectId\u001b[0m\u001b[1m(\u001b[0m\u001b[32m'671c7fd2d979057b1f309c46'\u001b[0m\u001b[1m)\u001b[0m,\n",
       "        \u001b[32m'text'\u001b[0m: \u001b[32m'D. Bullish Option Strategies  \\nE. Bearish Opt ion Strategies  \\nF. Neutral Option Strategies  \u001b[0m\n",
       "\u001b[32m\\nG. Summary Of Options  \\n4. Swaps  \\nA. Interest Rate Swaps  \\nB. Currency Swaps  \\nC. Credit Default Swap \u001b[0m\u001b[32m(\u001b[0m\u001b[32mCDS\u001b[0m\u001b[32m)\u001b[0m\u001b[32m \u001b[0m\n",
       "\u001b[32m\\nD. Equity Swaps  \\nE. Commodity Swaps  \\n5. Contract For Differences \u001b[0m\u001b[32m(\u001b[0m\u001b[32mCFD\u001b[0m\u001b[32m)\u001b[0m\u001b[32m  \\n \\n \\nChapter 4 Introduction To \u001b[0m\n",
       "\u001b[32mStructured I LPs 73 \\n \\n1. What Is A Structured ILP?  \\nA. Payout Under A Structured ILP  \\nB. Common Terminology \u001b[0m\n",
       "\u001b[32m\\n2. Advantages And Disadvantages Of Structured ILPs'\u001b[0m,\n",
       "        \u001b[32m'title'\u001b[0m: \u001b[1m[\u001b[0m\u001b[32m'Chapter 3 Understanding Derivatives'\u001b[0m, \u001b[32m'Chapter 4 Introduction To Structured ILPs'\u001b[0m\u001b[1m]\u001b[0m,\n",
       "        \u001b[32m'source'\u001b[0m: \u001b[32m'../data/M9A_3rd_Edition.pdf'\u001b[0m,\n",
       "        \u001b[32m'page'\u001b[0m: \u001b[1;36m4\u001b[0m\n",
       "    \u001b[1m}\u001b[0m\n",
       "\u001b[1m]\u001b[0m\n"
      ]
     },
     "metadata": {},
     "output_type": "display_data"
    }
   ],
   "source": [
    "def get_documents_by_ids(ids, collection):\n",
    "    object_ids = [ObjectId(id) for id in ids]\n",
    "    documents = collection.find({\"_id\": {\"$in\": object_ids}})\n",
    "    result = [{\"_id\": document[\"_id\"], \"text\": document[\"text\"], \"title\": document[\"title\"], \"source\": document[\"source\"], \"page\": document[\"page\"]} for document in documents]\n",
    "    return result\n",
    "\n",
    "ids = [\"671c7fd2d979057b1f309c45\", \"671c7fd2d979057b1f309c46\"]\n",
    "documents = get_documents_by_ids(ids, collection)\n",
    "rprint(documents)"
   ]
  },
  {
   "cell_type": "markdown",
   "metadata": {},
   "source": [
    "### Prompt Engineering"
   ]
  },
  {
   "cell_type": "code",
   "execution_count": 44,
   "metadata": {},
   "outputs": [
    {
     "data": {
      "text/html": [
       "<pre style=\"white-space:pre;overflow-x:auto;line-height:normal;font-family:Menlo,'DejaVu Sans Mono',consolas,'Courier New',monospace\">Collective Investment Scheme <span style=\"font-weight: bold\">(</span>CIS<span style=\"font-weight: bold\">)</span> is a pooled investment vehicle where individual investors invest in a common \n",
       "fund, and a professional investment manager directs the investments.\n",
       "</pre>\n"
      ],
      "text/plain": [
       "Collective Investment Scheme \u001b[1m(\u001b[0mCIS\u001b[1m)\u001b[0m is a pooled investment vehicle where individual investors invest in a common \n",
       "fund, and a professional investment manager directs the investments.\n"
      ]
     },
     "metadata": {},
     "output_type": "display_data"
    }
   ],
   "source": [
    "template = \"\"\"\n",
    "Use the following pieces of context to answer the question at the end.\n",
    "If you don't know the answer, just say that you don't know, don't try to make up an answer.\n",
    "Do not answer the question if there is no given context.\n",
    "Do no answer the question if it is not related to the context.\n",
    "Context:\n",
    "{context}\n",
    "Question: {question}\n",
    "\"\"\"\n",
    "custom_rag_prompt = PromptTemplate.from_template(template)\n",
    "retrieve = {\n",
    "    \"context\": retriever | (lambda docs: \"\\n\\n\".join([d.page_content for d in docs])),\n",
    "    \"question\": RunnablePassthrough()\n",
    "}\n",
    "\n",
    "llm = ChatOpenAI(openai_api_key=os.getenv(\"OPENAI_API_KEY\"), temperature=0)\n",
    "\n",
    "response_parser = StrOutputParser()\n",
    "\n",
    "rag_chain = (\n",
    "    retrieve\n",
    "    | custom_rag_prompt\n",
    "    | llm\n",
    "    | response_parser\n",
    ")\n",
    "\n",
    "rprint(rag_chain.invoke(query))"
   ]
  }
 ],
 "metadata": {
  "kernelspec": {
   "display_name": "Python 3",
   "language": "python",
   "name": "python3"
  },
  "language_info": {
   "codemirror_mode": {
    "name": "ipython",
    "version": 3
   },
   "file_extension": ".py",
   "mimetype": "text/x-python",
   "name": "python",
   "nbconvert_exporter": "python",
   "pygments_lexer": "ipython3",
   "version": "3.10.12"
  }
 },
 "nbformat": 4,
 "nbformat_minor": 2
}
